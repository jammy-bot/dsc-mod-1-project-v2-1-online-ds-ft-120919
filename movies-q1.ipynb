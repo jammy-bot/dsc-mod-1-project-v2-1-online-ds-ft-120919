{
 "cells": [
  {
   "cell_type": "markdown",
   "metadata": {},
   "source": [
    "##### movies-q1 notebook\n",
    "***"
   ]
  },
  {
   "cell_type": "markdown",
   "metadata": {},
   "source": [
    "<h1>Question 1 - What are the highest grossing, recent movies?</h1>"
   ]
  },
  {
   "cell_type": "markdown",
   "metadata": {},
   "source": [
    "***"
   ]
  },
  {
   "cell_type": "markdown",
   "metadata": {},
   "source": [
    "### Let's set the scene and explore our first question:\n",
    "    1. How does the industry look?\n",
    "    2. What are the top grossing movies for the most recent, full year?\n",
    "    3. What are the top grossing movies, including the additional 2 years prior?"
   ]
  },
  {
   "cell_type": "markdown",
   "metadata": {},
   "source": [
    "## import required libraries"
   ]
  },
  {
   "cell_type": "code",
   "execution_count": 1,
   "metadata": {},
   "outputs": [],
   "source": [
    "import os # for setting the current directory\n",
    "\n",
    "import numpy as np\n",
    "import pandas as pd\n",
    "\n",
    "import sqlite3\n",
    "import pandasql\n",
    "\n",
    "import matplotlib.pyplot as plt\n",
    "%matplotlib inline\n",
    "\n",
    "import seaborn as sns"
   ]
  },
  {
   "cell_type": "code",
   "execution_count": 2,
   "metadata": {},
   "outputs": [
    {
     "name": "stdout",
     "output_type": "stream",
     "text": [
      "c:\\users\\jd\\flatiron\\project01\\dsc-mod-1-project-v2-1-online-ds-ft-120919\n"
     ]
    }
   ],
   "source": [
    "# set the current working directory\n",
    "os.chdir(\"c:/users/jd/flatiron/project01/dsc-mod-1-project-v2-1-online-ds-ft-120919/\")\n",
    "\n",
    "# print the current working directory\n",
    "print(os.getcwd())"
   ]
  },
  {
   "cell_type": "markdown",
   "metadata": {},
   "source": [
    "### connect to sqlite database"
   ]
  },
  {
   "cell_type": "code",
   "execution_count": 3,
   "metadata": {},
   "outputs": [],
   "source": [
    "# connect to sql movies_db data source and instantiate a cursor\n",
    "conn = sqlite3.connect(\"movies_db.sqlite\")\n",
    "cur = conn.cursor()"
   ]
  },
  {
   "cell_type": "markdown",
   "metadata": {},
   "source": [
    "### list the sqlite table names"
   ]
  },
  {
   "cell_type": "code",
   "execution_count": 4,
   "metadata": {},
   "outputs": [
    {
     "data": {
      "text/plain": [
       "['clean_bom_tbl', 'clean_tn_tbl', 'clean_imdb_title_tbl']"
      ]
     },
     "execution_count": 4,
     "metadata": {},
     "output_type": "execute_result"
    }
   ],
   "source": [
    "# get names of all tables in the sql database\n",
    "sql_tables = conn.execute(\"select name from sqlite_master where type='table';\")\n",
    "\n",
    "# assign table names to a variable as a list for future iteration\n",
    "table_list = list(map(lambda x: x[0], sql_tables.fetchall()))\n",
    "table_list"
   ]
  },
  {
   "cell_type": "markdown",
   "metadata": {},
   "source": [
    "***"
   ]
  },
  {
   "cell_type": "markdown",
   "metadata": {},
   "source": [
    "<h2 align='center'><font color='chocolate'>Highest grossing movies</font></h2>"
   ]
  },
  {
   "cell_type": "code",
   "execution_count": 5,
   "metadata": {},
   "outputs": [
    {
     "data": {
      "text/html": [
       "<div>\n",
       "<style scoped>\n",
       "    .dataframe tbody tr th:only-of-type {\n",
       "        vertical-align: middle;\n",
       "    }\n",
       "\n",
       "    .dataframe tbody tr th {\n",
       "        vertical-align: top;\n",
       "    }\n",
       "\n",
       "    .dataframe thead th {\n",
       "        text-align: right;\n",
       "    }\n",
       "</style>\n",
       "<table border=\"1\" class=\"dataframe\">\n",
       "  <thead>\n",
       "    <tr style=\"text-align: right;\">\n",
       "      <th></th>\n",
       "      <th>index</th>\n",
       "      <th>title</th>\n",
       "      <th>studio</th>\n",
       "      <th>domestic_gross</th>\n",
       "      <th>foreign_gross</th>\n",
       "      <th>year</th>\n",
       "      <th>Total_gross</th>\n",
       "    </tr>\n",
       "  </thead>\n",
       "  <tbody>\n",
       "    <tr>\n",
       "      <td>0</td>\n",
       "      <td>0</td>\n",
       "      <td>Toy Story 3</td>\n",
       "      <td>BV</td>\n",
       "      <td>415000000.0</td>\n",
       "      <td>652000000.0</td>\n",
       "      <td>2010</td>\n",
       "      <td>1.067000e+09</td>\n",
       "    </tr>\n",
       "    <tr>\n",
       "      <td>1</td>\n",
       "      <td>1</td>\n",
       "      <td>Alice in Wonderland (2010)</td>\n",
       "      <td>BV</td>\n",
       "      <td>334200000.0</td>\n",
       "      <td>691300000.0</td>\n",
       "      <td>2010</td>\n",
       "      <td>1.025500e+09</td>\n",
       "    </tr>\n",
       "    <tr>\n",
       "      <td>2</td>\n",
       "      <td>2</td>\n",
       "      <td>Harry Potter and the Deathly Hallows Part 1</td>\n",
       "      <td>WB</td>\n",
       "      <td>296000000.0</td>\n",
       "      <td>664300000.0</td>\n",
       "      <td>2010</td>\n",
       "      <td>9.603000e+08</td>\n",
       "    </tr>\n",
       "    <tr>\n",
       "      <td>3</td>\n",
       "      <td>3</td>\n",
       "      <td>Inception</td>\n",
       "      <td>WB</td>\n",
       "      <td>292600000.0</td>\n",
       "      <td>535700000.0</td>\n",
       "      <td>2010</td>\n",
       "      <td>8.283000e+08</td>\n",
       "    </tr>\n",
       "    <tr>\n",
       "      <td>4</td>\n",
       "      <td>4</td>\n",
       "      <td>Shrek Forever After</td>\n",
       "      <td>P/DW</td>\n",
       "      <td>238700000.0</td>\n",
       "      <td>513900000.0</td>\n",
       "      <td>2010</td>\n",
       "      <td>7.526000e+08</td>\n",
       "    </tr>\n",
       "  </tbody>\n",
       "</table>\n",
       "</div>"
      ],
      "text/plain": [
       "   index                                        title studio  domestic_gross  \\\n",
       "0      0                                  Toy Story 3     BV     415000000.0   \n",
       "1      1                   Alice in Wonderland (2010)     BV     334200000.0   \n",
       "2      2  Harry Potter and the Deathly Hallows Part 1     WB     296000000.0   \n",
       "3      3                                    Inception     WB     292600000.0   \n",
       "4      4                          Shrek Forever After   P/DW     238700000.0   \n",
       "\n",
       "   foreign_gross  year   Total_gross  \n",
       "0    652000000.0  2010  1.067000e+09  \n",
       "1    691300000.0  2010  1.025500e+09  \n",
       "2    664300000.0  2010  9.603000e+08  \n",
       "3    535700000.0  2010  8.283000e+08  \n",
       "4    513900000.0  2010  7.526000e+08  "
      ]
     },
     "execution_count": 5,
     "metadata": {},
     "output_type": "execute_result"
    }
   ],
   "source": [
    "# connect to the required tables\n",
    "cur.execute('''SELECT *\n",
    "                    FROM clean_bom_tbl\n",
    "                    ;''')\n",
    "\n",
    "bom_df = pd.DataFrame(cur.fetchall())\n",
    "bom_df.columns = [x[0] for x in cur.description]\n",
    "bom_df.head(5)"
   ]
  },
  {
   "cell_type": "code",
   "execution_count": 6,
   "metadata": {},
   "outputs": [
    {
     "data": {
      "text/html": [
       "<div>\n",
       "<style scoped>\n",
       "    .dataframe tbody tr th:only-of-type {\n",
       "        vertical-align: middle;\n",
       "    }\n",
       "\n",
       "    .dataframe tbody tr th {\n",
       "        vertical-align: top;\n",
       "    }\n",
       "\n",
       "    .dataframe thead th {\n",
       "        text-align: right;\n",
       "    }\n",
       "</style>\n",
       "<table border=\"1\" class=\"dataframe\">\n",
       "  <thead>\n",
       "    <tr style=\"text-align: right;\">\n",
       "      <th></th>\n",
       "      <th>index</th>\n",
       "      <th>title</th>\n",
       "      <th>studio</th>\n",
       "      <th>domestic_gross</th>\n",
       "      <th>foreign_gross</th>\n",
       "      <th>year</th>\n",
       "      <th>Total_gross</th>\n",
       "    </tr>\n",
       "  </thead>\n",
       "  <tbody>\n",
       "    <tr>\n",
       "      <td>3075</td>\n",
       "      <td>3080</td>\n",
       "      <td>Black Panther</td>\n",
       "      <td>BV</td>\n",
       "      <td>700100000.0</td>\n",
       "      <td>646900000.0</td>\n",
       "      <td>2018</td>\n",
       "      <td>1.347000e+09</td>\n",
       "    </tr>\n",
       "    <tr>\n",
       "      <td>3076</td>\n",
       "      <td>3081</td>\n",
       "      <td>Jurassic World: Fallen Kingdom</td>\n",
       "      <td>Uni.</td>\n",
       "      <td>417700000.0</td>\n",
       "      <td>891800000.0</td>\n",
       "      <td>2018</td>\n",
       "      <td>1.309500e+09</td>\n",
       "    </tr>\n",
       "    <tr>\n",
       "      <td>3077</td>\n",
       "      <td>3082</td>\n",
       "      <td>Incredibles 2</td>\n",
       "      <td>BV</td>\n",
       "      <td>608600000.0</td>\n",
       "      <td>634200000.0</td>\n",
       "      <td>2018</td>\n",
       "      <td>1.242800e+09</td>\n",
       "    </tr>\n",
       "    <tr>\n",
       "      <td>3078</td>\n",
       "      <td>3083</td>\n",
       "      <td>Aquaman</td>\n",
       "      <td>WB</td>\n",
       "      <td>335100000.0</td>\n",
       "      <td>812700000.0</td>\n",
       "      <td>2018</td>\n",
       "      <td>1.147800e+09</td>\n",
       "    </tr>\n",
       "    <tr>\n",
       "      <td>3079</td>\n",
       "      <td>3084</td>\n",
       "      <td>Bohemian Rhapsody</td>\n",
       "      <td>Fox</td>\n",
       "      <td>216400000.0</td>\n",
       "      <td>687200000.0</td>\n",
       "      <td>2018</td>\n",
       "      <td>9.036000e+08</td>\n",
       "    </tr>\n",
       "    <tr>\n",
       "      <td>3080</td>\n",
       "      <td>3085</td>\n",
       "      <td>Venom (2018)</td>\n",
       "      <td>Sony</td>\n",
       "      <td>213500000.0</td>\n",
       "      <td>641500000.0</td>\n",
       "      <td>2018</td>\n",
       "      <td>8.550000e+08</td>\n",
       "    </tr>\n",
       "    <tr>\n",
       "      <td>3081</td>\n",
       "      <td>3086</td>\n",
       "      <td>Mission: Impossible - Fallout</td>\n",
       "      <td>Par.</td>\n",
       "      <td>220200000.0</td>\n",
       "      <td>571000000.0</td>\n",
       "      <td>2018</td>\n",
       "      <td>7.912000e+08</td>\n",
       "    </tr>\n",
       "    <tr>\n",
       "      <td>3082</td>\n",
       "      <td>3087</td>\n",
       "      <td>Deadpool 2</td>\n",
       "      <td>Fox</td>\n",
       "      <td>318500000.0</td>\n",
       "      <td>460500000.0</td>\n",
       "      <td>2018</td>\n",
       "      <td>7.790000e+08</td>\n",
       "    </tr>\n",
       "    <tr>\n",
       "      <td>3074</td>\n",
       "      <td>3079</td>\n",
       "      <td>Avengers: Infinity War</td>\n",
       "      <td>BV</td>\n",
       "      <td>678800000.0</td>\n",
       "      <td>1369.5</td>\n",
       "      <td>2018</td>\n",
       "      <td>6.788014e+08</td>\n",
       "    </tr>\n",
       "    <tr>\n",
       "      <td>3083</td>\n",
       "      <td>3088</td>\n",
       "      <td>Fantastic Beasts: The Crimes of Grindelwald</td>\n",
       "      <td>WB</td>\n",
       "      <td>159600000.0</td>\n",
       "      <td>494100000.0</td>\n",
       "      <td>2018</td>\n",
       "      <td>6.537000e+08</td>\n",
       "    </tr>\n",
       "  </tbody>\n",
       "</table>\n",
       "</div>"
      ],
      "text/plain": [
       "      index                                        title studio  \\\n",
       "3075   3080                                Black Panther     BV   \n",
       "3076   3081               Jurassic World: Fallen Kingdom   Uni.   \n",
       "3077   3082                                Incredibles 2     BV   \n",
       "3078   3083                                      Aquaman     WB   \n",
       "3079   3084                            Bohemian Rhapsody    Fox   \n",
       "3080   3085                                 Venom (2018)   Sony   \n",
       "3081   3086                Mission: Impossible - Fallout   Par.   \n",
       "3082   3087                                   Deadpool 2    Fox   \n",
       "3074   3079                       Avengers: Infinity War     BV   \n",
       "3083   3088  Fantastic Beasts: The Crimes of Grindelwald     WB   \n",
       "\n",
       "      domestic_gross  foreign_gross  year   Total_gross  \n",
       "3075     700100000.0    646900000.0  2018  1.347000e+09  \n",
       "3076     417700000.0    891800000.0  2018  1.309500e+09  \n",
       "3077     608600000.0    634200000.0  2018  1.242800e+09  \n",
       "3078     335100000.0    812700000.0  2018  1.147800e+09  \n",
       "3079     216400000.0    687200000.0  2018  9.036000e+08  \n",
       "3080     213500000.0    641500000.0  2018  8.550000e+08  \n",
       "3081     220200000.0    571000000.0  2018  7.912000e+08  \n",
       "3082     318500000.0    460500000.0  2018  7.790000e+08  \n",
       "3074     678800000.0         1369.5  2018  6.788014e+08  \n",
       "3083     159600000.0    494100000.0  2018  6.537000e+08  "
      ]
     },
     "metadata": {},
     "output_type": "display_data"
    },
    {
     "data": {
      "text/html": [
       "<div>\n",
       "<style scoped>\n",
       "    .dataframe tbody tr th:only-of-type {\n",
       "        vertical-align: middle;\n",
       "    }\n",
       "\n",
       "    .dataframe tbody tr th {\n",
       "        vertical-align: top;\n",
       "    }\n",
       "\n",
       "    .dataframe thead th {\n",
       "        text-align: right;\n",
       "    }\n",
       "</style>\n",
       "<table border=\"1\" class=\"dataframe\">\n",
       "  <thead>\n",
       "    <tr style=\"text-align: right;\">\n",
       "      <th></th>\n",
       "      <th>index</th>\n",
       "      <th>title</th>\n",
       "      <th>studio</th>\n",
       "      <th>domestic_gross</th>\n",
       "      <th>foreign_gross</th>\n",
       "      <th>year</th>\n",
       "      <th>Total_gross</th>\n",
       "    </tr>\n",
       "  </thead>\n",
       "  <tbody>\n",
       "    <tr>\n",
       "      <td>3075</td>\n",
       "      <td>3080</td>\n",
       "      <td>Black Panther</td>\n",
       "      <td>BV</td>\n",
       "      <td>700100000.0</td>\n",
       "      <td>646900000.0</td>\n",
       "      <td>2018</td>\n",
       "      <td>1.347000e+09</td>\n",
       "    </tr>\n",
       "    <tr>\n",
       "      <td>2754</td>\n",
       "      <td>2758</td>\n",
       "      <td>Star Wars: The Last Jedi</td>\n",
       "      <td>BV</td>\n",
       "      <td>620200000.0</td>\n",
       "      <td>712400000.0</td>\n",
       "      <td>2017</td>\n",
       "      <td>1.332600e+09</td>\n",
       "    </tr>\n",
       "    <tr>\n",
       "      <td>3076</td>\n",
       "      <td>3081</td>\n",
       "      <td>Jurassic World: Fallen Kingdom</td>\n",
       "      <td>Uni.</td>\n",
       "      <td>417700000.0</td>\n",
       "      <td>891800000.0</td>\n",
       "      <td>2018</td>\n",
       "      <td>1.309500e+09</td>\n",
       "    </tr>\n",
       "    <tr>\n",
       "      <td>2755</td>\n",
       "      <td>2759</td>\n",
       "      <td>Beauty and the Beast (2017)</td>\n",
       "      <td>BV</td>\n",
       "      <td>504000000.0</td>\n",
       "      <td>759500000.0</td>\n",
       "      <td>2017</td>\n",
       "      <td>1.263500e+09</td>\n",
       "    </tr>\n",
       "    <tr>\n",
       "      <td>3077</td>\n",
       "      <td>3082</td>\n",
       "      <td>Incredibles 2</td>\n",
       "      <td>BV</td>\n",
       "      <td>608600000.0</td>\n",
       "      <td>634200000.0</td>\n",
       "      <td>2018</td>\n",
       "      <td>1.242800e+09</td>\n",
       "    </tr>\n",
       "    <tr>\n",
       "      <td>2318</td>\n",
       "      <td>2322</td>\n",
       "      <td>Captain America: Civil War</td>\n",
       "      <td>BV</td>\n",
       "      <td>408100000.0</td>\n",
       "      <td>745200000.0</td>\n",
       "      <td>2016</td>\n",
       "      <td>1.153300e+09</td>\n",
       "    </tr>\n",
       "    <tr>\n",
       "      <td>3078</td>\n",
       "      <td>3083</td>\n",
       "      <td>Aquaman</td>\n",
       "      <td>WB</td>\n",
       "      <td>335100000.0</td>\n",
       "      <td>812700000.0</td>\n",
       "      <td>2018</td>\n",
       "      <td>1.147800e+09</td>\n",
       "    </tr>\n",
       "    <tr>\n",
       "      <td>2319</td>\n",
       "      <td>2323</td>\n",
       "      <td>Rogue One: A Star Wars Story</td>\n",
       "      <td>BV</td>\n",
       "      <td>532200000.0</td>\n",
       "      <td>523900000.0</td>\n",
       "      <td>2016</td>\n",
       "      <td>1.056100e+09</td>\n",
       "    </tr>\n",
       "    <tr>\n",
       "      <td>2757</td>\n",
       "      <td>2761</td>\n",
       "      <td>Despicable Me 3</td>\n",
       "      <td>Uni.</td>\n",
       "      <td>264600000.0</td>\n",
       "      <td>770200000.0</td>\n",
       "      <td>2017</td>\n",
       "      <td>1.034800e+09</td>\n",
       "    </tr>\n",
       "    <tr>\n",
       "      <td>2320</td>\n",
       "      <td>2324</td>\n",
       "      <td>Finding Dory</td>\n",
       "      <td>BV</td>\n",
       "      <td>486300000.0</td>\n",
       "      <td>542300000.0</td>\n",
       "      <td>2016</td>\n",
       "      <td>1.028600e+09</td>\n",
       "    </tr>\n",
       "  </tbody>\n",
       "</table>\n",
       "</div>"
      ],
      "text/plain": [
       "      index                           title studio  domestic_gross  \\\n",
       "3075   3080                   Black Panther     BV     700100000.0   \n",
       "2754   2758        Star Wars: The Last Jedi     BV     620200000.0   \n",
       "3076   3081  Jurassic World: Fallen Kingdom   Uni.     417700000.0   \n",
       "2755   2759     Beauty and the Beast (2017)     BV     504000000.0   \n",
       "3077   3082                   Incredibles 2     BV     608600000.0   \n",
       "2318   2322      Captain America: Civil War     BV     408100000.0   \n",
       "3078   3083                         Aquaman     WB     335100000.0   \n",
       "2319   2323    Rogue One: A Star Wars Story     BV     532200000.0   \n",
       "2757   2761                 Despicable Me 3   Uni.     264600000.0   \n",
       "2320   2324                    Finding Dory     BV     486300000.0   \n",
       "\n",
       "      foreign_gross  year   Total_gross  \n",
       "3075    646900000.0  2018  1.347000e+09  \n",
       "2754    712400000.0  2017  1.332600e+09  \n",
       "3076    891800000.0  2018  1.309500e+09  \n",
       "2755    759500000.0  2017  1.263500e+09  \n",
       "3077    634200000.0  2018  1.242800e+09  \n",
       "2318    745200000.0  2016  1.153300e+09  \n",
       "3078    812700000.0  2018  1.147800e+09  \n",
       "2319    523900000.0  2016  1.056100e+09  \n",
       "2757    770200000.0  2017  1.034800e+09  \n",
       "2320    542300000.0  2016  1.028600e+09  "
      ]
     },
     "metadata": {},
     "output_type": "display_data"
    }
   ],
   "source": [
    "# what were the top 10 highest - gross movies in 2018\n",
    "bom_2018_df = bom_df.loc[bom_df.year == 2018]\n",
    "display(bom_2018_df.sort_values(by=['Total_gross'], ascending=False).head(10))\n",
    "\n",
    "#2016 - 2018\n",
    "bom_2016_18_df = bom_df.loc[bom_df.year.between (2016, 2018)]\n",
    "display(bom_2016_18_df.sort_values(by=['Total_gross'], ascending=False).head(10))"
   ]
  },
  {
   "cell_type": "markdown",
   "metadata": {},
   "source": [
    "### Even before visual EDA the data is beginning to tell a story re. action/ adventure, sequels, franchises, remakes, and animation."
   ]
  },
  {
   "cell_type": "code",
   "execution_count": 9,
   "metadata": {},
   "outputs": [],
   "source": [
    "# connect to the table for 2018\n",
    "cur.execute('''SELECT *\n",
    "                    FROM clean_bom_tbl\n",
    "                    WHERE year == 2018\n",
    "                    ORDER BY Total_gross DESC\n",
    "                    LIMIT 10\n",
    "                    ;''')\n",
    "\n",
    "bom_18_title_10_df = pd.DataFrame(cur.fetchall())\n",
    "bom_18_title_10_df.columns = [x[0] for x in cur.description]"
   ]
  },
  {
   "cell_type": "code",
   "execution_count": 62,
   "metadata": {},
   "outputs": [],
   "source": [
    "# connect to the table for 2016-2018\n",
    "cur.execute('''SELECT *\n",
    "                    FROM clean_bom_tbl\n",
    "                    WHERE year BETWEEN 2016 AND 2018\n",
    "                    ORDER BY Total_gross DESC\n",
    "                    LIMIT 10\n",
    "                    ;''')\n",
    "\n",
    "bom_16_18_title_10_df = pd.DataFrame(cur.fetchall())\n",
    "bom_16_18_title_10_df.columns = [x[0] for x in cur.description]"
   ]
  },
  {
   "cell_type": "markdown",
   "metadata": {},
   "source": [
    "#### What can we learn from visualizing these dataframes?"
   ]
  },
  {
   "cell_type": "code",
   "execution_count": 18,
   "metadata": {},
   "outputs": [
    {
     "data": {
      "text/html": [
       "<div>\n",
       "<style scoped>\n",
       "    .dataframe tbody tr th:only-of-type {\n",
       "        vertical-align: middle;\n",
       "    }\n",
       "\n",
       "    .dataframe tbody tr th {\n",
       "        vertical-align: top;\n",
       "    }\n",
       "\n",
       "    .dataframe thead th {\n",
       "        text-align: right;\n",
       "    }\n",
       "</style>\n",
       "<table border=\"1\" class=\"dataframe\">\n",
       "  <thead>\n",
       "    <tr style=\"text-align: right;\">\n",
       "      <th></th>\n",
       "      <th>index</th>\n",
       "      <th>studio</th>\n",
       "      <th>domestic_gross</th>\n",
       "      <th>foreign_gross</th>\n",
       "      <th>year</th>\n",
       "      <th>Total_gross</th>\n",
       "    </tr>\n",
       "    <tr>\n",
       "      <th>title</th>\n",
       "      <th></th>\n",
       "      <th></th>\n",
       "      <th></th>\n",
       "      <th></th>\n",
       "      <th></th>\n",
       "      <th></th>\n",
       "    </tr>\n",
       "  </thead>\n",
       "  <tbody>\n",
       "    <tr>\n",
       "      <td>Black Panther</td>\n",
       "      <td>3080</td>\n",
       "      <td>BV</td>\n",
       "      <td>700100000.0</td>\n",
       "      <td>646900000.0</td>\n",
       "      <td>2018</td>\n",
       "      <td>1.347000e+09</td>\n",
       "    </tr>\n",
       "  </tbody>\n",
       "</table>\n",
       "</div>"
      ],
      "text/plain": [
       "               index studio  domestic_gross  foreign_gross  year   Total_gross\n",
       "title                                                                         \n",
       "Black Panther   3080     BV     700100000.0    646900000.0  2018  1.347000e+09"
      ]
     },
     "execution_count": 18,
     "metadata": {},
     "output_type": "execute_result"
    }
   ],
   "source": [
    "# initialize a variable\n",
    "df = bom_18_title_10_df\n",
    "df.set_index(\"title\", drop=True,inplace=True)\n",
    "df.head(1)"
   ]
  },
  {
   "cell_type": "code",
   "execution_count": 80,
   "metadata": {},
   "outputs": [],
   "source": [
    "df_1 = bom_16_18_title_10_df\n",
    "df_1.set_index(\"title\", drop=True,inplace=True)"
   ]
  },
  {
   "cell_type": "code",
   "execution_count": 77,
   "metadata": {},
   "outputs": [
    {
     "data": {
      "image/png": "[encoded data removed]",
      "text/plain": [
       "<Figure size 936x576 with 1 Axes>"
      ]
     },
     "metadata": {
      "needs_background": "light"
     },
     "output_type": "display_data"
    }
   ],
   "source": [
    "# plot 2018 data horizontally\n",
    "df.plot( kind='barh', figsize=(13,8), grid=True, alpha=.5, width=.9 )\n",
    "\n",
    "plt.title('Top 10 Higest Gross Titles, 2018', fontsize=20)\n",
    "plt.xlabel('Total_gross', fontsize=15)\n",
    "plt.ylabel('Title', fontsize=15)\n",
    "plt.ylim(plt.ylim()[::-1]) # display with highes grossing title on top\n",
    "\n",
    "plt.show()"
   ]
  },
  {
   "cell_type": "code",
   "execution_count": 83,
   "metadata": {},
   "outputs": [
    {
     "data": {
      "image/png": "[encoded data removed]",
      "text/plain": [
       "<Figure size 936x576 with 1 Axes>"
      ]
     },
     "metadata": {
      "needs_background": "light"
     },
     "output_type": "display_data"
    }
   ],
   "source": [
    "# plot 2016-1 data horizontally\n",
    "df_1.plot( kind='barh', figsize=(13,8), grid=True, alpha=.5, width=.9 )\n",
    "\n",
    "plt.title('Top 10 Higest Gross Titles, 2016-18', fontsize=20)\n",
    "plt.xlabel('Total_gross', fontsize=15)\n",
    "plt.ylabel('Title', fontsize=15)\n",
    "plt.ylim(plt.ylim()[::-1]) # display with highes grossing title on top\n",
    "\n",
    "plt.show()"
   ]
  },
  {
   "cell_type": "code",
   "execution_count": null,
   "metadata": {},
   "outputs": [],
   "source": [
    "# viewing the three most recent years from the dataset\n",
    "sns.set_style(\"whitegrid\")\n",
    "fig, ax = plt.subplots(ncols=2, figsize=(13, 5))\n",
    "sns.set(context='notebook', font_scale=1.35)\n",
    "\n",
    "label = \"Gross Earnings Distribution 2016 - 2018\"\n",
    "\n",
    "sns.boxplot(x=\"year\", y=\"Total_gross\", data=bom_2016_18_df, ax=ax[0])\n",
    "sns.boxplot(x=\"year\", y=\"Total_gross\", data=bom_2018_df, ax=ax[1])\n",
    "\n",
    "plt.show()"
   ]
  },
  {
   "cell_type": "markdown",
   "metadata": {},
   "source": [
    "#### Top grossing movies are and have been far above the norm, with the top 10-or-more being outliers in each year observed and median values toward the bottom of the lower - middle quartile.\n",
    "\n",
    "#### Let's get a better idea of where is that middle."
   ]
  },
  {
   "cell_type": "code",
   "execution_count": null,
   "metadata": {},
   "outputs": [],
   "source": [
    "# create a plot\n",
    "plt.figure(figsize=(8, 5))\n",
    "\n",
    "# data and number of groupings\n",
    "plt.hist(bom_2016_18_df.Total_gross, bins=30)\n",
    "\n",
    "# chart appearance\n",
    "plt.grid(axis='y', alpha=0.75)\n",
    "plt.xlabel('gross earnings',fontsize=15)\n",
    "plt.ylabel('density',fontsize=15)\n",
    "plt.xticks(fontsize=15)\n",
    "plt.yticks(fontsize=15)\n",
    "plt.title(\"2016-18 Total Gross Earnings (billions),\\n with median line (m)\",fontsize=15)\n",
    "\n",
    "plt.axvline(bom_2016_18_df.Total_gross.median(\n",
    "), color='purple', linestyle='dashed', linewidth=1)\n",
    "\n",
    "plt.legend(\"m\")\n",
    "\n",
    "plt.show()\n",
    "\n",
    "# We can see that most movies perform toward the lower end."
   ]
  },
  {
   "cell_type": "code",
   "execution_count": null,
   "metadata": {},
   "outputs": [],
   "source": [
    "print(f\"bearing-in-mind that most movie (0-2 on the plot) earnings are located about {bom_2016_18_df.Total_gross.median()} (+64M).\")"
   ]
  },
  {
   "cell_type": "code",
   "execution_count": null,
   "metadata": {},
   "outputs": [],
   "source": [
    "# There is a lot going on in the middle\n",
    "total_median_16_18 = bom_2016_18_df.Total_gross.median()\n",
    "total_std_16_18 = bom_2016_18_df.Total_gross.std()\n",
    "\n",
    "lower_upper_16_18 = total_median_16_18 + total_std_16_18\n",
    "upper_lower_16_18 = total_median_16_18 - total_std_16_18\n",
    "\n",
    "print(\"lower upper-middle\\n\", bom_2016_18_df[bom_2016_18_df.Total_gross < lower_upper_16_18].head(3))\n",
    "print(\"-\"*80, \"\\n\\nupper lower-middle\\n\", bom_2016_18_df[bom_2016_18_df.Total_gross > upper_lower_16_18].tail(3))"
   ]
  },
  {
   "cell_type": "markdown",
   "metadata": {},
   "source": [
    "### Now let's take a look at buget information in the `clean_tn_tbl`"
   ]
  },
  {
   "cell_type": "code",
   "execution_count": null,
   "metadata": {},
   "outputs": [],
   "source": [
    "cur.execute('''SELECT *\n",
    "                    FROM clean_tn_tbl\n",
    "                    WHERE Year BETWEEN 2016 AND 2018\n",
    "                    ;\n",
    "                    ''')\n",
    "\n",
    "tn_df = pd.DataFrame(cur.fetchall())\n",
    "tn_df.columns = [x[0] for x in cur.description]"
   ]
  },
  {
   "cell_type": "code",
   "execution_count": null,
   "metadata": {
    "scrolled": false
   },
   "outputs": [],
   "source": [
    "# note: sorting will only work if datatypes are appropriately converted\n",
    "tn_sort_2016_18 = tn_df.sort_values(['worldwide_gross'], ascending=[0])\n",
    "tn_sort_2016_18.head(10)"
   ]
  },
  {
   "cell_type": "code",
   "execution_count": null,
   "metadata": {},
   "outputs": [],
   "source": [
    "tn_sort_2016_18.dtypes"
   ]
  },
  {
   "cell_type": "markdown",
   "metadata": {},
   "source": [
    "A data dictionary could help us to further differentiate earnings discrepancies in the data between these two tables (eg., strictly box office vs all media) as well as providing clearer understanding for when data were collected."
   ]
  },
  {
   "cell_type": "markdown",
   "metadata": {},
   "source": [
    "### The `tn...` dataframe also enables us to compute net earnings figures."
   ]
  },
  {
   "cell_type": "code",
   "execution_count": null,
   "metadata": {},
   "outputs": [],
   "source": [
    "tn_sort_2016_18['Worldwide_net'] = round(tn_sort_2016_18['worldwide_gross'], 3\n",
    "                                        ) - round(tn_sort_2016_18['production_budget'], 3)\n",
    "W_net_16_18 = tn_sort_2016_18.sort_values(by=['Worldwide_net'], ascending=False)\n",
    "W_net_16_18.head(10)"
   ]
  },
  {
   "cell_type": "markdown",
   "metadata": {},
   "source": [
    "### What can we infer from a cursory visual analysis of `production_budget`, `worldwide_gross`, and `Worldwide_net`"
   ]
  },
  {
   "cell_type": "code",
   "execution_count": null,
   "metadata": {},
   "outputs": [],
   "source": [
    "fig, ax = plt.subplots(ncols=3, figsize=(13, 5))\n",
    "\n",
    "sns.distplot(tn_sort_2016_18.production_budget, bins = 30, ax=ax[0])\n",
    "sns.distplot(tn_sort_2016_18.worldwide_gross, bins = 30\n",
    "             , ax=ax[1])\n",
    "sns.distplot(tn_sort_2016_18.Worldwide_net, bins = 30\n",
    "             , ax=ax[2])\n",
    "\n",
    "plt.show()\n"
   ]
  },
  {
   "cell_type": "code",
   "execution_count": null,
   "metadata": {},
   "outputs": [],
   "source": [
    "fig, ax = plt.subplots(ncols=3, figsize=(13, 5))\n",
    "sns.boxplot(tn_sort_2016_18.production_budget,  orient='v', ax=ax[0])\n",
    "sns.boxplot(tn_sort_2016_18.worldwide_gross,  orient='v', ax=ax[1])\n",
    "sns.boxplot(tn_sort_2016_18.Worldwide_net,  orient='v', ax=ax[2])\n",
    " \n",
    "plt.subplots_adjust(wspace=.75, hspace=.5);\n",
    "sns.set(font_scale=1.25)\n",
    "plt.show()\n"
   ]
  },
  {
   "cell_type": "markdown",
   "metadata": {},
   "source": [
    "### It seems a few things are generously funded (far above the median), most are well funded (in the upper quartile), and relatively high net profit is rare thing."
   ]
  },
  {
   "cell_type": "markdown",
   "metadata": {},
   "source": [
    "***"
   ]
  },
  {
   "cell_type": "markdown",
   "metadata": {},
   "source": [
    "<h2 align='center'><font color='chocolate'>Correlation</font></h2>"
   ]
  },
  {
   "cell_type": "markdown",
   "metadata": {},
   "source": [
    "<h3>Question(s)</h3>\n",
    "\n",
    "* Are gross and net figures positively correlated\n",
    "* ... Budget and ROI"
   ]
  },
  {
   "cell_type": "markdown",
   "metadata": {},
   "source": [
    "<h3 align='center'><font color='coral'>gross, net</font></h3>"
   ]
  },
  {
   "cell_type": "code",
   "execution_count": null,
   "metadata": {},
   "outputs": [],
   "source": [
    "# view a seaborn pairplot matrix with regression lines\n",
    "df1 = tn_sort_2016_18[[\"production_budget\", \"worldwide_gross\",\n",
    "                     \"Worldwide_net\", \"ROI\"]]\n",
    "sns.pairplot(df1, kind=\"reg\", plot_kws={'line_kws':{'color':'orange'}})\n",
    "sns.set(font_scale=.8) # try to prevent overlap of long column names\n",
    "plt.subplots_adjust(wspace=.02, hspace=.2);\n",
    "plt.show()"
   ]
  },
  {
   "cell_type": "markdown",
   "metadata": {},
   "source": [
    "### We see from the visualization that there are strong correlations between budget and earnings. The relationship between budget and ROI seems a bit more complex."
   ]
  },
  {
   "cell_type": "code",
   "execution_count": null,
   "metadata": {
    "scrolled": false
   },
   "outputs": [],
   "source": [
    "# create a variable for the correlation\n",
    "corr = df1.corr()\n",
    "\n",
    "# subplots\n",
    "plt.figure(figsize=(24,9)) # total figure size\n",
    "plt.subplots_adjust(wspace=.45, hspace=.1); # prevent overlap\n",
    "sns.set(font_scale=1.55) # adjust for annotation legibility\n",
    "\n",
    "plt.subplot(1,2,1) # correlation with regression line\n",
    "sns.regplot(x='production_budget', y='worldwide_gross', data=df1)\n",
    "\n",
    "plt.subplot(1,2,2) # heatmap\n",
    "sns.heatmap(corr,  cbar=True, linecolor=\"w\", linewidths=1, cmap='Blues', square=True, annot=True, annot_kws={\"size\": 22})"
   ]
  },
  {
   "cell_type": "markdown",
   "metadata": {},
   "source": [
    "### Before we go further, it could be worthwhile to determine whether there may be an advantage to joining the `tn_...` dataframe to the `bom_...` dataframe."
   ]
  },
  {
   "cell_type": "code",
   "execution_count": null,
   "metadata": {},
   "outputs": [],
   "source": [
    "cur.execute('''SELECT *\n",
    "                    FROM clean_bom_tbl b\n",
    "                    JOIN clean_tn_tbl t \n",
    "                    ON b.title = t.movie \n",
    "                    ;\n",
    "                    ''')\n",
    "\n",
    "budget_basics_df = pd.DataFrame(cur.fetchall())\n",
    "budget_basics_df.columns = [x[0] for x in cur.description]"
   ]
  },
  {
   "cell_type": "code",
   "execution_count": null,
   "metadata": {},
   "outputs": [],
   "source": [
    "# view the joined dataframe\n",
    "display(budget_basics_df.shape, budget_basics_df.head(2))"
   ]
  },
  {
   "cell_type": "code",
   "execution_count": null,
   "metadata": {},
   "outputs": [],
   "source": [
    "budget_basics_df"
   ]
  },
  {
   "cell_type": "code",
   "execution_count": null,
   "metadata": {},
   "outputs": [],
   "source": [
    "# deal with duplicate columns\n",
    "budget_basics_df.drop(['index', 'index'], axis=1, inplace=True)"
   ]
  },
  {
   "cell_type": "code",
   "execution_count": null,
   "metadata": {},
   "outputs": [],
   "source": [
    "# restore the calculated column `Worldwide_net`\n",
    "budget_basics_df['Worldwide_net'] = round(budget_basics_df['worldwide_gross'], 3\n",
    "                                        ) - round(tn_sort_2016_18['production_budget'], 3)\n",
    "\n",
    "budget_basics_df.columns"
   ]
  },
  {
   "cell_type": "code",
   "execution_count": null,
   "metadata": {},
   "outputs": [],
   "source": [
    "display(budget_basics_df.domestic_gross.shape,\n",
    "        budget_basics_df.domestic_gross.sum())\n",
    "print(\"-\")*80\n",
    "display(budget_basics_df.domestic_gross.head(3),\n",
    "        budget_basics_df.domestic_gross.tail(3))"
   ]
  },
  {
   "cell_type": "code",
   "execution_count": null,
   "metadata": {},
   "outputs": [],
   "source": [
    "# These columns are the same\n",
    "# Drop one of them\n",
    "budget_basics_df = budget_basics_df.loc[:,~budget_basics_df.columns.duplicated()]\n",
    "budget_basics_df=budget_basics_df.rename(columns = {'year':'date'})\n",
    "budget_basics_df.columns"
   ]
  },
  {
   "cell_type": "code",
   "execution_count": null,
   "metadata": {},
   "outputs": [],
   "source": [
    "\"\"\"\n",
    "view another seaborn pairplot matrix\n",
    "without ROI (for scaling) and with th minimum y-axis limit\n",
    "set to the minimum value for `Worldwide_net`\n",
    "\"\"\"\n",
    "df1 = budget_basics_df[[\"production_budget\", \"worldwide_gross\", \"Total_gross\",\n",
    "                     \"Worldwide_net\"]]\n",
    "g = sns.pairplot(df1, kind=\"reg\", diag_kind=\"kde\", plot_kws={'line_kws':{'color':'orange'}})\n",
    "\n",
    "plt.title(\"Budget Basics Pairplot, with kde\", loc=\"center\")\n",
    "\n",
    "plt.subplots_adjust(wspace=.02, hspace=.1);\n",
    "plt.show()"
   ]
  },
  {
   "cell_type": "markdown",
   "metadata": {},
   "source": [
    "Budget spend appears to be important, especially for top - earning titles."
   ]
  },
  {
   "cell_type": "markdown",
   "metadata": {},
   "source": [
    "## Save the combined table to the sqlite3 database"
   ]
  },
  {
   "cell_type": "code",
   "execution_count": null,
   "metadata": {},
   "outputs": [],
   "source": [
    "# add the new df as a table to the sqlite database\n",
    "budget_basics_df.to_sql('budget_basics_tbl', conn, if_exists='replace')\n",
    "\n",
    "# view names of all tables in the sql database to verify operation\n",
    "conn.execute(\"select name from sqlite_master where type='table';\").fetchall()"
   ]
  },
  {
   "cell_type": "markdown",
   "metadata": {},
   "source": [
    "<h3 align='center'><font color='coral'>genre, gross</font></h3>"
   ]
  },
  {
   "cell_type": "markdown",
   "metadata": {},
   "source": [
    "<h3 align='center'><font color='coral'>genre, net [only if gross, net not correlated</font></h3>"
   ]
  },
  {
   "cell_type": "markdown",
   "metadata": {},
   "source": [
    "<h3 align='center'><font color='coral'>by genre</font></h3>"
   ]
  },
  {
   "cell_type": "markdown",
   "metadata": {},
   "source": [
    "***"
   ]
  },
  {
   "cell_type": "markdown",
   "metadata": {},
   "source": [
    "<h2 align='center'><font color='chocolate'>Top Studios</font></h2>"
   ]
  },
  {
   "cell_type": "markdown",
   "metadata": {},
   "source": [
    "<h3>Question(s)</h3>\n",
    "\n",
    "* First"
   ]
  },
  {
   "cell_type": "markdown",
   "metadata": {},
   "source": [
    "<h3 align='center'><font color='coral'>by studio</font></h3>"
   ]
  },
  {
   "cell_type": "markdown",
   "metadata": {},
   "source": [
    "<h3 align='center'><font color='coral'>gross genre mix</font></h3>"
   ]
  },
  {
   "cell_type": "markdown",
   "metadata": {},
   "source": [
    "<h3 align='center'><font color='coral'>ROI genre mix</font></h3>"
   ]
  },
  {
   "cell_type": "markdown",
   "metadata": {},
   "source": [
    "***"
   ]
  },
  {
   "cell_type": "markdown",
   "metadata": {},
   "source": [
    "<h2 align='center'><font color='chocolate'>Recommendations</font></h2>"
   ]
  },
  {
   "cell_type": "code",
   "execution_count": null,
   "metadata": {},
   "outputs": [],
   "source": [
    "# looking at ...\n",
    "# plt.figure(figsize=(8, 5))\n",
    "# sns.violinplot(x='year', y='Total_gross', data=bom_2016_18_df)"
   ]
  },
  {
   "cell_type": "code",
   "execution_count": null,
   "metadata": {},
   "outputs": [],
   "source": [
    "import matplotlib.pyplot as plt\n",
    "import matplotlib\n",
    "\n",
    "matplotlib.style.use('ggplot')\n",
    "\n",
    "\n",
    "data = [[2000, 2000, 2000, 2001, 2001, 2001, 2002, 2002, 2002],\n",
    "        ['Jan', 'Feb', 'Mar', 'Jan', 'Feb', 'Mar', 'Jan', 'Feb', 'Mar'],\n",
    "        [1, 2, 3, 4, 5, 6, 7, 8, 9]]\n",
    "\n",
    "rows = zip(data[0], data[1], data[2])\n",
    "headers = ['Year', 'Month', 'Value']\n",
    "df = pd.DataFrame(rows, columns=headers)\n",
    "\n",
    "df"
   ]
  },
  {
   "cell_type": "code",
   "execution_count": null,
   "metadata": {},
   "outputs": [],
   "source": [
    "pivot_df = df.pivot(index='Year', columns='Month', values='Value')\n",
    "pivot_df"
   ]
  },
  {
   "cell_type": "code",
   "execution_count": null,
   "metadata": {},
   "outputs": [],
   "source": [
    "colors = [\"#006D2C\", \"#31A354\",\"#74C476\"]\n",
    "#Note: .loc[:,['Jan','Feb', 'Mar']] is used here to rearrange the layer ordering\n",
    "pivot_df.loc[:,['Jan','Feb', 'Mar']].plot.barh(stacked=True, color=colors, figsize=(10,7))"
   ]
  },
  {
   "cell_type": "code",
   "execution_count": null,
   "metadata": {},
   "outputs": [],
   "source": [
    "plt.bar()"
   ]
  },
  {
   "cell_type": "code",
   "execution_count": null,
   "metadata": {},
   "outputs": [],
   "source": [
    "cur.close()\n",
    "conn.close()"
   ]
  },
  {
   "cell_type": "code",
   "execution_count": null,
   "metadata": {},
   "outputs": [],
   "source": []
  }
 ],
 "metadata": {
  "kernelspec": {
   "display_name": "Python [conda env:learn-env] *",
   "language": "python",
   "name": "conda-env-learn-env-py"
  },
  "language_info": {
   "codemirror_mode": {
    "name": "ipython",
    "version": 3
   },
   "file_extension": ".py",
   "mimetype": "text/x-python",
   "name": "python",
   "nbconvert_exporter": "python",
   "pygments_lexer": "ipython3",
   "version": "3.6.9"
  }
 },
 "nbformat": 4,
 "nbformat_minor": 2
}
