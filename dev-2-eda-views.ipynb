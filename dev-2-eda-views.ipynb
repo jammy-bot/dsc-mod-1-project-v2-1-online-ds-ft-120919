{
 "cells": [
  {
   "cell_type": "markdown",
   "metadata": {},
   "source": [
    "##### dev-2-eda-views notebook\n",
    "***"
   ]
  },
  {
   "cell_type": "markdown",
   "metadata": {},
   "source": [
    "<h1>Data cleaning and views</h1>\n",
    "\n"
   ]
  },
  {
   "cell_type": "markdown",
   "metadata": {},
   "source": [
    "***"
   ]
  },
  {
   "cell_type": "markdown",
   "metadata": {},
   "source": [
    "## import required libraries"
   ]
  },
  {
   "cell_type": "code",
   "execution_count": 1,
   "metadata": {},
   "outputs": [],
   "source": [
    "import os # for setting the current directory\n",
    "\n",
    "import numpy as np\n",
    "import pandas as pd\n",
    "\n",
    "import sqlite3\n",
    "\n",
    "import pandasql"
   ]
  },
  {
   "cell_type": "code",
   "execution_count": 2,
   "metadata": {},
   "outputs": [
    {
     "name": "stdout",
     "output_type": "stream",
     "text": [
      "c:\\users\\jd\\flatiron\\project01\\dsc-mod-1-project-v2-1-online-ds-ft-120919\n"
     ]
    }
   ],
   "source": [
    "# set the current working directory\n",
    "os.chdir(\"c:/users/jd/flatiron/project01/dsc-mod-1-project-v2-1-online-ds-ft-120919/\")\n",
    "\n",
    "# print the current working directory\n",
    "print(os.getcwd())"
   ]
  },
  {
   "cell_type": "markdown",
   "metadata": {},
   "source": [
    "### connect to and preview sqlite database"
   ]
  },
  {
   "cell_type": "code",
   "execution_count": 3,
   "metadata": {},
   "outputs": [],
   "source": [
    "# connect to sql movies_db data source and instantiate a cursor\n",
    "conn = sqlite3.connect(\"movies_db.sqlite\")\n",
    "cur = conn.cursor()"
   ]
  },
  {
   "cell_type": "markdown",
   "metadata": {},
   "source": [
    "### make a list of table names"
   ]
  },
  {
   "cell_type": "code",
   "execution_count": 4,
   "metadata": {},
   "outputs": [
    {
     "data": {
      "text/plain": [
       "['bom_movie_gross',\n",
       " 'imdb_name_basics',\n",
       " 'imdb_title_akas',\n",
       " 'imdb_title_basics',\n",
       " 'imdb_title_crew',\n",
       " 'imdb_title_principals',\n",
       " 'imdb_title_ratings',\n",
       " 'rt_movie_info',\n",
       " 'rt_reviews',\n",
       " 'tmdb_movies',\n",
       " 'tn_movie_budgets']"
      ]
     },
     "execution_count": 4,
     "metadata": {},
     "output_type": "execute_result"
    }
   ],
   "source": [
    "# get names of all tables in the sql database\n",
    "sql_tables = conn.execute(\"select name from sqlite_master where type='table';\")\n",
    "\n",
    "# assign table names to a variable as a list for future iteration\n",
    "table_list = list(map(lambda x: x[0], sql_tables.fetchall()))\n",
    "table_list"
   ]
  },
  {
   "cell_type": "markdown",
   "metadata": {},
   "source": [
    "### import helper functions"
   ]
  },
  {
   "cell_type": "code",
   "execution_count": 5,
   "metadata": {},
   "outputs": [],
   "source": [
    "from importlib import reload\n",
    "\n",
    "import helper_functions as hf"
   ]
  },
  {
   "cell_type": "code",
   "execution_count": 6,
   "metadata": {},
   "outputs": [
    {
     "data": {
      "text/plain": [
       "<module 'helper_functions' from 'c:\\\\users\\\\jd\\\\flatiron\\\\project01\\\\dsc-mod-1-project-v2-1-online-ds-ft-120919\\\\helper_functions.py'>"
      ]
     },
     "execution_count": 6,
     "metadata": {},
     "output_type": "execute_result"
    }
   ],
   "source": [
    "# `helper_functions` includes `get_table_list(conn)`, \n",
    "# `load_table(conn, table_name)` and `convert_dollars_to_int(df, col)\n",
    "# note: `get_table_list(conn)` result the same as the above `table_list`\n",
    "reload(hf)"
   ]
  },
  {
   "cell_type": "markdown",
   "metadata": {},
   "source": [
    "### preview and identify relevant tables and columns"
   ]
  },
  {
   "cell_type": "code",
   "execution_count": 7,
   "metadata": {},
   "outputs": [],
   "source": [
    "# function to preview all tables from sqlite_master\n",
    "# or a sub - set entered as a list\n",
    "def preview_tables(conn, tables='all'):\n",
    "    all_tables = hf.get_table_list(conn)\n",
    "    if tables=='all':\n",
    "        final_table_names = all_tables\n",
    "        \n",
    "    elif type(tables) == list:\n",
    "        final_table_names = [t for t in all_tables if t in tables]\n",
    "    \n",
    "    for table_name in final_table_names:\n",
    "        print(f\"Showing Table: {table_name}\")\n",
    "        query = f\"select * from {table_name};\"\n",
    "        df = pd.read_sql(query, conn)\n",
    "        display(df.head(2))\n",
    "        print(\"-\"*100)\n",
    "    print(\"finished\")\n",
    "    return None"
   ]
  },
  {
   "cell_type": "code",
   "execution_count": 8,
   "metadata": {
    "scrolled": false
   },
   "outputs": [
    {
     "name": "stdout",
     "output_type": "stream",
     "text": [
      "Showing Table: bom_movie_gross\n"
     ]
    },
    {
     "data": {
      "text/html": [
       "<div>\n",
       "<style scoped>\n",
       "    .dataframe tbody tr th:only-of-type {\n",
       "        vertical-align: middle;\n",
       "    }\n",
       "\n",
       "    .dataframe tbody tr th {\n",
       "        vertical-align: top;\n",
       "    }\n",
       "\n",
       "    .dataframe thead th {\n",
       "        text-align: right;\n",
       "    }\n",
       "</style>\n",
       "<table border=\"1\" class=\"dataframe\">\n",
       "  <thead>\n",
       "    <tr style=\"text-align: right;\">\n",
       "      <th></th>\n",
       "      <th>title</th>\n",
       "      <th>studio</th>\n",
       "      <th>domestic_gross</th>\n",
       "      <th>foreign_gross</th>\n",
       "      <th>year</th>\n",
       "    </tr>\n",
       "  </thead>\n",
       "  <tbody>\n",
       "    <tr>\n",
       "      <td>0</td>\n",
       "      <td>Toy Story 3</td>\n",
       "      <td>BV</td>\n",
       "      <td>415000000.0</td>\n",
       "      <td>652000000</td>\n",
       "      <td>2010</td>\n",
       "    </tr>\n",
       "    <tr>\n",
       "      <td>1</td>\n",
       "      <td>Alice in Wonderland (2010)</td>\n",
       "      <td>BV</td>\n",
       "      <td>334200000.0</td>\n",
       "      <td>691300000</td>\n",
       "      <td>2010</td>\n",
       "    </tr>\n",
       "  </tbody>\n",
       "</table>\n",
       "</div>"
      ],
      "text/plain": [
       "                        title studio  domestic_gross foreign_gross  year\n",
       "0                 Toy Story 3     BV     415000000.0     652000000  2010\n",
       "1  Alice in Wonderland (2010)     BV     334200000.0     691300000  2010"
      ]
     },
     "metadata": {},
     "output_type": "display_data"
    },
    {
     "name": "stdout",
     "output_type": "stream",
     "text": [
      "----------------------------------------------------------------------------------------------------\n",
      "Showing Table: imdb_name_basics\n"
     ]
    },
    {
     "data": {
      "text/html": [
       "<div>\n",
       "<style scoped>\n",
       "    .dataframe tbody tr th:only-of-type {\n",
       "        vertical-align: middle;\n",
       "    }\n",
       "\n",
       "    .dataframe tbody tr th {\n",
       "        vertical-align: top;\n",
       "    }\n",
       "\n",
       "    .dataframe thead th {\n",
       "        text-align: right;\n",
       "    }\n",
       "</style>\n",
       "<table border=\"1\" class=\"dataframe\">\n",
       "  <thead>\n",
       "    <tr style=\"text-align: right;\">\n",
       "      <th></th>\n",
       "      <th>nconst</th>\n",
       "      <th>primary_name</th>\n",
       "      <th>birth_year</th>\n",
       "      <th>death_year</th>\n",
       "      <th>primary_profession</th>\n",
       "      <th>known_for_titles</th>\n",
       "    </tr>\n",
       "  </thead>\n",
       "  <tbody>\n",
       "    <tr>\n",
       "      <td>0</td>\n",
       "      <td>nm0061671</td>\n",
       "      <td>Mary Ellen Bauder</td>\n",
       "      <td>NaN</td>\n",
       "      <td>NaN</td>\n",
       "      <td>miscellaneous,production_manager,producer</td>\n",
       "      <td>tt0837562,tt2398241,tt0844471,tt0118553</td>\n",
       "    </tr>\n",
       "    <tr>\n",
       "      <td>1</td>\n",
       "      <td>nm0061865</td>\n",
       "      <td>Joseph Bauer</td>\n",
       "      <td>NaN</td>\n",
       "      <td>NaN</td>\n",
       "      <td>composer,music_department,sound_department</td>\n",
       "      <td>tt0896534,tt6791238,tt0287072,tt1682940</td>\n",
       "    </tr>\n",
       "  </tbody>\n",
       "</table>\n",
       "</div>"
      ],
      "text/plain": [
       "      nconst       primary_name  birth_year  death_year  \\\n",
       "0  nm0061671  Mary Ellen Bauder         NaN         NaN   \n",
       "1  nm0061865       Joseph Bauer         NaN         NaN   \n",
       "\n",
       "                           primary_profession  \\\n",
       "0   miscellaneous,production_manager,producer   \n",
       "1  composer,music_department,sound_department   \n",
       "\n",
       "                          known_for_titles  \n",
       "0  tt0837562,tt2398241,tt0844471,tt0118553  \n",
       "1  tt0896534,tt6791238,tt0287072,tt1682940  "
      ]
     },
     "metadata": {},
     "output_type": "display_data"
    },
    {
     "name": "stdout",
     "output_type": "stream",
     "text": [
      "----------------------------------------------------------------------------------------------------\n",
      "Showing Table: imdb_title_akas\n"
     ]
    },
    {
     "data": {
      "text/html": [
       "<div>\n",
       "<style scoped>\n",
       "    .dataframe tbody tr th:only-of-type {\n",
       "        vertical-align: middle;\n",
       "    }\n",
       "\n",
       "    .dataframe tbody tr th {\n",
       "        vertical-align: top;\n",
       "    }\n",
       "\n",
       "    .dataframe thead th {\n",
       "        text-align: right;\n",
       "    }\n",
       "</style>\n",
       "<table border=\"1\" class=\"dataframe\">\n",
       "  <thead>\n",
       "    <tr style=\"text-align: right;\">\n",
       "      <th></th>\n",
       "      <th>title_id</th>\n",
       "      <th>ordering</th>\n",
       "      <th>title</th>\n",
       "      <th>region</th>\n",
       "      <th>language</th>\n",
       "      <th>types</th>\n",
       "      <th>attributes</th>\n",
       "      <th>is_original_title</th>\n",
       "    </tr>\n",
       "  </thead>\n",
       "  <tbody>\n",
       "    <tr>\n",
       "      <td>0</td>\n",
       "      <td>tt0369610</td>\n",
       "      <td>10</td>\n",
       "      <td>Джурасик свят</td>\n",
       "      <td>BG</td>\n",
       "      <td>bg</td>\n",
       "      <td>None</td>\n",
       "      <td>None</td>\n",
       "      <td>0.0</td>\n",
       "    </tr>\n",
       "    <tr>\n",
       "      <td>1</td>\n",
       "      <td>tt0369610</td>\n",
       "      <td>11</td>\n",
       "      <td>Jurashikku warudo</td>\n",
       "      <td>JP</td>\n",
       "      <td>None</td>\n",
       "      <td>imdbDisplay</td>\n",
       "      <td>None</td>\n",
       "      <td>0.0</td>\n",
       "    </tr>\n",
       "  </tbody>\n",
       "</table>\n",
       "</div>"
      ],
      "text/plain": [
       "    title_id  ordering              title region language        types  \\\n",
       "0  tt0369610        10      Джурасик свят     BG       bg         None   \n",
       "1  tt0369610        11  Jurashikku warudo     JP     None  imdbDisplay   \n",
       "\n",
       "  attributes  is_original_title  \n",
       "0       None                0.0  \n",
       "1       None                0.0  "
      ]
     },
     "metadata": {},
     "output_type": "display_data"
    },
    {
     "name": "stdout",
     "output_type": "stream",
     "text": [
      "----------------------------------------------------------------------------------------------------\n",
      "Showing Table: imdb_title_basics\n"
     ]
    },
    {
     "data": {
      "text/html": [
       "<div>\n",
       "<style scoped>\n",
       "    .dataframe tbody tr th:only-of-type {\n",
       "        vertical-align: middle;\n",
       "    }\n",
       "\n",
       "    .dataframe tbody tr th {\n",
       "        vertical-align: top;\n",
       "    }\n",
       "\n",
       "    .dataframe thead th {\n",
       "        text-align: right;\n",
       "    }\n",
       "</style>\n",
       "<table border=\"1\" class=\"dataframe\">\n",
       "  <thead>\n",
       "    <tr style=\"text-align: right;\">\n",
       "      <th></th>\n",
       "      <th>tconst</th>\n",
       "      <th>primary_title</th>\n",
       "      <th>original_title</th>\n",
       "      <th>start_year</th>\n",
       "      <th>runtime_minutes</th>\n",
       "      <th>genres</th>\n",
       "    </tr>\n",
       "  </thead>\n",
       "  <tbody>\n",
       "    <tr>\n",
       "      <td>0</td>\n",
       "      <td>tt0063540</td>\n",
       "      <td>Sunghursh</td>\n",
       "      <td>Sunghursh</td>\n",
       "      <td>2013</td>\n",
       "      <td>175.0</td>\n",
       "      <td>Action,Crime,Drama</td>\n",
       "    </tr>\n",
       "    <tr>\n",
       "      <td>1</td>\n",
       "      <td>tt0066787</td>\n",
       "      <td>One Day Before the Rainy Season</td>\n",
       "      <td>Ashad Ka Ek Din</td>\n",
       "      <td>2019</td>\n",
       "      <td>114.0</td>\n",
       "      <td>Biography,Drama</td>\n",
       "    </tr>\n",
       "  </tbody>\n",
       "</table>\n",
       "</div>"
      ],
      "text/plain": [
       "      tconst                    primary_title   original_title  start_year  \\\n",
       "0  tt0063540                        Sunghursh        Sunghursh        2013   \n",
       "1  tt0066787  One Day Before the Rainy Season  Ashad Ka Ek Din        2019   \n",
       "\n",
       "   runtime_minutes              genres  \n",
       "0            175.0  Action,Crime,Drama  \n",
       "1            114.0     Biography,Drama  "
      ]
     },
     "metadata": {},
     "output_type": "display_data"
    },
    {
     "name": "stdout",
     "output_type": "stream",
     "text": [
      "----------------------------------------------------------------------------------------------------\n",
      "Showing Table: imdb_title_crew\n"
     ]
    },
    {
     "data": {
      "text/html": [
       "<div>\n",
       "<style scoped>\n",
       "    .dataframe tbody tr th:only-of-type {\n",
       "        vertical-align: middle;\n",
       "    }\n",
       "\n",
       "    .dataframe tbody tr th {\n",
       "        vertical-align: top;\n",
       "    }\n",
       "\n",
       "    .dataframe thead th {\n",
       "        text-align: right;\n",
       "    }\n",
       "</style>\n",
       "<table border=\"1\" class=\"dataframe\">\n",
       "  <thead>\n",
       "    <tr style=\"text-align: right;\">\n",
       "      <th></th>\n",
       "      <th>tconst</th>\n",
       "      <th>directors</th>\n",
       "      <th>writers</th>\n",
       "    </tr>\n",
       "  </thead>\n",
       "  <tbody>\n",
       "    <tr>\n",
       "      <td>0</td>\n",
       "      <td>tt0285252</td>\n",
       "      <td>nm0899854</td>\n",
       "      <td>nm0899854</td>\n",
       "    </tr>\n",
       "    <tr>\n",
       "      <td>1</td>\n",
       "      <td>tt0438973</td>\n",
       "      <td>None</td>\n",
       "      <td>nm0175726,nm1802864</td>\n",
       "    </tr>\n",
       "  </tbody>\n",
       "</table>\n",
       "</div>"
      ],
      "text/plain": [
       "      tconst  directors              writers\n",
       "0  tt0285252  nm0899854            nm0899854\n",
       "1  tt0438973       None  nm0175726,nm1802864"
      ]
     },
     "metadata": {},
     "output_type": "display_data"
    },
    {
     "name": "stdout",
     "output_type": "stream",
     "text": [
      "----------------------------------------------------------------------------------------------------\n",
      "Showing Table: imdb_title_principals\n"
     ]
    },
    {
     "data": {
      "text/html": [
       "<div>\n",
       "<style scoped>\n",
       "    .dataframe tbody tr th:only-of-type {\n",
       "        vertical-align: middle;\n",
       "    }\n",
       "\n",
       "    .dataframe tbody tr th {\n",
       "        vertical-align: top;\n",
       "    }\n",
       "\n",
       "    .dataframe thead th {\n",
       "        text-align: right;\n",
       "    }\n",
       "</style>\n",
       "<table border=\"1\" class=\"dataframe\">\n",
       "  <thead>\n",
       "    <tr style=\"text-align: right;\">\n",
       "      <th></th>\n",
       "      <th>tconst</th>\n",
       "      <th>ordering</th>\n",
       "      <th>nconst</th>\n",
       "      <th>category</th>\n",
       "      <th>job</th>\n",
       "      <th>characters</th>\n",
       "    </tr>\n",
       "  </thead>\n",
       "  <tbody>\n",
       "    <tr>\n",
       "      <td>0</td>\n",
       "      <td>tt0111414</td>\n",
       "      <td>1</td>\n",
       "      <td>nm0246005</td>\n",
       "      <td>actor</td>\n",
       "      <td>None</td>\n",
       "      <td>[\"The Man\"]</td>\n",
       "    </tr>\n",
       "    <tr>\n",
       "      <td>1</td>\n",
       "      <td>tt0111414</td>\n",
       "      <td>2</td>\n",
       "      <td>nm0398271</td>\n",
       "      <td>director</td>\n",
       "      <td>None</td>\n",
       "      <td>None</td>\n",
       "    </tr>\n",
       "  </tbody>\n",
       "</table>\n",
       "</div>"
      ],
      "text/plain": [
       "      tconst  ordering     nconst  category   job   characters\n",
       "0  tt0111414         1  nm0246005     actor  None  [\"The Man\"]\n",
       "1  tt0111414         2  nm0398271  director  None         None"
      ]
     },
     "metadata": {},
     "output_type": "display_data"
    },
    {
     "name": "stdout",
     "output_type": "stream",
     "text": [
      "----------------------------------------------------------------------------------------------------\n",
      "Showing Table: imdb_title_ratings\n"
     ]
    },
    {
     "data": {
      "text/html": [
       "<div>\n",
       "<style scoped>\n",
       "    .dataframe tbody tr th:only-of-type {\n",
       "        vertical-align: middle;\n",
       "    }\n",
       "\n",
       "    .dataframe tbody tr th {\n",
       "        vertical-align: top;\n",
       "    }\n",
       "\n",
       "    .dataframe thead th {\n",
       "        text-align: right;\n",
       "    }\n",
       "</style>\n",
       "<table border=\"1\" class=\"dataframe\">\n",
       "  <thead>\n",
       "    <tr style=\"text-align: right;\">\n",
       "      <th></th>\n",
       "      <th>tconst</th>\n",
       "      <th>averagerating</th>\n",
       "      <th>numvotes</th>\n",
       "    </tr>\n",
       "  </thead>\n",
       "  <tbody>\n",
       "    <tr>\n",
       "      <td>0</td>\n",
       "      <td>tt10356526</td>\n",
       "      <td>8.3</td>\n",
       "      <td>31</td>\n",
       "    </tr>\n",
       "    <tr>\n",
       "      <td>1</td>\n",
       "      <td>tt10384606</td>\n",
       "      <td>8.9</td>\n",
       "      <td>559</td>\n",
       "    </tr>\n",
       "  </tbody>\n",
       "</table>\n",
       "</div>"
      ],
      "text/plain": [
       "       tconst  averagerating  numvotes\n",
       "0  tt10356526            8.3        31\n",
       "1  tt10384606            8.9       559"
      ]
     },
     "metadata": {},
     "output_type": "display_data"
    },
    {
     "name": "stdout",
     "output_type": "stream",
     "text": [
      "----------------------------------------------------------------------------------------------------\n",
      "Showing Table: rt_movie_info\n"
     ]
    },
    {
     "data": {
      "text/html": [
       "<div>\n",
       "<style scoped>\n",
       "    .dataframe tbody tr th:only-of-type {\n",
       "        vertical-align: middle;\n",
       "    }\n",
       "\n",
       "    .dataframe tbody tr th {\n",
       "        vertical-align: top;\n",
       "    }\n",
       "\n",
       "    .dataframe thead th {\n",
       "        text-align: right;\n",
       "    }\n",
       "</style>\n",
       "<table border=\"1\" class=\"dataframe\">\n",
       "  <thead>\n",
       "    <tr style=\"text-align: right;\">\n",
       "      <th></th>\n",
       "      <th>id</th>\n",
       "      <th>synopsis</th>\n",
       "      <th>rating</th>\n",
       "      <th>genre</th>\n",
       "      <th>director</th>\n",
       "      <th>writer</th>\n",
       "      <th>theater_date</th>\n",
       "      <th>dvd_date</th>\n",
       "      <th>currency</th>\n",
       "      <th>box_office</th>\n",
       "      <th>runtime</th>\n",
       "      <th>studio</th>\n",
       "    </tr>\n",
       "  </thead>\n",
       "  <tbody>\n",
       "    <tr>\n",
       "      <td>0</td>\n",
       "      <td>1</td>\n",
       "      <td>This gritty, fast-paced, and innovative police...</td>\n",
       "      <td>R</td>\n",
       "      <td>Action and Adventure|Classics|Drama</td>\n",
       "      <td>William Friedkin</td>\n",
       "      <td>Ernest Tidyman</td>\n",
       "      <td>Oct 9, 1971</td>\n",
       "      <td>Sep 25, 2001</td>\n",
       "      <td>None</td>\n",
       "      <td>None</td>\n",
       "      <td>104 minutes</td>\n",
       "      <td>None</td>\n",
       "    </tr>\n",
       "    <tr>\n",
       "      <td>1</td>\n",
       "      <td>3</td>\n",
       "      <td>New York City, not-too-distant-future: Eric Pa...</td>\n",
       "      <td>R</td>\n",
       "      <td>Drama|Science Fiction and Fantasy</td>\n",
       "      <td>David Cronenberg</td>\n",
       "      <td>David Cronenberg|Don DeLillo</td>\n",
       "      <td>Aug 17, 2012</td>\n",
       "      <td>Jan 1, 2013</td>\n",
       "      <td>$</td>\n",
       "      <td>600,000</td>\n",
       "      <td>108 minutes</td>\n",
       "      <td>Entertainment One</td>\n",
       "    </tr>\n",
       "  </tbody>\n",
       "</table>\n",
       "</div>"
      ],
      "text/plain": [
       "   id                                           synopsis rating  \\\n",
       "0   1  This gritty, fast-paced, and innovative police...      R   \n",
       "1   3  New York City, not-too-distant-future: Eric Pa...      R   \n",
       "\n",
       "                                 genre          director  \\\n",
       "0  Action and Adventure|Classics|Drama  William Friedkin   \n",
       "1    Drama|Science Fiction and Fantasy  David Cronenberg   \n",
       "\n",
       "                         writer  theater_date      dvd_date currency  \\\n",
       "0                Ernest Tidyman   Oct 9, 1971  Sep 25, 2001     None   \n",
       "1  David Cronenberg|Don DeLillo  Aug 17, 2012   Jan 1, 2013        $   \n",
       "\n",
       "  box_office      runtime             studio  \n",
       "0       None  104 minutes               None  \n",
       "1    600,000  108 minutes  Entertainment One  "
      ]
     },
     "metadata": {},
     "output_type": "display_data"
    },
    {
     "name": "stdout",
     "output_type": "stream",
     "text": [
      "----------------------------------------------------------------------------------------------------\n",
      "Showing Table: rt_reviews\n"
     ]
    },
    {
     "data": {
      "text/html": [
       "<div>\n",
       "<style scoped>\n",
       "    .dataframe tbody tr th:only-of-type {\n",
       "        vertical-align: middle;\n",
       "    }\n",
       "\n",
       "    .dataframe tbody tr th {\n",
       "        vertical-align: top;\n",
       "    }\n",
       "\n",
       "    .dataframe thead th {\n",
       "        text-align: right;\n",
       "    }\n",
       "</style>\n",
       "<table border=\"1\" class=\"dataframe\">\n",
       "  <thead>\n",
       "    <tr style=\"text-align: right;\">\n",
       "      <th></th>\n",
       "      <th>id</th>\n",
       "      <th>review</th>\n",
       "      <th>rating</th>\n",
       "      <th>fresh</th>\n",
       "      <th>critic</th>\n",
       "      <th>top_critic</th>\n",
       "      <th>publisher</th>\n",
       "      <th>date</th>\n",
       "    </tr>\n",
       "  </thead>\n",
       "  <tbody>\n",
       "    <tr>\n",
       "      <td>0</td>\n",
       "      <td>3</td>\n",
       "      <td>A distinctly gallows take on contemporary fina...</td>\n",
       "      <td>3/5</td>\n",
       "      <td>fresh</td>\n",
       "      <td>PJ Nabarro</td>\n",
       "      <td>0</td>\n",
       "      <td>Patrick Nabarro</td>\n",
       "      <td>November 10, 2018</td>\n",
       "    </tr>\n",
       "    <tr>\n",
       "      <td>1</td>\n",
       "      <td>3</td>\n",
       "      <td>It's an allegory in search of a meaning that n...</td>\n",
       "      <td>None</td>\n",
       "      <td>rotten</td>\n",
       "      <td>Annalee Newitz</td>\n",
       "      <td>0</td>\n",
       "      <td>io9.com</td>\n",
       "      <td>May 23, 2018</td>\n",
       "    </tr>\n",
       "  </tbody>\n",
       "</table>\n",
       "</div>"
      ],
      "text/plain": [
       "   id                                             review rating   fresh  \\\n",
       "0   3  A distinctly gallows take on contemporary fina...    3/5   fresh   \n",
       "1   3  It's an allegory in search of a meaning that n...   None  rotten   \n",
       "\n",
       "           critic  top_critic        publisher               date  \n",
       "0      PJ Nabarro           0  Patrick Nabarro  November 10, 2018  \n",
       "1  Annalee Newitz           0          io9.com       May 23, 2018  "
      ]
     },
     "metadata": {},
     "output_type": "display_data"
    },
    {
     "name": "stdout",
     "output_type": "stream",
     "text": [
      "----------------------------------------------------------------------------------------------------\n",
      "Showing Table: tmdb_movies\n"
     ]
    },
    {
     "data": {
      "text/html": [
       "<div>\n",
       "<style scoped>\n",
       "    .dataframe tbody tr th:only-of-type {\n",
       "        vertical-align: middle;\n",
       "    }\n",
       "\n",
       "    .dataframe tbody tr th {\n",
       "        vertical-align: top;\n",
       "    }\n",
       "\n",
       "    .dataframe thead th {\n",
       "        text-align: right;\n",
       "    }\n",
       "</style>\n",
       "<table border=\"1\" class=\"dataframe\">\n",
       "  <thead>\n",
       "    <tr style=\"text-align: right;\">\n",
       "      <th></th>\n",
       "      <th>index</th>\n",
       "      <th>genre_ids</th>\n",
       "      <th>id</th>\n",
       "      <th>original_language</th>\n",
       "      <th>original_title</th>\n",
       "      <th>popularity</th>\n",
       "      <th>release_date</th>\n",
       "      <th>title</th>\n",
       "      <th>vote_average</th>\n",
       "      <th>vote_count</th>\n",
       "    </tr>\n",
       "  </thead>\n",
       "  <tbody>\n",
       "    <tr>\n",
       "      <td>0</td>\n",
       "      <td>0</td>\n",
       "      <td>[12, 14, 10751]</td>\n",
       "      <td>12444</td>\n",
       "      <td>en</td>\n",
       "      <td>Harry Potter and the Deathly Hallows: Part 1</td>\n",
       "      <td>33.533</td>\n",
       "      <td>2010-11-19</td>\n",
       "      <td>Harry Potter and the Deathly Hallows: Part 1</td>\n",
       "      <td>7.7</td>\n",
       "      <td>10788</td>\n",
       "    </tr>\n",
       "    <tr>\n",
       "      <td>1</td>\n",
       "      <td>1</td>\n",
       "      <td>[14, 12, 16, 10751]</td>\n",
       "      <td>10191</td>\n",
       "      <td>en</td>\n",
       "      <td>How to Train Your Dragon</td>\n",
       "      <td>28.734</td>\n",
       "      <td>2010-03-26</td>\n",
       "      <td>How to Train Your Dragon</td>\n",
       "      <td>7.7</td>\n",
       "      <td>7610</td>\n",
       "    </tr>\n",
       "  </tbody>\n",
       "</table>\n",
       "</div>"
      ],
      "text/plain": [
       "   index            genre_ids     id original_language  \\\n",
       "0      0      [12, 14, 10751]  12444                en   \n",
       "1      1  [14, 12, 16, 10751]  10191                en   \n",
       "\n",
       "                                 original_title  popularity release_date  \\\n",
       "0  Harry Potter and the Deathly Hallows: Part 1      33.533   2010-11-19   \n",
       "1                      How to Train Your Dragon      28.734   2010-03-26   \n",
       "\n",
       "                                          title  vote_average  vote_count  \n",
       "0  Harry Potter and the Deathly Hallows: Part 1           7.7       10788  \n",
       "1                      How to Train Your Dragon           7.7        7610  "
      ]
     },
     "metadata": {},
     "output_type": "display_data"
    },
    {
     "name": "stdout",
     "output_type": "stream",
     "text": [
      "----------------------------------------------------------------------------------------------------\n",
      "Showing Table: tn_movie_budgets\n"
     ]
    },
    {
     "data": {
      "text/html": [
       "<div>\n",
       "<style scoped>\n",
       "    .dataframe tbody tr th:only-of-type {\n",
       "        vertical-align: middle;\n",
       "    }\n",
       "\n",
       "    .dataframe tbody tr th {\n",
       "        vertical-align: top;\n",
       "    }\n",
       "\n",
       "    .dataframe thead th {\n",
       "        text-align: right;\n",
       "    }\n",
       "</style>\n",
       "<table border=\"1\" class=\"dataframe\">\n",
       "  <thead>\n",
       "    <tr style=\"text-align: right;\">\n",
       "      <th></th>\n",
       "      <th>id</th>\n",
       "      <th>release_date</th>\n",
       "      <th>movie</th>\n",
       "      <th>production_budget</th>\n",
       "      <th>domestic_gross</th>\n",
       "      <th>worldwide_gross</th>\n",
       "    </tr>\n",
       "  </thead>\n",
       "  <tbody>\n",
       "    <tr>\n",
       "      <td>0</td>\n",
       "      <td>1</td>\n",
       "      <td>Dec 18, 2009</td>\n",
       "      <td>Avatar</td>\n",
       "      <td>$425,000,000</td>\n",
       "      <td>$760,507,625</td>\n",
       "      <td>$2,776,345,279</td>\n",
       "    </tr>\n",
       "    <tr>\n",
       "      <td>1</td>\n",
       "      <td>2</td>\n",
       "      <td>May 20, 2011</td>\n",
       "      <td>Pirates of the Caribbean: On Stranger Tides</td>\n",
       "      <td>$410,600,000</td>\n",
       "      <td>$241,063,875</td>\n",
       "      <td>$1,045,663,875</td>\n",
       "    </tr>\n",
       "  </tbody>\n",
       "</table>\n",
       "</div>"
      ],
      "text/plain": [
       "   id  release_date                                        movie  \\\n",
       "0   1  Dec 18, 2009                                       Avatar   \n",
       "1   2  May 20, 2011  Pirates of the Caribbean: On Stranger Tides   \n",
       "\n",
       "  production_budget domestic_gross worldwide_gross  \n",
       "0      $425,000,000   $760,507,625  $2,776,345,279  \n",
       "1      $410,600,000   $241,063,875  $1,045,663,875  "
      ]
     },
     "metadata": {},
     "output_type": "display_data"
    },
    {
     "name": "stdout",
     "output_type": "stream",
     "text": [
      "----------------------------------------------------------------------------------------------------\n",
      "finished\n"
     ]
    }
   ],
   "source": [
    "preview_tables(conn)"
   ]
  },
  {
   "cell_type": "markdown",
   "metadata": {},
   "source": [
    "#### Preview suggests columns of interest regarding box office performance and genre\n",
    "   \n",
    "    >  bom_movie_gross: ['title', 'studio', 'domestic_gross', 'foreign_gross', 'year']\n",
    "    >  imdb_title_basics: ['primary_title', 'start_year', 'genres']\n",
    "    >  rt_movie_info: ['genre', 'theater_date', 'currency', 'box_office']\n",
    "    >  tmdb_movies: ['genre_ids', 'original_title', 'release_date']\n",
    "    >  tn_movie_budgets: ['release_date', 'movie', 'production_budget', 'domestic_gross', 'worldwide_gross']\n",
    "\n",
    "##### Let's check their data types"
   ]
  },
  {
   "cell_type": "code",
   "execution_count": 9,
   "metadata": {},
   "outputs": [
    {
     "name": "stdout",
     "output_type": "stream",
     "text": [
      "\n",
      "| bom_movie_gross | [(0, 'title', 'TEXT', 0, None, 0), (1, 'studio', 'TEXT', 0, None, 0), (2, 'domestic_gross', 'REAL', 0, None, 0), (3, 'foreign_gross', 'TEXT', 0, None, 0), (4, 'year', 'INTEGER', 0, None, 0)]\n",
      "--------------------------------------------------------------------------------\n",
      "\n",
      "| imdb_title_basics | [(0, 'tconst', 'TEXT', 0, None, 0), (1, 'primary_title', 'TEXT', 0, None, 0), (2, 'original_title', 'TEXT', 0, None, 0), (3, 'start_year', 'INTEGER', 0, None, 0), (4, 'runtime_minutes', 'REAL', 0, None, 0), (5, 'genres', 'TEXT', 0, None, 0)]\n",
      "--------------------------------------------------------------------------------\n",
      "\n",
      "| rt_movie_info | [(0, 'id', 'INTEGER', 0, None, 0), (1, 'synopsis', 'TEXT', 0, None, 0), (2, 'rating', 'TEXT', 0, None, 0), (3, 'genre', 'TEXT', 0, None, 0), (4, 'director', 'TEXT', 0, None, 0), (5, 'writer', 'TEXT', 0, None, 0), (6, 'theater_date', 'TEXT', 0, None, 0), (7, 'dvd_date', 'TEXT', 0, None, 0), (8, 'currency', 'TEXT', 0, None, 0), (9, 'box_office', 'TEXT', 0, None, 0), (10, 'runtime', 'TEXT', 0, None, 0), (11, 'studio', 'TEXT', 0, None, 0)]\n",
      "--------------------------------------------------------------------------------\n",
      "\n",
      "| tmdb_movies | [(0, 'index', 'INTEGER', 0, None, 0), (1, 'genre_ids', 'TEXT', 0, None, 0), (2, 'id', 'INTEGER', 0, None, 0), (3, 'original_language', 'TEXT', 0, None, 0), (4, 'original_title', 'TEXT', 0, None, 0), (5, 'popularity', 'REAL', 0, None, 0), (6, 'release_date', 'TEXT', 0, None, 0), (7, 'title', 'TEXT', 0, None, 0), (8, 'vote_average', 'REAL', 0, None, 0), (9, 'vote_count', 'INTEGER', 0, None, 0)]\n",
      "--------------------------------------------------------------------------------\n",
      "\n",
      "| tn_movie_budgets | [(0, 'id', 'INTEGER', 0, None, 0), (1, 'release_date', 'TEXT', 0, None, 0), (2, 'movie', 'TEXT', 0, None, 0), (3, 'production_budget', 'TEXT', 0, None, 0), (4, 'domestic_gross', 'TEXT', 0, None, 0), (5, 'worldwide_gross', 'TEXT', 0, None, 0)]\n",
      "--------------------------------------------------------------------------------\n"
     ]
    }
   ],
   "source": [
    "# add relevant tables to a list\n",
    "q1_list = ['bom_movie_gross', 'imdb_title_basics', 'rt_movie_info', 'tmdb_movies', 'tn_movie_budgets']\n",
    "\n",
    "# view table name, columns, and data types using 'sqlite' and `PRAGMA`\n",
    "for table in q1_list:\n",
    "    cur.execute(f\"PRAGMA table_info({table})\")\n",
    "    print(\"\\n|\", table, \"|\", cur.fetchall())\n",
    "    print(\"-\"*80)"
   ]
  },
  {
   "cell_type": "markdown",
   "metadata": {},
   "source": [
    "#### Cleaning Notes:\n",
    "* bom_movie_gross | 'domestic_gross' is a REAL number, while 'foreign_gross' is TEXT; table has no foreign keys (unless title names happen to match exactly)\n",
    "* imdb_title_basics | 'genres' values are \",\" separated\n",
    "* rt_movie_info | 'box_office' is TEXT; 'genre' values are \"|\" separated\n",
    "* tmdb_movies | 'genre_ids' are TEXT\n",
    "* tn_movie_budgets | 'production_budget', 'domestic_gross', and 'worldwide_gross' all each TEXT\n",
    "* all \"*date*\" values are text, while \"*year*\" values are of type INTEGER"
   ]
  },
  {
   "cell_type": "markdown",
   "metadata": {},
   "source": [
    "<h2 align='center'><font color='chocolate'>Top Gross</font></h2>"
   ]
  },
  {
   "cell_type": "markdown",
   "metadata": {},
   "source": [
    "<h3 align='center'><font color='coral'>by title</font></h3>"
   ]
  },
  {
   "cell_type": "markdown",
   "metadata": {},
   "source": [
    "<h3>Question(s)</h3>\n",
    "\n",
    "* What are the recent top grossing movies?"
   ]
  },
  {
   "cell_type": "markdown",
   "metadata": {},
   "source": [
    "### From initial loading and structuring of data, we know we need to clean a few fields.\n",
    "### Let's start with `bom_movie_gross`"
   ]
  },
  {
   "cell_type": "code",
   "execution_count": 10,
   "metadata": {},
   "outputs": [
    {
     "data": {
      "text/plain": [
       "title              object\n",
       "studio             object\n",
       "domestic_gross    float64\n",
       "foreign_gross      object\n",
       "year                int64\n",
       "dtype: object"
      ]
     },
     "execution_count": 10,
     "metadata": {},
     "output_type": "execute_result"
    }
   ],
   "source": [
    "# view the first 5 rows from the `bom_movie_gross` table\n",
    "\n",
    "cur.execute('''SELECT *\n",
    "                    FROM bom_movie_gross\n",
    "                    LIMIT 1;''')\n",
    "\n",
    "bom_df = pd.DataFrame(cur.fetchall())\n",
    "bom_df.columns = [x[0] for x in cur.description]\n",
    "bom_df.dtypes"
   ]
  },
  {
   "cell_type": "code",
   "execution_count": 11,
   "metadata": {},
   "outputs": [],
   "source": [
    "# make a clean df for `bom...`\n",
    "cur.execute('''SELECT title, studio, domestic_gross, foreign_gross, year\n",
    "                    FROM bom_movie_gross\n",
    "                    ;\n",
    "                    ''')\n",
    "\n",
    "bom_df_clean = pd.DataFrame(cur.fetchall())\n",
    "bom_df_clean.columns = [x[0] for x in cur.description]"
   ]
  },
  {
   "cell_type": "code",
   "execution_count": 12,
   "metadata": {},
   "outputs": [
    {
     "data": {
      "text/html": [
       "<div>\n",
       "<style scoped>\n",
       "    .dataframe tbody tr th:only-of-type {\n",
       "        vertical-align: middle;\n",
       "    }\n",
       "\n",
       "    .dataframe tbody tr th {\n",
       "        vertical-align: top;\n",
       "    }\n",
       "\n",
       "    .dataframe thead th {\n",
       "        text-align: right;\n",
       "    }\n",
       "</style>\n",
       "<table border=\"1\" class=\"dataframe\">\n",
       "  <thead>\n",
       "    <tr style=\"text-align: right;\">\n",
       "      <th></th>\n",
       "      <th>title</th>\n",
       "      <th>studio</th>\n",
       "      <th>domestic_gross</th>\n",
       "      <th>foreign_gross</th>\n",
       "      <th>year</th>\n",
       "    </tr>\n",
       "  </thead>\n",
       "  <tbody>\n",
       "    <tr>\n",
       "      <td>1872</td>\n",
       "      <td>Star Wars: The Force Awakens</td>\n",
       "      <td>BV</td>\n",
       "      <td>936700000.0</td>\n",
       "      <td>1,131.6</td>\n",
       "      <td>2015</td>\n",
       "    </tr>\n",
       "    <tr>\n",
       "      <td>3080</td>\n",
       "      <td>Black Panther</td>\n",
       "      <td>BV</td>\n",
       "      <td>700100000.0</td>\n",
       "      <td>646900000</td>\n",
       "      <td>2018</td>\n",
       "    </tr>\n",
       "    <tr>\n",
       "      <td>3079</td>\n",
       "      <td>Avengers: Infinity War</td>\n",
       "      <td>BV</td>\n",
       "      <td>678800000.0</td>\n",
       "      <td>1,369.5</td>\n",
       "      <td>2018</td>\n",
       "    </tr>\n",
       "    <tr>\n",
       "      <td>1873</td>\n",
       "      <td>Jurassic World</td>\n",
       "      <td>Uni.</td>\n",
       "      <td>652300000.0</td>\n",
       "      <td>1,019.4</td>\n",
       "      <td>2015</td>\n",
       "    </tr>\n",
       "    <tr>\n",
       "      <td>727</td>\n",
       "      <td>Marvel's The Avengers</td>\n",
       "      <td>BV</td>\n",
       "      <td>623400000.0</td>\n",
       "      <td>895500000</td>\n",
       "      <td>2012</td>\n",
       "    </tr>\n",
       "  </tbody>\n",
       "</table>\n",
       "</div>"
      ],
      "text/plain": [
       "                             title studio  domestic_gross foreign_gross  year\n",
       "1872  Star Wars: The Force Awakens     BV     936700000.0       1,131.6  2015\n",
       "3080                 Black Panther     BV     700100000.0     646900000  2018\n",
       "3079        Avengers: Infinity War     BV     678800000.0       1,369.5  2018\n",
       "1873                Jurassic World   Uni.     652300000.0       1,019.4  2015\n",
       "727          Marvel's The Avengers     BV     623400000.0     895500000  2012"
      ]
     },
     "execution_count": 12,
     "metadata": {},
     "output_type": "execute_result"
    }
   ],
   "source": [
    "bom_df_clean.sort_values(by=['domestic_gross'], ascending=False\n",
    "                        ).head(5)"
   ]
  },
  {
   "cell_type": "markdown",
   "metadata": {},
   "source": [
    "### Convert the data-types of `year` and of `foreign_gross`"
   ]
  },
  {
   "cell_type": "code",
   "execution_count": 13,
   "metadata": {},
   "outputs": [],
   "source": [
    "# we can convert year to datetime\n",
    "bom_df_clean['year'] = pd.to_datetime(bom_df_clean['year'], format='%Y')\n",
    "\n",
    "# convert `foreign_gross` to remove commas and to match `domestic_gross` data type\n",
    "bom_df_clean['foreign_gross'] = bom_df_clean['foreign_gross'].str.replace(',', '').astype(float)"
   ]
  },
  {
   "cell_type": "code",
   "execution_count": 14,
   "metadata": {},
   "outputs": [
    {
     "name": "stdout",
     "output_type": "stream",
     "text": [
      "(3387, 5) \n",
      "foreign_gross type: float64\n",
      "\n",
      "year stored as type: datetime64[ns]\n"
     ]
    },
    {
     "data": {
      "text/html": [
       "<div>\n",
       "<style scoped>\n",
       "    .dataframe tbody tr th:only-of-type {\n",
       "        vertical-align: middle;\n",
       "    }\n",
       "\n",
       "    .dataframe tbody tr th {\n",
       "        vertical-align: top;\n",
       "    }\n",
       "\n",
       "    .dataframe thead th {\n",
       "        text-align: right;\n",
       "    }\n",
       "</style>\n",
       "<table border=\"1\" class=\"dataframe\">\n",
       "  <thead>\n",
       "    <tr style=\"text-align: right;\">\n",
       "      <th></th>\n",
       "      <th>title</th>\n",
       "      <th>studio</th>\n",
       "      <th>domestic_gross</th>\n",
       "      <th>foreign_gross</th>\n",
       "      <th>year</th>\n",
       "    </tr>\n",
       "  </thead>\n",
       "  <tbody>\n",
       "    <tr>\n",
       "      <td>1872</td>\n",
       "      <td>Star Wars: The Force Awakens</td>\n",
       "      <td>BV</td>\n",
       "      <td>936700000.0</td>\n",
       "      <td>1131.6</td>\n",
       "      <td>2015-01-01</td>\n",
       "    </tr>\n",
       "  </tbody>\n",
       "</table>\n",
       "</div>"
      ],
      "text/plain": [
       "                             title studio  domestic_gross  foreign_gross  \\\n",
       "1872  Star Wars: The Force Awakens     BV     936700000.0         1131.6   \n",
       "\n",
       "           year  \n",
       "1872 2015-01-01  "
      ]
     },
     "execution_count": 14,
     "metadata": {},
     "output_type": "execute_result"
    }
   ],
   "source": [
    "# print a title from the cleaned dataframe\n",
    "bom_df_clean.loc[bom_df_clean.title == 'Avengers: Infinity War', :]\n",
    "\n",
    "# als view the number of columns and rows\n",
    "print(bom_df_clean.shape, \"\\nforeign_gross type:\", bom_df_clean['foreign_gross'].dtype)\n",
    "print(\"\\nyear stored as type:\", bom_df_clean['year'].dtype)\n",
    "\n",
    "# we only need to view the first row to validate our changes\n",
    "bom_df_clean.sort_values(by=['domestic_gross'], ascending=False\n",
    "                        ).head(1)"
   ]
  },
  {
   "cell_type": "code",
   "execution_count": 15,
   "metadata": {},
   "outputs": [
    {
     "data": {
      "text/html": [
       "<div>\n",
       "<style scoped>\n",
       "    .dataframe tbody tr th:only-of-type {\n",
       "        vertical-align: middle;\n",
       "    }\n",
       "\n",
       "    .dataframe tbody tr th {\n",
       "        vertical-align: top;\n",
       "    }\n",
       "\n",
       "    .dataframe thead th {\n",
       "        text-align: right;\n",
       "    }\n",
       "</style>\n",
       "<table border=\"1\" class=\"dataframe\">\n",
       "  <thead>\n",
       "    <tr style=\"text-align: right;\">\n",
       "      <th></th>\n",
       "      <th>title</th>\n",
       "      <th>studio</th>\n",
       "      <th>domestic_gross</th>\n",
       "      <th>foreign_gross</th>\n",
       "      <th>year</th>\n",
       "      <th>Year</th>\n",
       "    </tr>\n",
       "  </thead>\n",
       "  <tbody>\n",
       "    <tr>\n",
       "      <td>0</td>\n",
       "      <td>Toy Story 3</td>\n",
       "      <td>BV</td>\n",
       "      <td>415000000.0</td>\n",
       "      <td>652000000.0</td>\n",
       "      <td>2010-01-01</td>\n",
       "      <td>2010</td>\n",
       "    </tr>\n",
       "  </tbody>\n",
       "</table>\n",
       "</div>"
      ],
      "text/plain": [
       "         title studio  domestic_gross  foreign_gross       year  Year\n",
       "0  Toy Story 3     BV     415000000.0    652000000.0 2010-01-01  2010"
      ]
     },
     "execution_count": 15,
     "metadata": {},
     "output_type": "execute_result"
    }
   ],
   "source": [
    "# can we make a new `Year` column with just the year\n",
    "bom_df_clean['Year'] = bom_df_clean['year'].dt.year\n",
    "bom_df_clean.head(1)"
   ]
  },
  {
   "cell_type": "code",
   "execution_count": 16,
   "metadata": {},
   "outputs": [
    {
     "name": "stdout",
     "output_type": "stream",
     "text": [
      "\n",
      "`Year` stored as type: int64\n",
      "[2010 2011 2012 2013 2014 2015 2016 2017 2018] \n",
      "\n"
     ]
    }
   ],
   "source": [
    "# what years are available in this data set?\n",
    "# note: we only want the year, not the full datetime\n",
    "print(\"\\n`Year` stored as type:\", bom_df_clean['Year'].dtype)\n",
    "print(bom_df_clean.Year.unique(), \"\\n\")"
   ]
  },
  {
   "cell_type": "code",
   "execution_count": 17,
   "metadata": {},
   "outputs": [
    {
     "data": {
      "text/html": [
       "<div>\n",
       "<style scoped>\n",
       "    .dataframe tbody tr th:only-of-type {\n",
       "        vertical-align: middle;\n",
       "    }\n",
       "\n",
       "    .dataframe tbody tr th {\n",
       "        vertical-align: top;\n",
       "    }\n",
       "\n",
       "    .dataframe thead th {\n",
       "        text-align: right;\n",
       "    }\n",
       "</style>\n",
       "<table border=\"1\" class=\"dataframe\">\n",
       "  <thead>\n",
       "    <tr style=\"text-align: right;\">\n",
       "      <th></th>\n",
       "      <th>title</th>\n",
       "      <th>studio</th>\n",
       "      <th>domestic_gross</th>\n",
       "      <th>foreign_gross</th>\n",
       "      <th>year</th>\n",
       "      <th>Year</th>\n",
       "      <th>Total_gross</th>\n",
       "    </tr>\n",
       "  </thead>\n",
       "  <tbody>\n",
       "    <tr>\n",
       "      <td>3079</td>\n",
       "      <td>Avengers: Infinity War</td>\n",
       "      <td>BV</td>\n",
       "      <td>678800000.0</td>\n",
       "      <td>1369.5</td>\n",
       "      <td>2018-01-01</td>\n",
       "      <td>2018</td>\n",
       "      <td>678801369.5</td>\n",
       "    </tr>\n",
       "  </tbody>\n",
       "</table>\n",
       "</div>"
      ],
      "text/plain": [
       "                       title studio  domestic_gross  foreign_gross       year  \\\n",
       "3079  Avengers: Infinity War     BV     678800000.0         1369.5 2018-01-01   \n",
       "\n",
       "      Year  Total_gross  \n",
       "3079  2018  678801369.5  "
      ]
     },
     "execution_count": 17,
     "metadata": {},
     "output_type": "execute_result"
    }
   ],
   "source": [
    "# lets ad a column computing total_gross\n",
    "bom_df_clean['Total_gross'] = bom_df_clean['domestic_gross'] + bom_df_clean['foreign_gross']\n",
    "\n",
    "# and view a sample\n",
    "bom_df_clean.loc[bom_df_clean.title == 'Avengers: Infinity War', :]"
   ]
  },
  {
   "cell_type": "markdown",
   "metadata": {},
   "source": [
    "### Find the highest grossing movies."
   ]
  },
  {
   "cell_type": "code",
   "execution_count": 18,
   "metadata": {},
   "outputs": [
    {
     "data": {
      "text/html": [
       "<div>\n",
       "<style scoped>\n",
       "    .dataframe tbody tr th:only-of-type {\n",
       "        vertical-align: middle;\n",
       "    }\n",
       "\n",
       "    .dataframe tbody tr th {\n",
       "        vertical-align: top;\n",
       "    }\n",
       "\n",
       "    .dataframe thead th {\n",
       "        text-align: right;\n",
       "    }\n",
       "</style>\n",
       "<table border=\"1\" class=\"dataframe\">\n",
       "  <thead>\n",
       "    <tr style=\"text-align: right;\">\n",
       "      <th></th>\n",
       "      <th>title</th>\n",
       "      <th>studio</th>\n",
       "      <th>domestic_gross</th>\n",
       "      <th>foreign_gross</th>\n",
       "      <th>year</th>\n",
       "      <th>Year</th>\n",
       "      <th>Total_gross</th>\n",
       "    </tr>\n",
       "  </thead>\n",
       "  <tbody>\n",
       "    <tr>\n",
       "      <td>3080</td>\n",
       "      <td>Black Panther</td>\n",
       "      <td>BV</td>\n",
       "      <td>700100000.0</td>\n",
       "      <td>646900000.0</td>\n",
       "      <td>2018-01-01</td>\n",
       "      <td>2018</td>\n",
       "      <td>1.347000e+09</td>\n",
       "    </tr>\n",
       "    <tr>\n",
       "      <td>3081</td>\n",
       "      <td>Jurassic World: Fallen Kingdom</td>\n",
       "      <td>Uni.</td>\n",
       "      <td>417700000.0</td>\n",
       "      <td>891800000.0</td>\n",
       "      <td>2018-01-01</td>\n",
       "      <td>2018</td>\n",
       "      <td>1.309500e+09</td>\n",
       "    </tr>\n",
       "    <tr>\n",
       "      <td>3082</td>\n",
       "      <td>Incredibles 2</td>\n",
       "      <td>BV</td>\n",
       "      <td>608600000.0</td>\n",
       "      <td>634200000.0</td>\n",
       "      <td>2018-01-01</td>\n",
       "      <td>2018</td>\n",
       "      <td>1.242800e+09</td>\n",
       "    </tr>\n",
       "    <tr>\n",
       "      <td>3083</td>\n",
       "      <td>Aquaman</td>\n",
       "      <td>WB</td>\n",
       "      <td>335100000.0</td>\n",
       "      <td>812700000.0</td>\n",
       "      <td>2018-01-01</td>\n",
       "      <td>2018</td>\n",
       "      <td>1.147800e+09</td>\n",
       "    </tr>\n",
       "    <tr>\n",
       "      <td>3084</td>\n",
       "      <td>Bohemian Rhapsody</td>\n",
       "      <td>Fox</td>\n",
       "      <td>216400000.0</td>\n",
       "      <td>687200000.0</td>\n",
       "      <td>2018-01-01</td>\n",
       "      <td>2018</td>\n",
       "      <td>9.036000e+08</td>\n",
       "    </tr>\n",
       "    <tr>\n",
       "      <td>3085</td>\n",
       "      <td>Venom (2018)</td>\n",
       "      <td>Sony</td>\n",
       "      <td>213500000.0</td>\n",
       "      <td>641500000.0</td>\n",
       "      <td>2018-01-01</td>\n",
       "      <td>2018</td>\n",
       "      <td>8.550000e+08</td>\n",
       "    </tr>\n",
       "    <tr>\n",
       "      <td>3086</td>\n",
       "      <td>Mission: Impossible - Fallout</td>\n",
       "      <td>Par.</td>\n",
       "      <td>220200000.0</td>\n",
       "      <td>571000000.0</td>\n",
       "      <td>2018-01-01</td>\n",
       "      <td>2018</td>\n",
       "      <td>7.912000e+08</td>\n",
       "    </tr>\n",
       "    <tr>\n",
       "      <td>3087</td>\n",
       "      <td>Deadpool 2</td>\n",
       "      <td>Fox</td>\n",
       "      <td>318500000.0</td>\n",
       "      <td>460500000.0</td>\n",
       "      <td>2018-01-01</td>\n",
       "      <td>2018</td>\n",
       "      <td>7.790000e+08</td>\n",
       "    </tr>\n",
       "    <tr>\n",
       "      <td>3079</td>\n",
       "      <td>Avengers: Infinity War</td>\n",
       "      <td>BV</td>\n",
       "      <td>678800000.0</td>\n",
       "      <td>1369.5</td>\n",
       "      <td>2018-01-01</td>\n",
       "      <td>2018</td>\n",
       "      <td>6.788014e+08</td>\n",
       "    </tr>\n",
       "    <tr>\n",
       "      <td>3088</td>\n",
       "      <td>Fantastic Beasts: The Crimes of Grindelwald</td>\n",
       "      <td>WB</td>\n",
       "      <td>159600000.0</td>\n",
       "      <td>494100000.0</td>\n",
       "      <td>2018-01-01</td>\n",
       "      <td>2018</td>\n",
       "      <td>6.537000e+08</td>\n",
       "    </tr>\n",
       "  </tbody>\n",
       "</table>\n",
       "</div>"
      ],
      "text/plain": [
       "                                            title studio  domestic_gross  \\\n",
       "3080                                Black Panther     BV     700100000.0   \n",
       "3081               Jurassic World: Fallen Kingdom   Uni.     417700000.0   \n",
       "3082                                Incredibles 2     BV     608600000.0   \n",
       "3083                                      Aquaman     WB     335100000.0   \n",
       "3084                            Bohemian Rhapsody    Fox     216400000.0   \n",
       "3085                                 Venom (2018)   Sony     213500000.0   \n",
       "3086                Mission: Impossible - Fallout   Par.     220200000.0   \n",
       "3087                                   Deadpool 2    Fox     318500000.0   \n",
       "3079                       Avengers: Infinity War     BV     678800000.0   \n",
       "3088  Fantastic Beasts: The Crimes of Grindelwald     WB     159600000.0   \n",
       "\n",
       "      foreign_gross       year  Year   Total_gross  \n",
       "3080    646900000.0 2018-01-01  2018  1.347000e+09  \n",
       "3081    891800000.0 2018-01-01  2018  1.309500e+09  \n",
       "3082    634200000.0 2018-01-01  2018  1.242800e+09  \n",
       "3083    812700000.0 2018-01-01  2018  1.147800e+09  \n",
       "3084    687200000.0 2018-01-01  2018  9.036000e+08  \n",
       "3085    641500000.0 2018-01-01  2018  8.550000e+08  \n",
       "3086    571000000.0 2018-01-01  2018  7.912000e+08  \n",
       "3087    460500000.0 2018-01-01  2018  7.790000e+08  \n",
       "3079         1369.5 2018-01-01  2018  6.788014e+08  \n",
       "3088    494100000.0 2018-01-01  2018  6.537000e+08  "
      ]
     },
     "metadata": {},
     "output_type": "display_data"
    },
    {
     "data": {
      "text/html": [
       "<div>\n",
       "<style scoped>\n",
       "    .dataframe tbody tr th:only-of-type {\n",
       "        vertical-align: middle;\n",
       "    }\n",
       "\n",
       "    .dataframe tbody tr th {\n",
       "        vertical-align: top;\n",
       "    }\n",
       "\n",
       "    .dataframe thead th {\n",
       "        text-align: right;\n",
       "    }\n",
       "</style>\n",
       "<table border=\"1\" class=\"dataframe\">\n",
       "  <thead>\n",
       "    <tr style=\"text-align: right;\">\n",
       "      <th></th>\n",
       "      <th>title</th>\n",
       "      <th>studio</th>\n",
       "      <th>domestic_gross</th>\n",
       "      <th>foreign_gross</th>\n",
       "      <th>year</th>\n",
       "      <th>Year</th>\n",
       "      <th>Total_gross</th>\n",
       "    </tr>\n",
       "  </thead>\n",
       "  <tbody>\n",
       "    <tr>\n",
       "      <td>3080</td>\n",
       "      <td>Black Panther</td>\n",
       "      <td>BV</td>\n",
       "      <td>700100000.0</td>\n",
       "      <td>646900000.0</td>\n",
       "      <td>2018-01-01</td>\n",
       "      <td>2018</td>\n",
       "      <td>1.347000e+09</td>\n",
       "    </tr>\n",
       "    <tr>\n",
       "      <td>2758</td>\n",
       "      <td>Star Wars: The Last Jedi</td>\n",
       "      <td>BV</td>\n",
       "      <td>620200000.0</td>\n",
       "      <td>712400000.0</td>\n",
       "      <td>2017-01-01</td>\n",
       "      <td>2017</td>\n",
       "      <td>1.332600e+09</td>\n",
       "    </tr>\n",
       "    <tr>\n",
       "      <td>3081</td>\n",
       "      <td>Jurassic World: Fallen Kingdom</td>\n",
       "      <td>Uni.</td>\n",
       "      <td>417700000.0</td>\n",
       "      <td>891800000.0</td>\n",
       "      <td>2018-01-01</td>\n",
       "      <td>2018</td>\n",
       "      <td>1.309500e+09</td>\n",
       "    </tr>\n",
       "    <tr>\n",
       "      <td>2759</td>\n",
       "      <td>Beauty and the Beast (2017)</td>\n",
       "      <td>BV</td>\n",
       "      <td>504000000.0</td>\n",
       "      <td>759500000.0</td>\n",
       "      <td>2017-01-01</td>\n",
       "      <td>2017</td>\n",
       "      <td>1.263500e+09</td>\n",
       "    </tr>\n",
       "    <tr>\n",
       "      <td>3082</td>\n",
       "      <td>Incredibles 2</td>\n",
       "      <td>BV</td>\n",
       "      <td>608600000.0</td>\n",
       "      <td>634200000.0</td>\n",
       "      <td>2018-01-01</td>\n",
       "      <td>2018</td>\n",
       "      <td>1.242800e+09</td>\n",
       "    </tr>\n",
       "    <tr>\n",
       "      <td>2322</td>\n",
       "      <td>Captain America: Civil War</td>\n",
       "      <td>BV</td>\n",
       "      <td>408100000.0</td>\n",
       "      <td>745200000.0</td>\n",
       "      <td>2016-01-01</td>\n",
       "      <td>2016</td>\n",
       "      <td>1.153300e+09</td>\n",
       "    </tr>\n",
       "    <tr>\n",
       "      <td>3083</td>\n",
       "      <td>Aquaman</td>\n",
       "      <td>WB</td>\n",
       "      <td>335100000.0</td>\n",
       "      <td>812700000.0</td>\n",
       "      <td>2018-01-01</td>\n",
       "      <td>2018</td>\n",
       "      <td>1.147800e+09</td>\n",
       "    </tr>\n",
       "    <tr>\n",
       "      <td>2323</td>\n",
       "      <td>Rogue One: A Star Wars Story</td>\n",
       "      <td>BV</td>\n",
       "      <td>532200000.0</td>\n",
       "      <td>523900000.0</td>\n",
       "      <td>2016-01-01</td>\n",
       "      <td>2016</td>\n",
       "      <td>1.056100e+09</td>\n",
       "    </tr>\n",
       "    <tr>\n",
       "      <td>2761</td>\n",
       "      <td>Despicable Me 3</td>\n",
       "      <td>Uni.</td>\n",
       "      <td>264600000.0</td>\n",
       "      <td>770200000.0</td>\n",
       "      <td>2017-01-01</td>\n",
       "      <td>2017</td>\n",
       "      <td>1.034800e+09</td>\n",
       "    </tr>\n",
       "    <tr>\n",
       "      <td>2324</td>\n",
       "      <td>Finding Dory</td>\n",
       "      <td>BV</td>\n",
       "      <td>486300000.0</td>\n",
       "      <td>542300000.0</td>\n",
       "      <td>2016-01-01</td>\n",
       "      <td>2016</td>\n",
       "      <td>1.028600e+09</td>\n",
       "    </tr>\n",
       "  </tbody>\n",
       "</table>\n",
       "</div>"
      ],
      "text/plain": [
       "                               title studio  domestic_gross  foreign_gross  \\\n",
       "3080                   Black Panther     BV     700100000.0    646900000.0   \n",
       "2758        Star Wars: The Last Jedi     BV     620200000.0    712400000.0   \n",
       "3081  Jurassic World: Fallen Kingdom   Uni.     417700000.0    891800000.0   \n",
       "2759     Beauty and the Beast (2017)     BV     504000000.0    759500000.0   \n",
       "3082                   Incredibles 2     BV     608600000.0    634200000.0   \n",
       "2322      Captain America: Civil War     BV     408100000.0    745200000.0   \n",
       "3083                         Aquaman     WB     335100000.0    812700000.0   \n",
       "2323    Rogue One: A Star Wars Story     BV     532200000.0    523900000.0   \n",
       "2761                 Despicable Me 3   Uni.     264600000.0    770200000.0   \n",
       "2324                    Finding Dory     BV     486300000.0    542300000.0   \n",
       "\n",
       "           year  Year   Total_gross  \n",
       "3080 2018-01-01  2018  1.347000e+09  \n",
       "2758 2017-01-01  2017  1.332600e+09  \n",
       "3081 2018-01-01  2018  1.309500e+09  \n",
       "2759 2017-01-01  2017  1.263500e+09  \n",
       "3082 2018-01-01  2018  1.242800e+09  \n",
       "2322 2016-01-01  2016  1.153300e+09  \n",
       "3083 2018-01-01  2018  1.147800e+09  \n",
       "2323 2016-01-01  2016  1.056100e+09  \n",
       "2761 2017-01-01  2017  1.034800e+09  \n",
       "2324 2016-01-01  2016  1.028600e+09  "
      ]
     },
     "metadata": {},
     "output_type": "display_data"
    }
   ],
   "source": [
    "# what were the top 10 highest - gross movies\n",
    "# 2018\n",
    "bom_2018_df = bom_df_clean.loc[bom_df_clean.Year == 2018]\n",
    "display(bom_2018_df.sort_values(by=['Total_gross'], ascending=False).head(10))\n",
    "\n",
    "#2016 - 2018\n",
    "bom_2016_18_df = bom_df_clean.loc[bom_df_clean.Year.between (2016, 2018)]\n",
    "display(bom_2016_18_df.sort_values(by=['Total_gross'], ascending=False).head(10))"
   ]
  },
  {
   "cell_type": "markdown",
   "metadata": {},
   "source": [
    "#### Even before visual EDA the data is beginning to tell a story re. action/ adventure, sequels, franchises, remakes, and animation."
   ]
  },
  {
   "cell_type": "markdown",
   "metadata": {},
   "source": [
    "#### What can we learn from visualizing these dataframes?"
   ]
  },
  {
   "cell_type": "code",
   "execution_count": 19,
   "metadata": {},
   "outputs": [],
   "source": [
    "# import visualization libraries\n",
    "import matplotlib.pyplot as plt\n",
    "import seaborn as sns\n",
    "%matplotlib inline"
   ]
  },
  {
   "cell_type": "code",
   "execution_count": 20,
   "metadata": {},
   "outputs": [
    {
     "data": {
      "text/plain": [
       "<matplotlib.axes._subplots.AxesSubplot at 0x1e81cb7a278>"
      ]
     },
     "execution_count": 20,
     "metadata": {},
     "output_type": "execute_result"
    },
    {
     "data": {
      "image/png": "[encoded data removed]",
      "text/plain": [
       "<Figure size 432x288 with 1 Axes>"
      ]
     },
     "metadata": {},
     "output_type": "display_data"
    }
   ],
   "source": [
    "# viewing the three most recent years from the dataset\n",
    "sns.set_style(\"whitegrid\")\n",
    "sns.boxplot(x=\"Year\", y=\"Total_gross\", data=bom_2016_18_df)"
   ]
  },
  {
   "cell_type": "markdown",
   "metadata": {},
   "source": [
    "#### Top grossing movies are and have been far above the norm."
   ]
  },
  {
   "cell_type": "markdown",
   "metadata": {},
   "source": [
    "### Now let's take a look at `tn_movie_budgets`\n",
    "\n",
    "#### We see from our previews that budget and gross fields have dollar signs, commas, and a text data type. Let's clean that up."
   ]
  },
  {
   "cell_type": "code",
   "execution_count": 21,
   "metadata": {},
   "outputs": [
    {
     "data": {
      "text/html": [
       "<div>\n",
       "<style scoped>\n",
       "    .dataframe tbody tr th:only-of-type {\n",
       "        vertical-align: middle;\n",
       "    }\n",
       "\n",
       "    .dataframe tbody tr th {\n",
       "        vertical-align: top;\n",
       "    }\n",
       "\n",
       "    .dataframe thead th {\n",
       "        text-align: right;\n",
       "    }\n",
       "</style>\n",
       "<table border=\"1\" class=\"dataframe\">\n",
       "  <thead>\n",
       "    <tr style=\"text-align: right;\">\n",
       "      <th></th>\n",
       "      <th>id</th>\n",
       "      <th>release_date</th>\n",
       "      <th>movie</th>\n",
       "      <th>production_budget</th>\n",
       "      <th>domestic_gross</th>\n",
       "      <th>worldwide_gross</th>\n",
       "    </tr>\n",
       "  </thead>\n",
       "  <tbody>\n",
       "    <tr>\n",
       "      <td>0</td>\n",
       "      <td>1</td>\n",
       "      <td>Dec 18, 2009</td>\n",
       "      <td>Avatar</td>\n",
       "      <td>$425,000,000</td>\n",
       "      <td>$760,507,625</td>\n",
       "      <td>$2,776,345,279</td>\n",
       "    </tr>\n",
       "    <tr>\n",
       "      <td>1</td>\n",
       "      <td>2</td>\n",
       "      <td>May 20, 2011</td>\n",
       "      <td>Pirates of the Caribbean: On Stranger Tides</td>\n",
       "      <td>$410,600,000</td>\n",
       "      <td>$241,063,875</td>\n",
       "      <td>$1,045,663,875</td>\n",
       "    </tr>\n",
       "    <tr>\n",
       "      <td>2</td>\n",
       "      <td>3</td>\n",
       "      <td>Jun 7, 2019</td>\n",
       "      <td>Dark Phoenix</td>\n",
       "      <td>$350,000,000</td>\n",
       "      <td>$42,762,350</td>\n",
       "      <td>$149,762,350</td>\n",
       "    </tr>\n",
       "    <tr>\n",
       "      <td>3</td>\n",
       "      <td>4</td>\n",
       "      <td>May 1, 2015</td>\n",
       "      <td>Avengers: Age of Ultron</td>\n",
       "      <td>$330,600,000</td>\n",
       "      <td>$459,005,868</td>\n",
       "      <td>$1,403,013,963</td>\n",
       "    </tr>\n",
       "    <tr>\n",
       "      <td>4</td>\n",
       "      <td>5</td>\n",
       "      <td>Dec 15, 2017</td>\n",
       "      <td>Star Wars Ep. VIII: The Last Jedi</td>\n",
       "      <td>$317,000,000</td>\n",
       "      <td>$620,181,382</td>\n",
       "      <td>$1,316,721,747</td>\n",
       "    </tr>\n",
       "  </tbody>\n",
       "</table>\n",
       "</div>"
      ],
      "text/plain": [
       "   id  release_date                                        movie  \\\n",
       "0   1  Dec 18, 2009                                       Avatar   \n",
       "1   2  May 20, 2011  Pirates of the Caribbean: On Stranger Tides   \n",
       "2   3   Jun 7, 2019                                 Dark Phoenix   \n",
       "3   4   May 1, 2015                      Avengers: Age of Ultron   \n",
       "4   5  Dec 15, 2017            Star Wars Ep. VIII: The Last Jedi   \n",
       "\n",
       "  production_budget domestic_gross worldwide_gross  \n",
       "0      $425,000,000   $760,507,625  $2,776,345,279  \n",
       "1      $410,600,000   $241,063,875  $1,045,663,875  \n",
       "2      $350,000,000    $42,762,350    $149,762,350  \n",
       "3      $330,600,000   $459,005,868  $1,403,013,963  \n",
       "4      $317,000,000   $620,181,382  $1,316,721,747  "
      ]
     },
     "execution_count": 21,
     "metadata": {},
     "output_type": "execute_result"
    }
   ],
   "source": [
    "cur.execute('''SELECT *\n",
    "                    FROM tn_movie_budgets\n",
    "                    LIMIT 5;''')\n",
    "\n",
    "tn_df = pd.DataFrame(cur.fetchall())\n",
    "tn_df.columns = [x[0] for x in cur.description]\n",
    "tn_df.dtypes\n",
    "\n",
    "tn_df"
   ]
  },
  {
   "cell_type": "code",
   "execution_count": 22,
   "metadata": {},
   "outputs": [],
   "source": [
    "# make a clean df for `tn_df`\n",
    "cur.execute('''SELECT *\n",
    "                    FROM tn_movie_budgets\n",
    "                    ;\n",
    "                    ''')\n",
    "\n",
    "tn_df_clean = pd.DataFrame(cur.fetchall())\n",
    "tn_df_clean.columns = [x[0] for x in cur.description]"
   ]
  },
  {
   "cell_type": "code",
   "execution_count": 23,
   "metadata": {},
   "outputs": [],
   "source": [
    "# note: sorting will have no effect until text values are converted\n",
    "# tn_df_clean.sort_values(by=['worldwide_gross'], ascending=False).head(10)"
   ]
  },
  {
   "cell_type": "code",
   "execution_count": 24,
   "metadata": {},
   "outputs": [
    {
     "data": {
      "text/plain": [
       "Index(['production_budget', 'domestic_gross', 'worldwide_gross'], dtype='object')"
      ]
     },
     "execution_count": 24,
     "metadata": {},
     "output_type": "execute_result"
    }
   ],
   "source": [
    "# verify correct column selection to clean\n",
    "tn_df_clean.columns[3:]"
   ]
  },
  {
   "cell_type": "markdown",
   "metadata": {},
   "source": [
    "#### We need large integer data types for these fields. Symbols and separators must be removed to do this. Method chaining keeps the operation efficient."
   ]
  },
  {
   "cell_type": "code",
   "execution_count": 25,
   "metadata": {},
   "outputs": [
    {
     "data": {
      "text/plain": [
       "id                    int64\n",
       "release_date         object\n",
       "movie                object\n",
       "production_budget     int64\n",
       "domestic_gross        int64\n",
       "worldwide_gross       int64\n",
       "dtype: object"
      ]
     },
     "execution_count": 25,
     "metadata": {},
     "output_type": "execute_result"
    }
   ],
   "source": [
    "# `convert_dollars_to_int(df, col)` accepts a dataframe and a column\n",
    "# encountered errors\n",
    "# we can quickly pass each of the necessary args via a loop\n",
    "for col in tn_df_clean.columns[3:]:\n",
    "    tn_df_clean[col] = tn_df_clean[col].str.replace(\"$\", \"\").str.replace(\",\", \"\").astype('int64')\n",
    "\n",
    "tn_df_clean.dtypes"
   ]
  },
  {
   "cell_type": "code",
   "execution_count": 26,
   "metadata": {},
   "outputs": [
    {
     "data": {
      "text/html": [
       "<div>\n",
       "<style scoped>\n",
       "    .dataframe tbody tr th:only-of-type {\n",
       "        vertical-align: middle;\n",
       "    }\n",
       "\n",
       "    .dataframe tbody tr th {\n",
       "        vertical-align: top;\n",
       "    }\n",
       "\n",
       "    .dataframe thead th {\n",
       "        text-align: right;\n",
       "    }\n",
       "</style>\n",
       "<table border=\"1\" class=\"dataframe\">\n",
       "  <thead>\n",
       "    <tr style=\"text-align: right;\">\n",
       "      <th></th>\n",
       "      <th>id</th>\n",
       "      <th>release_date</th>\n",
       "      <th>movie</th>\n",
       "      <th>production_budget</th>\n",
       "      <th>domestic_gross</th>\n",
       "      <th>worldwide_gross</th>\n",
       "    </tr>\n",
       "  </thead>\n",
       "  <tbody>\n",
       "    <tr>\n",
       "      <td>0</td>\n",
       "      <td>1</td>\n",
       "      <td>Dec 18, 2009</td>\n",
       "      <td>Avatar</td>\n",
       "      <td>425000000</td>\n",
       "      <td>760507625</td>\n",
       "      <td>2776345279</td>\n",
       "    </tr>\n",
       "    <tr>\n",
       "      <td>5</td>\n",
       "      <td>6</td>\n",
       "      <td>Dec 18, 2015</td>\n",
       "      <td>Star Wars Ep. VII: The Force Awakens</td>\n",
       "      <td>306000000</td>\n",
       "      <td>936662225</td>\n",
       "      <td>2053311220</td>\n",
       "    </tr>\n",
       "    <tr>\n",
       "      <td>6</td>\n",
       "      <td>7</td>\n",
       "      <td>Apr 27, 2018</td>\n",
       "      <td>Avengers: Infinity War</td>\n",
       "      <td>300000000</td>\n",
       "      <td>678815482</td>\n",
       "      <td>2048134200</td>\n",
       "    </tr>\n",
       "    <tr>\n",
       "      <td>3</td>\n",
       "      <td>4</td>\n",
       "      <td>May 1, 2015</td>\n",
       "      <td>Avengers: Age of Ultron</td>\n",
       "      <td>330600000</td>\n",
       "      <td>459005868</td>\n",
       "      <td>1403013963</td>\n",
       "    </tr>\n",
       "    <tr>\n",
       "      <td>4</td>\n",
       "      <td>5</td>\n",
       "      <td>Dec 15, 2017</td>\n",
       "      <td>Star Wars Ep. VIII: The Last Jedi</td>\n",
       "      <td>317000000</td>\n",
       "      <td>620181382</td>\n",
       "      <td>1316721747</td>\n",
       "    </tr>\n",
       "    <tr>\n",
       "      <td>1</td>\n",
       "      <td>2</td>\n",
       "      <td>May 20, 2011</td>\n",
       "      <td>Pirates of the Caribbean: On Stranger Tides</td>\n",
       "      <td>410600000</td>\n",
       "      <td>241063875</td>\n",
       "      <td>1045663875</td>\n",
       "    </tr>\n",
       "    <tr>\n",
       "      <td>7</td>\n",
       "      <td>8</td>\n",
       "      <td>May 24, 2007</td>\n",
       "      <td>Pirates of the Caribbean: At Worldâs End</td>\n",
       "      <td>300000000</td>\n",
       "      <td>309420425</td>\n",
       "      <td>963420425</td>\n",
       "    </tr>\n",
       "    <tr>\n",
       "      <td>9</td>\n",
       "      <td>10</td>\n",
       "      <td>Nov 6, 2015</td>\n",
       "      <td>Spectre</td>\n",
       "      <td>300000000</td>\n",
       "      <td>200074175</td>\n",
       "      <td>879620923</td>\n",
       "    </tr>\n",
       "    <tr>\n",
       "      <td>8</td>\n",
       "      <td>9</td>\n",
       "      <td>Nov 17, 2017</td>\n",
       "      <td>Justice League</td>\n",
       "      <td>300000000</td>\n",
       "      <td>229024295</td>\n",
       "      <td>655945209</td>\n",
       "    </tr>\n",
       "    <tr>\n",
       "      <td>2</td>\n",
       "      <td>3</td>\n",
       "      <td>Jun 7, 2019</td>\n",
       "      <td>Dark Phoenix</td>\n",
       "      <td>350000000</td>\n",
       "      <td>42762350</td>\n",
       "      <td>149762350</td>\n",
       "    </tr>\n",
       "  </tbody>\n",
       "</table>\n",
       "</div>"
      ],
      "text/plain": [
       "   id  release_date                                        movie  \\\n",
       "0   1  Dec 18, 2009                                       Avatar   \n",
       "5   6  Dec 18, 2015         Star Wars Ep. VII: The Force Awakens   \n",
       "6   7  Apr 27, 2018                       Avengers: Infinity War   \n",
       "3   4   May 1, 2015                      Avengers: Age of Ultron   \n",
       "4   5  Dec 15, 2017            Star Wars Ep. VIII: The Last Jedi   \n",
       "1   2  May 20, 2011  Pirates of the Caribbean: On Stranger Tides   \n",
       "7   8  May 24, 2007   Pirates of the Caribbean: At Worldâs End   \n",
       "9  10   Nov 6, 2015                                      Spectre   \n",
       "8   9  Nov 17, 2017                               Justice League   \n",
       "2   3   Jun 7, 2019                                 Dark Phoenix   \n",
       "\n",
       "   production_budget  domestic_gross  worldwide_gross  \n",
       "0          425000000       760507625       2776345279  \n",
       "5          306000000       936662225       2053311220  \n",
       "6          300000000       678815482       2048134200  \n",
       "3          330600000       459005868       1403013963  \n",
       "4          317000000       620181382       1316721747  \n",
       "1          410600000       241063875       1045663875  \n",
       "7          300000000       309420425        963420425  \n",
       "9          300000000       200074175        879620923  \n",
       "8          300000000       229024295        655945209  \n",
       "2          350000000        42762350        149762350  "
      ]
     },
     "metadata": {},
     "output_type": "display_data"
    }
   ],
   "source": [
    "# view the top - ten in order of `worldwide_gross`\n",
    "display(tn_df_clean.head(10).sort_values(by=['worldwide_gross'], ascending=False))"
   ]
  },
  {
   "cell_type": "markdown",
   "metadata": {},
   "source": [
    "#### That's a bit different than the `bom...` table. The top earner far oupaces that from the previous dataframe. A data dictionary could help us to differentiate earnings sources reflected in the data (eg., strictly box office vs all media) as well as providing  clearer understanding for when data were collected.\n",
    "\n",
    "### The `tn...` dataframe also enables us to compute net earnings figures."
   ]
  },
  {
   "cell_type": "code",
   "execution_count": 27,
   "metadata": {},
   "outputs": [
    {
     "data": {
      "text/html": [
       "<div>\n",
       "<style scoped>\n",
       "    .dataframe tbody tr th:only-of-type {\n",
       "        vertical-align: middle;\n",
       "    }\n",
       "\n",
       "    .dataframe tbody tr th {\n",
       "        vertical-align: top;\n",
       "    }\n",
       "\n",
       "    .dataframe thead th {\n",
       "        text-align: right;\n",
       "    }\n",
       "</style>\n",
       "<table border=\"1\" class=\"dataframe\">\n",
       "  <thead>\n",
       "    <tr style=\"text-align: right;\">\n",
       "      <th></th>\n",
       "      <th>id</th>\n",
       "      <th>release_date</th>\n",
       "      <th>movie</th>\n",
       "      <th>production_budget</th>\n",
       "      <th>domestic_gross</th>\n",
       "      <th>worldwide_gross</th>\n",
       "      <th>Worldwide_net</th>\n",
       "    </tr>\n",
       "  </thead>\n",
       "  <tbody>\n",
       "    <tr>\n",
       "      <td>0</td>\n",
       "      <td>1</td>\n",
       "      <td>Dec 18, 2009</td>\n",
       "      <td>Avatar</td>\n",
       "      <td>425000000</td>\n",
       "      <td>760507625</td>\n",
       "      <td>2776345279</td>\n",
       "      <td>2351345279</td>\n",
       "    </tr>\n",
       "    <tr>\n",
       "      <td>6</td>\n",
       "      <td>7</td>\n",
       "      <td>Apr 27, 2018</td>\n",
       "      <td>Avengers: Infinity War</td>\n",
       "      <td>300000000</td>\n",
       "      <td>678815482</td>\n",
       "      <td>2048134200</td>\n",
       "      <td>1748134200</td>\n",
       "    </tr>\n",
       "    <tr>\n",
       "      <td>5</td>\n",
       "      <td>6</td>\n",
       "      <td>Dec 18, 2015</td>\n",
       "      <td>Star Wars Ep. VII: The Force Awakens</td>\n",
       "      <td>306000000</td>\n",
       "      <td>936662225</td>\n",
       "      <td>2053311220</td>\n",
       "      <td>1747311220</td>\n",
       "    </tr>\n",
       "    <tr>\n",
       "      <td>3</td>\n",
       "      <td>4</td>\n",
       "      <td>May 1, 2015</td>\n",
       "      <td>Avengers: Age of Ultron</td>\n",
       "      <td>330600000</td>\n",
       "      <td>459005868</td>\n",
       "      <td>1403013963</td>\n",
       "      <td>1072413963</td>\n",
       "    </tr>\n",
       "    <tr>\n",
       "      <td>4</td>\n",
       "      <td>5</td>\n",
       "      <td>Dec 15, 2017</td>\n",
       "      <td>Star Wars Ep. VIII: The Last Jedi</td>\n",
       "      <td>317000000</td>\n",
       "      <td>620181382</td>\n",
       "      <td>1316721747</td>\n",
       "      <td>999721747</td>\n",
       "    </tr>\n",
       "    <tr>\n",
       "      <td>7</td>\n",
       "      <td>8</td>\n",
       "      <td>May 24, 2007</td>\n",
       "      <td>Pirates of the Caribbean: At Worldâs End</td>\n",
       "      <td>300000000</td>\n",
       "      <td>309420425</td>\n",
       "      <td>963420425</td>\n",
       "      <td>663420425</td>\n",
       "    </tr>\n",
       "    <tr>\n",
       "      <td>1</td>\n",
       "      <td>2</td>\n",
       "      <td>May 20, 2011</td>\n",
       "      <td>Pirates of the Caribbean: On Stranger Tides</td>\n",
       "      <td>410600000</td>\n",
       "      <td>241063875</td>\n",
       "      <td>1045663875</td>\n",
       "      <td>635063875</td>\n",
       "    </tr>\n",
       "    <tr>\n",
       "      <td>9</td>\n",
       "      <td>10</td>\n",
       "      <td>Nov 6, 2015</td>\n",
       "      <td>Spectre</td>\n",
       "      <td>300000000</td>\n",
       "      <td>200074175</td>\n",
       "      <td>879620923</td>\n",
       "      <td>579620923</td>\n",
       "    </tr>\n",
       "    <tr>\n",
       "      <td>8</td>\n",
       "      <td>9</td>\n",
       "      <td>Nov 17, 2017</td>\n",
       "      <td>Justice League</td>\n",
       "      <td>300000000</td>\n",
       "      <td>229024295</td>\n",
       "      <td>655945209</td>\n",
       "      <td>355945209</td>\n",
       "    </tr>\n",
       "    <tr>\n",
       "      <td>2</td>\n",
       "      <td>3</td>\n",
       "      <td>Jun 7, 2019</td>\n",
       "      <td>Dark Phoenix</td>\n",
       "      <td>350000000</td>\n",
       "      <td>42762350</td>\n",
       "      <td>149762350</td>\n",
       "      <td>-200237650</td>\n",
       "    </tr>\n",
       "  </tbody>\n",
       "</table>\n",
       "</div>"
      ],
      "text/plain": [
       "   id  release_date                                        movie  \\\n",
       "0   1  Dec 18, 2009                                       Avatar   \n",
       "6   7  Apr 27, 2018                       Avengers: Infinity War   \n",
       "5   6  Dec 18, 2015         Star Wars Ep. VII: The Force Awakens   \n",
       "3   4   May 1, 2015                      Avengers: Age of Ultron   \n",
       "4   5  Dec 15, 2017            Star Wars Ep. VIII: The Last Jedi   \n",
       "7   8  May 24, 2007   Pirates of the Caribbean: At Worldâs End   \n",
       "1   2  May 20, 2011  Pirates of the Caribbean: On Stranger Tides   \n",
       "9  10   Nov 6, 2015                                      Spectre   \n",
       "8   9  Nov 17, 2017                               Justice League   \n",
       "2   3   Jun 7, 2019                                 Dark Phoenix   \n",
       "\n",
       "   production_budget  domestic_gross  worldwide_gross  Worldwide_net  \n",
       "0          425000000       760507625       2776345279     2351345279  \n",
       "6          300000000       678815482       2048134200     1748134200  \n",
       "5          306000000       936662225       2053311220     1747311220  \n",
       "3          330600000       459005868       1403013963     1072413963  \n",
       "4          317000000       620181382       1316721747      999721747  \n",
       "7          300000000       309420425        963420425      663420425  \n",
       "1          410600000       241063875       1045663875      635063875  \n",
       "9          300000000       200074175        879620923      579620923  \n",
       "8          300000000       229024295        655945209      355945209  \n",
       "2          350000000        42762350        149762350     -200237650  "
      ]
     },
     "metadata": {},
     "output_type": "display_data"
    }
   ],
   "source": [
    "tn_df_clean['Worldwide_net'] = tn_df_clean['worldwide_gross'] - tn_df_clean['production_budget']\n",
    "display(tn_df_clean.head(10).sort_values(by=['Worldwide_net'], ascending=False))"
   ]
  },
  {
   "cell_type": "markdown",
   "metadata": {},
   "source": [
    "### What can we infer from a cursory visual analysis of `production_budget`, `worldwide_gross`, and `Worldwide_net`\""
   ]
  },
  {
   "cell_type": "code",
   "execution_count": 28,
   "metadata": {},
   "outputs": [
    {
     "data": {
      "image/png": "[encoded data removed]",
      "text/plain": [
       "<Figure size 936x360 with 3 Axes>"
      ]
     },
     "metadata": {},
     "output_type": "display_data"
    }
   ],
   "source": [
    "fig, ax = plt.subplots(ncols=3, figsize=(13, 5))\n",
    "sns.distplot(tn_df_clean.production_budget, bins = 65, ax=ax[0])\n",
    "sns.distplot(tn_df_clean.worldwide_gross, bins = 65, ax=ax[1])\n",
    "sns.distplot(tn_df_clean.Worldwide_net, bins = 65, ax=ax[2])\n",
    "\n",
    "plt.show()\n"
   ]
  },
  {
   "cell_type": "code",
   "execution_count": 29,
   "metadata": {},
   "outputs": [
    {
     "data": {
      "image/png": "[encoded data removed]",
      "text/plain": [
       "<Figure size 936x360 with 3 Axes>"
      ]
     },
     "metadata": {},
     "output_type": "display_data"
    }
   ],
   "source": [
    "fig, ax = plt.subplots(ncols=3, figsize=(13, 5))\n",
    "sns.boxplot(tn_df_clean.production_budget,  orient='v', ax=ax[0])\n",
    "sns.boxplot(tn_df_clean.worldwide_gross,  orient='v', ax=ax[1])\n",
    "sns.boxplot(tn_df_clean.Worldwide_net,  orient='v', ax=ax[2])\n",
    "\n",
    "plt.subplots_adjust(wspace=.75, hspace=.5);\n",
    "\n",
    "plt.show()\n"
   ]
  },
  {
   "cell_type": "markdown",
   "metadata": {},
   "source": [
    "### It seems a few things are highly funded (far from the median), most are modestly funded, and relatively high net profit is rare thing."
   ]
  },
  {
   "cell_type": "code",
   "execution_count": 30,
   "metadata": {},
   "outputs": [
    {
     "data": {
      "text/plain": [
       "count    5.782000e+03\n",
       "mean     3.158776e+07\n",
       "std      4.181208e+07\n",
       "min      1.100000e+03\n",
       "25%      5.000000e+06\n",
       "50%      1.700000e+07\n",
       "75%      4.000000e+07\n",
       "max      4.250000e+08\n",
       "Name: production_budget, dtype: float64"
      ]
     },
     "execution_count": 30,
     "metadata": {},
     "output_type": "execute_result"
    }
   ],
   "source": [
    "# in numbers for `production_budget`\n",
    "tn_df_clean.production_budget.describe()"
   ]
  },
  {
   "cell_type": "code",
   "execution_count": 31,
   "metadata": {},
   "outputs": [
    {
     "data": {
      "image/png": "[encoded data removed]",
      "text/plain": [
       "<Figure size 900x900 with 30 Axes>"
      ]
     },
     "metadata": {},
     "output_type": "display_data"
    }
   ],
   "source": [
    "# view a seaborn pairplot matrix with regression lines\n",
    "sns.pairplot(tn_df_clean, kind=\"reg\")\n",
    "sns.set(font_scale=.8) # try to prevent overlap of long column names\n",
    "plt.subplots_adjust(wspace=.02, hspace=.1);\n",
    "plt.show()"
   ]
  },
  {
   "cell_type": "markdown",
   "metadata": {},
   "source": [
    "### We see from the visualization that budget is correlated with net and gross figures."
   ]
  },
  {
   "cell_type": "code",
   "execution_count": 32,
   "metadata": {},
   "outputs": [
    {
     "data": {
      "text/plain": [
       "<matplotlib.axes._subplots.AxesSubplot at 0x1e8076787b8>"
      ]
     },
     "execution_count": 32,
     "metadata": {},
     "output_type": "execute_result"
    },
    {
     "data": {
      "image/png": "[encoded data removed]",
      "text/plain": [
       "<Figure size 1728x648 with 3 Axes>"
      ]
     },
     "metadata": {},
     "output_type": "display_data"
    }
   ],
   "source": [
    "# create a variable for the correlation\n",
    "corr = tn_df_clean.corr()\n",
    "\n",
    "# subplots\n",
    "plt.figure(figsize=(24,9)) # total figure size\n",
    "plt.subplots_adjust(wspace=.45, hspace=.1); # prevent overlap\n",
    "sns.set(font_scale=1.55) # adjust for annotation legibility\n",
    "\n",
    "plt.subplot(1,2,1) # correlation with regression line\n",
    "sns.regplot(x='production_budget', y='worldwide_gross', data=tn_df_clean)\n",
    "\n",
    "plt.subplot(1,2,2) # heatmap\n",
    "sns.heatmap(corr,  cbar=True, linecolor=\"w\", linewidths=1, cmap='Blues', square=True, annot=True, annot_kws={\"size\": 22})"
   ]
  },
  {
   "cell_type": "markdown",
   "metadata": {},
   "source": [
    "### For what it is worth, the heatmap suggests that budget has a slightly stronger corellation with `worldwide_gross` than with `domestic_gross`."
   ]
  },
  {
   "cell_type": "markdown",
   "metadata": {},
   "source": [
    "### Before we go further, it could be worthwhile to determine whether the `tn_df_clean` dataframe can be joined to the `bom_2016_18_df` dataframe. Their respective `movie` and `title` columns appear promising."
   ]
  },
  {
   "cell_type": "code",
   "execution_count": 33,
   "metadata": {},
   "outputs": [
    {
     "data": {
      "text/html": [
       "<div>\n",
       "<style scoped>\n",
       "    .dataframe tbody tr th:only-of-type {\n",
       "        vertical-align: middle;\n",
       "    }\n",
       "\n",
       "    .dataframe tbody tr th {\n",
       "        vertical-align: top;\n",
       "    }\n",
       "\n",
       "    .dataframe thead th {\n",
       "        text-align: right;\n",
       "    }\n",
       "</style>\n",
       "<table border=\"1\" class=\"dataframe\">\n",
       "  <thead>\n",
       "    <tr style=\"text-align: right;\">\n",
       "      <th></th>\n",
       "      <th>id</th>\n",
       "      <th>release_date</th>\n",
       "      <th>movie</th>\n",
       "      <th>production_budget</th>\n",
       "      <th>domestic_gross</th>\n",
       "      <th>worldwide_gross</th>\n",
       "      <th>Worldwide_net</th>\n",
       "    </tr>\n",
       "  </thead>\n",
       "  <tbody>\n",
       "    <tr>\n",
       "      <td>2</td>\n",
       "      <td>3</td>\n",
       "      <td>Jun 7, 2019</td>\n",
       "      <td>Dark Phoenix</td>\n",
       "      <td>350000000</td>\n",
       "      <td>42762350</td>\n",
       "      <td>149762350</td>\n",
       "      <td>-200237650</td>\n",
       "    </tr>\n",
       "  </tbody>\n",
       "</table>\n",
       "</div>"
      ],
      "text/plain": [
       "   id release_date         movie  production_budget  domestic_gross  \\\n",
       "2   3  Jun 7, 2019  Dark Phoenix          350000000        42762350   \n",
       "\n",
       "   worldwide_gross  Worldwide_net  \n",
       "2        149762350     -200237650  "
      ]
     },
     "metadata": {},
     "output_type": "display_data"
    },
    {
     "data": {
      "text/html": [
       "<div>\n",
       "<style scoped>\n",
       "    .dataframe tbody tr th:only-of-type {\n",
       "        vertical-align: middle;\n",
       "    }\n",
       "\n",
       "    .dataframe tbody tr th {\n",
       "        vertical-align: top;\n",
       "    }\n",
       "\n",
       "    .dataframe thead th {\n",
       "        text-align: right;\n",
       "    }\n",
       "</style>\n",
       "<table border=\"1\" class=\"dataframe\">\n",
       "  <thead>\n",
       "    <tr style=\"text-align: right;\">\n",
       "      <th></th>\n",
       "      <th>title</th>\n",
       "      <th>studio</th>\n",
       "      <th>domestic_gross</th>\n",
       "      <th>foreign_gross</th>\n",
       "      <th>year</th>\n",
       "      <th>Year</th>\n",
       "      <th>Total_gross</th>\n",
       "    </tr>\n",
       "  </thead>\n",
       "  <tbody>\n",
       "  </tbody>\n",
       "</table>\n",
       "</div>"
      ],
      "text/plain": [
       "Empty DataFrame\n",
       "Columns: [title, studio, domestic_gross, foreign_gross, year, Year, Total_gross]\n",
       "Index: []"
      ]
     },
     "metadata": {},
     "output_type": "display_data"
    }
   ],
   "source": [
    "# Can we find a movie by the same name?\n",
    "display(tn_df_clean.loc[tn_df_clean.movie == 'Dark Phoenix'])\n",
    "display(bom_2016_18_df.loc[bom_2016_18_df.title == 'Dark Phoenix'])\n",
    "\n",
    "# rt_genres = pd.merge(rt_df_clean, df1, left_index=True, right_index=True)"
   ]
  },
  {
   "cell_type": "code",
   "execution_count": 34,
   "metadata": {},
   "outputs": [
    {
     "name": "stdout",
     "output_type": "stream",
     "text": [
      "`tn` --------------------------------------------------------------------------------\n",
      "<class 'pandas.core.frame.DataFrame'>\n",
      "RangeIndex: 5782 entries, 0 to 5781\n",
      "Data columns (total 7 columns):\n",
      "id                   5782 non-null int64\n",
      "release_date         5782 non-null object\n",
      "movie                5782 non-null object\n",
      "production_budget    5782 non-null int64\n",
      "domestic_gross       5782 non-null int64\n",
      "worldwide_gross      5782 non-null int64\n",
      "Worldwide_net        5782 non-null int64\n",
      "dtypes: int64(5), object(2)\n",
      "memory usage: 316.3+ KB\n",
      "\n",
      " None\n",
      "`bom` --------------------------------------------------------------------------------\n",
      "<class 'pandas.core.frame.DataFrame'>\n",
      "Int64Index: 1065 entries, 2322 to 3386\n",
      "Data columns (total 7 columns):\n",
      "title             1065 non-null object\n",
      "studio            1064 non-null object\n",
      "domestic_gross    1061 non-null float64\n",
      "foreign_gross     546 non-null float64\n",
      "year              1065 non-null datetime64[ns]\n",
      "Year              1065 non-null int64\n",
      "Total_gross       542 non-null float64\n",
      "dtypes: datetime64[ns](1), float64(3), int64(1), object(2)\n",
      "memory usage: 106.6+ KB\n",
      "\n",
      " None\n"
     ]
    }
   ],
   "source": [
    "print(\"`tn`\", \"-\"*80)\n",
    "print(\"\\n\", tn_df_clean.info())\n",
    "print(\"`bom`\", \"-\"*80)\n",
    "print(\"\\n\", bom_2016_18_df.info())"
   ]
  },
  {
   "cell_type": "markdown",
   "metadata": {},
   "source": [
    "#### We observe a significant mismatch in the number of entries. A joined table could miss more than 80% of the movies in `tn_df_clean`."
   ]
  },
  {
   "cell_type": "markdown",
   "metadata": {},
   "source": [
    "<h3 align='center'><font color='coral'>by studio</font></h3>"
   ]
  },
  {
   "cell_type": "code",
   "execution_count": 35,
   "metadata": {},
   "outputs": [
    {
     "name": "stdout",
     "output_type": "stream",
     "text": [
      "2018         domestic_gross  foreign_gross   Year   Total_gross\n",
      "studio                                                    \n",
      "BV        3.045600e+09   2.621801e+09  20180  5.667401e+09\n",
      "WB        1.729100e+09   3.786400e+09  34306  5.494300e+09\n",
      "Uni.      1.790455e+09   3.110600e+09  42378  4.900200e+09\n",
      "Sony      9.566925e+08   1.658936e+09  30270  2.615626e+09\n",
      "Fox       8.403000e+08   1.743200e+09  22198  2.583500e+09\n",
      "--------------------------------------------------------------------------------\n",
      "2016-2018         domestic_gross  foreign_gross    Year   Total_gross\n",
      "studio                                                     \n",
      "BV        8.294800e+09   1.096170e+10   62524  1.925650e+10\n",
      "WB        4.602865e+09   8.230100e+09   84719  1.281100e+10\n",
      "Uni.      4.696855e+09   7.584623e+09  100856  1.227112e+10\n",
      "Fox       3.627200e+09   6.890133e+09   82692  1.051733e+10\n",
      "Sony      2.718572e+09   5.100436e+09   92782  7.818804e+09\n"
     ]
    }
   ],
   "source": [
    "# ... the 5 highest grossing studios\n",
    "print(\"2018\", bom_2018_df.groupby('studio').sum(\n",
    ").sort_values(by=['Total_gross'], ascending=False).head())\n",
    "\n",
    "\n",
    "print(\"-\"*80)\n",
    "\n",
    "print(\"2016-2018\", bom_2016_18_df.groupby('studio').sum(\n",
    ").sort_values(by=['Total_gross'], ascending=False).head())"
   ]
  },
  {
   "cell_type": "markdown",
   "metadata": {},
   "source": [
    "#### Looks like we have an issue with `Year` values being summed."
   ]
  },
  {
   "cell_type": "markdown",
   "metadata": {},
   "source": [
    "<h3 align='center'><font color='coral'>by genre</font></h3>"
   ]
  },
  {
   "cell_type": "markdown",
   "metadata": {},
   "source": [
    "## So how about those genres?\n",
    "\n",
    "### `rt_movie_info` has a genre field, as well as a box office field, so that might make a good transition as we move our investigation toward the next category."
   ]
  },
  {
   "cell_type": "code",
   "execution_count": 36,
   "metadata": {},
   "outputs": [],
   "source": [
    "# make a clean df for `rt_movie_info`\n",
    "cur.execute('''SELECT *\n",
    "                    FROM rt_movie_info\n",
    "                    ;\n",
    "                    ''')\n",
    "\n",
    "rt_df_clean = pd.DataFrame(cur.fetchall())\n",
    "rt_df_clean.columns = [x[0] for x in cur.description]"
   ]
  },
  {
   "cell_type": "code",
   "execution_count": 37,
   "metadata": {
    "scrolled": true
   },
   "outputs": [
    {
     "name": "stdout",
     "output_type": "stream",
     "text": [
      "rows and columns: (1560, 12)\n",
      "number of 'box_office' missing values: 1220\n"
     ]
    },
    {
     "data": {
      "text/html": [
       "<div>\n",
       "<style scoped>\n",
       "    .dataframe tbody tr th:only-of-type {\n",
       "        vertical-align: middle;\n",
       "    }\n",
       "\n",
       "    .dataframe tbody tr th {\n",
       "        vertical-align: top;\n",
       "    }\n",
       "\n",
       "    .dataframe thead th {\n",
       "        text-align: right;\n",
       "    }\n",
       "</style>\n",
       "<table border=\"1\" class=\"dataframe\">\n",
       "  <thead>\n",
       "    <tr style=\"text-align: right;\">\n",
       "      <th></th>\n",
       "      <th>id</th>\n",
       "      <th>synopsis</th>\n",
       "      <th>rating</th>\n",
       "      <th>genre</th>\n",
       "      <th>director</th>\n",
       "      <th>writer</th>\n",
       "      <th>theater_date</th>\n",
       "      <th>dvd_date</th>\n",
       "      <th>currency</th>\n",
       "      <th>box_office</th>\n",
       "      <th>runtime</th>\n",
       "      <th>studio</th>\n",
       "    </tr>\n",
       "  </thead>\n",
       "  <tbody>\n",
       "    <tr>\n",
       "      <td>1</td>\n",
       "      <td>3</td>\n",
       "      <td>New York City, not-too-distant-future: Eric Pa...</td>\n",
       "      <td>R</td>\n",
       "      <td>Drama|Science Fiction and Fantasy</td>\n",
       "      <td>David Cronenberg</td>\n",
       "      <td>David Cronenberg|Don DeLillo</td>\n",
       "      <td>Aug 17, 2012</td>\n",
       "      <td>Jan 1, 2013</td>\n",
       "      <td>$</td>\n",
       "      <td>600,000</td>\n",
       "      <td>108 minutes</td>\n",
       "      <td>Entertainment One</td>\n",
       "    </tr>\n",
       "    <tr>\n",
       "      <td>0</td>\n",
       "      <td>1</td>\n",
       "      <td>This gritty, fast-paced, and innovative police...</td>\n",
       "      <td>R</td>\n",
       "      <td>Action and Adventure|Classics|Drama</td>\n",
       "      <td>William Friedkin</td>\n",
       "      <td>Ernest Tidyman</td>\n",
       "      <td>Oct 9, 1971</td>\n",
       "      <td>Sep 25, 2001</td>\n",
       "      <td>None</td>\n",
       "      <td>None</td>\n",
       "      <td>104 minutes</td>\n",
       "      <td>None</td>\n",
       "    </tr>\n",
       "    <tr>\n",
       "      <td>2</td>\n",
       "      <td>5</td>\n",
       "      <td>Illeana Douglas delivers a superb performance ...</td>\n",
       "      <td>R</td>\n",
       "      <td>Drama|Musical and Performing Arts</td>\n",
       "      <td>Allison Anders</td>\n",
       "      <td>Allison Anders</td>\n",
       "      <td>Sep 13, 1996</td>\n",
       "      <td>Apr 18, 2000</td>\n",
       "      <td>None</td>\n",
       "      <td>None</td>\n",
       "      <td>116 minutes</td>\n",
       "      <td>None</td>\n",
       "    </tr>\n",
       "    <tr>\n",
       "      <td>3</td>\n",
       "      <td>6</td>\n",
       "      <td>Michael Douglas runs afoul of a treacherous su...</td>\n",
       "      <td>R</td>\n",
       "      <td>Drama|Mystery and Suspense</td>\n",
       "      <td>Barry Levinson</td>\n",
       "      <td>Paul Attanasio|Michael Crichton</td>\n",
       "      <td>Dec 9, 1994</td>\n",
       "      <td>Aug 27, 1997</td>\n",
       "      <td>None</td>\n",
       "      <td>None</td>\n",
       "      <td>128 minutes</td>\n",
       "      <td>None</td>\n",
       "    </tr>\n",
       "    <tr>\n",
       "      <td>4</td>\n",
       "      <td>7</td>\n",
       "      <td>None</td>\n",
       "      <td>NR</td>\n",
       "      <td>Drama|Romance</td>\n",
       "      <td>Rodney Bennett</td>\n",
       "      <td>Giles Cooper</td>\n",
       "      <td>None</td>\n",
       "      <td>None</td>\n",
       "      <td>None</td>\n",
       "      <td>None</td>\n",
       "      <td>200 minutes</td>\n",
       "      <td>None</td>\n",
       "    </tr>\n",
       "  </tbody>\n",
       "</table>\n",
       "</div>"
      ],
      "text/plain": [
       "   id                                           synopsis rating  \\\n",
       "1   3  New York City, not-too-distant-future: Eric Pa...      R   \n",
       "0   1  This gritty, fast-paced, and innovative police...      R   \n",
       "2   5  Illeana Douglas delivers a superb performance ...      R   \n",
       "3   6  Michael Douglas runs afoul of a treacherous su...      R   \n",
       "4   7                                               None     NR   \n",
       "\n",
       "                                 genre          director  \\\n",
       "1    Drama|Science Fiction and Fantasy  David Cronenberg   \n",
       "0  Action and Adventure|Classics|Drama  William Friedkin   \n",
       "2    Drama|Musical and Performing Arts    Allison Anders   \n",
       "3           Drama|Mystery and Suspense    Barry Levinson   \n",
       "4                        Drama|Romance    Rodney Bennett   \n",
       "\n",
       "                            writer  theater_date      dvd_date currency  \\\n",
       "1     David Cronenberg|Don DeLillo  Aug 17, 2012   Jan 1, 2013        $   \n",
       "0                   Ernest Tidyman   Oct 9, 1971  Sep 25, 2001     None   \n",
       "2                   Allison Anders  Sep 13, 1996  Apr 18, 2000     None   \n",
       "3  Paul Attanasio|Michael Crichton   Dec 9, 1994  Aug 27, 1997     None   \n",
       "4                     Giles Cooper          None          None     None   \n",
       "\n",
       "  box_office      runtime             studio  \n",
       "1    600,000  108 minutes  Entertainment One  \n",
       "0       None  104 minutes               None  \n",
       "2       None  116 minutes               None  \n",
       "3       None  128 minutes               None  \n",
       "4       None  200 minutes               None  "
      ]
     },
     "metadata": {},
     "output_type": "display_data"
    }
   ],
   "source": [
    "# let's see what shape the dataframe is in\n",
    "print(\"rows and columns:\", rt_df_clean.shape)\n",
    "\n",
    "# how many values are missing\n",
    "print(\"number of 'box_office' missing values:\", rt_df_clean['box_office'].isna().sum())\n",
    "\n",
    "# we may as well take a deeper look while we're at it\n",
    "display(rt_df_clean.head(5).sort_values(by=['box_office'], ascending=False))"
   ]
  },
  {
   "cell_type": "markdown",
   "metadata": {},
   "source": [
    "#### Whoa! That's a rotten number of missing values. And where are the movie titles?\n",
    "#### Breaking - out those genre categories may be useful for joining tables as we go forward. "
   ]
  },
  {
   "cell_type": "code",
   "execution_count": 38,
   "metadata": {
    "scrolled": true
   },
   "outputs": [
    {
     "data": {
      "text/html": [
       "<div>\n",
       "<style scoped>\n",
       "    .dataframe tbody tr th:only-of-type {\n",
       "        vertical-align: middle;\n",
       "    }\n",
       "\n",
       "    .dataframe tbody tr th {\n",
       "        vertical-align: top;\n",
       "    }\n",
       "\n",
       "    .dataframe thead th {\n",
       "        text-align: right;\n",
       "    }\n",
       "</style>\n",
       "<table border=\"1\" class=\"dataframe\">\n",
       "  <thead>\n",
       "    <tr style=\"text-align: right;\">\n",
       "      <th></th>\n",
       "      <th>g1</th>\n",
       "      <th>g2</th>\n",
       "      <th>g3</th>\n",
       "      <th>g4</th>\n",
       "      <th>g5</th>\n",
       "      <th>g6</th>\n",
       "      <th>g7</th>\n",
       "    </tr>\n",
       "  </thead>\n",
       "  <tbody>\n",
       "    <tr>\n",
       "      <td>0</td>\n",
       "      <td>Action and Adventure</td>\n",
       "      <td>Classics</td>\n",
       "      <td>Drama</td>\n",
       "      <td>None</td>\n",
       "      <td>None</td>\n",
       "      <td>None</td>\n",
       "      <td>None</td>\n",
       "    </tr>\n",
       "    <tr>\n",
       "      <td>1</td>\n",
       "      <td>Drama</td>\n",
       "      <td>Science Fiction and Fantasy</td>\n",
       "      <td>None</td>\n",
       "      <td>None</td>\n",
       "      <td>None</td>\n",
       "      <td>None</td>\n",
       "      <td>None</td>\n",
       "    </tr>\n",
       "    <tr>\n",
       "      <td>2</td>\n",
       "      <td>Drama</td>\n",
       "      <td>Musical and Performing Arts</td>\n",
       "      <td>None</td>\n",
       "      <td>None</td>\n",
       "      <td>None</td>\n",
       "      <td>None</td>\n",
       "      <td>None</td>\n",
       "    </tr>\n",
       "    <tr>\n",
       "      <td>3</td>\n",
       "      <td>Drama</td>\n",
       "      <td>Mystery and Suspense</td>\n",
       "      <td>None</td>\n",
       "      <td>None</td>\n",
       "      <td>None</td>\n",
       "      <td>None</td>\n",
       "      <td>None</td>\n",
       "    </tr>\n",
       "    <tr>\n",
       "      <td>4</td>\n",
       "      <td>Drama</td>\n",
       "      <td>Romance</td>\n",
       "      <td>None</td>\n",
       "      <td>None</td>\n",
       "      <td>None</td>\n",
       "      <td>None</td>\n",
       "      <td>None</td>\n",
       "    </tr>\n",
       "    <tr>\n",
       "      <td>...</td>\n",
       "      <td>...</td>\n",
       "      <td>...</td>\n",
       "      <td>...</td>\n",
       "      <td>...</td>\n",
       "      <td>...</td>\n",
       "      <td>...</td>\n",
       "      <td>...</td>\n",
       "    </tr>\n",
       "    <tr>\n",
       "      <td>1555</td>\n",
       "      <td>Action and Adventure</td>\n",
       "      <td>Horror</td>\n",
       "      <td>Mystery and Suspense</td>\n",
       "      <td>None</td>\n",
       "      <td>None</td>\n",
       "      <td>None</td>\n",
       "      <td>None</td>\n",
       "    </tr>\n",
       "    <tr>\n",
       "      <td>1556</td>\n",
       "      <td>Comedy</td>\n",
       "      <td>Science Fiction and Fantasy</td>\n",
       "      <td>None</td>\n",
       "      <td>None</td>\n",
       "      <td>None</td>\n",
       "      <td>None</td>\n",
       "      <td>None</td>\n",
       "    </tr>\n",
       "    <tr>\n",
       "      <td>1557</td>\n",
       "      <td>Classics</td>\n",
       "      <td>Comedy</td>\n",
       "      <td>Drama</td>\n",
       "      <td>Musical and Performing Arts</td>\n",
       "      <td>None</td>\n",
       "      <td>None</td>\n",
       "      <td>None</td>\n",
       "    </tr>\n",
       "    <tr>\n",
       "      <td>1558</td>\n",
       "      <td>Comedy</td>\n",
       "      <td>Drama</td>\n",
       "      <td>Kids and Family</td>\n",
       "      <td>Sports and Fitness</td>\n",
       "      <td>None</td>\n",
       "      <td>None</td>\n",
       "      <td>None</td>\n",
       "    </tr>\n",
       "    <tr>\n",
       "      <td>1559</td>\n",
       "      <td>Action and Adventure</td>\n",
       "      <td>Art House and International</td>\n",
       "      <td>Comedy</td>\n",
       "      <td>Drama</td>\n",
       "      <td>Mystery and Suspense</td>\n",
       "      <td>None</td>\n",
       "      <td>None</td>\n",
       "    </tr>\n",
       "  </tbody>\n",
       "</table>\n",
       "<p>1560 rows × 7 columns</p>\n",
       "</div>"
      ],
      "text/plain": [
       "                        g1                           g2                    g3  \\\n",
       "0     Action and Adventure                     Classics                 Drama   \n",
       "1                    Drama  Science Fiction and Fantasy                  None   \n",
       "2                    Drama  Musical and Performing Arts                  None   \n",
       "3                    Drama         Mystery and Suspense                  None   \n",
       "4                    Drama                      Romance                  None   \n",
       "...                    ...                          ...                   ...   \n",
       "1555  Action and Adventure                       Horror  Mystery and Suspense   \n",
       "1556                Comedy  Science Fiction and Fantasy                  None   \n",
       "1557              Classics                       Comedy                 Drama   \n",
       "1558                Comedy                        Drama       Kids and Family   \n",
       "1559  Action and Adventure  Art House and International                Comedy   \n",
       "\n",
       "                               g4                    g5    g6    g7  \n",
       "0                            None                  None  None  None  \n",
       "1                            None                  None  None  None  \n",
       "2                            None                  None  None  None  \n",
       "3                            None                  None  None  None  \n",
       "4                            None                  None  None  None  \n",
       "...                           ...                   ...   ...   ...  \n",
       "1555                         None                  None  None  None  \n",
       "1556                         None                  None  None  None  \n",
       "1557  Musical and Performing Arts                  None  None  None  \n",
       "1558           Sports and Fitness                  None  None  None  \n",
       "1559                        Drama  Mystery and Suspense  None  None  \n",
       "\n",
       "[1560 rows x 7 columns]"
      ]
     },
     "execution_count": 38,
     "metadata": {},
     "output_type": "execute_result"
    }
   ],
   "source": [
    "# split `rt_df_clean.genre` values to a new dataframe\n",
    "df1 = rt_df_clean.genre.str.split(\"|\", expand=True)\n",
    "df1.columns = \"g1 g2 g3 g4 g5 g6 g7\".split()\n",
    "df1"
   ]
  },
  {
   "cell_type": "code",
   "execution_count": 39,
   "metadata": {},
   "outputs": [
    {
     "data": {
      "text/plain": [
       "['Action and Adventure',\n",
       " 'Drama',\n",
       " 'Comedy',\n",
       " 'Documentary',\n",
       " 'Classics',\n",
       " 'Art House and International',\n",
       " 'Musical and Performing Arts',\n",
       " 'Horror',\n",
       " 'Mystery and Suspense',\n",
       " 'Animation',\n",
       " 'Special Interest',\n",
       " 'Kids and Family',\n",
       " 'Western',\n",
       " 'Science Fiction and Fantasy',\n",
       " 'Romance',\n",
       " 'Sports and Fitness',\n",
       " 'Television',\n",
       " 'Cult Movies',\n",
       " 'Anime and Manga',\n",
       " 'Faith and Spirituality',\n",
       " 'Gay and Lesbian']"
      ]
     },
     "execution_count": 39,
     "metadata": {},
     "output_type": "execute_result"
    }
   ],
   "source": [
    "# Create a list of unique genres for future use\n",
    "genre_list = []\n",
    "\n",
    "for cols in df1.columns:\n",
    "    for v in df1[cols]: # check values in all columns\n",
    "        if v != None: # disregard None values\n",
    "            if v not in genre_list:\n",
    "                genre_list.append(v) # add to the list\n",
    "\n",
    "genre_list"
   ]
  },
  {
   "cell_type": "markdown",
   "metadata": {},
   "source": [
    "#### Merge the df1 genre columns to  `rt_df_clean` as a new data frame."
   ]
  },
  {
   "cell_type": "code",
   "execution_count": 40,
   "metadata": {},
   "outputs": [
    {
     "data": {
      "text/html": [
       "<div>\n",
       "<style scoped>\n",
       "    .dataframe tbody tr th:only-of-type {\n",
       "        vertical-align: middle;\n",
       "    }\n",
       "\n",
       "    .dataframe tbody tr th {\n",
       "        vertical-align: top;\n",
       "    }\n",
       "\n",
       "    .dataframe thead th {\n",
       "        text-align: right;\n",
       "    }\n",
       "</style>\n",
       "<table border=\"1\" class=\"dataframe\">\n",
       "  <thead>\n",
       "    <tr style=\"text-align: right;\">\n",
       "      <th></th>\n",
       "      <th>id</th>\n",
       "      <th>synopsis</th>\n",
       "      <th>rating</th>\n",
       "      <th>genre</th>\n",
       "      <th>director</th>\n",
       "      <th>writer</th>\n",
       "      <th>theater_date</th>\n",
       "      <th>dvd_date</th>\n",
       "      <th>currency</th>\n",
       "      <th>box_office</th>\n",
       "      <th>runtime</th>\n",
       "      <th>studio</th>\n",
       "      <th>g1</th>\n",
       "      <th>g2</th>\n",
       "      <th>g3</th>\n",
       "      <th>g4</th>\n",
       "      <th>g5</th>\n",
       "      <th>g6</th>\n",
       "      <th>g7</th>\n",
       "    </tr>\n",
       "  </thead>\n",
       "  <tbody>\n",
       "    <tr>\n",
       "      <td>0</td>\n",
       "      <td>1</td>\n",
       "      <td>This gritty, fast-paced, and innovative police...</td>\n",
       "      <td>R</td>\n",
       "      <td>Action and Adventure|Classics|Drama</td>\n",
       "      <td>William Friedkin</td>\n",
       "      <td>Ernest Tidyman</td>\n",
       "      <td>Oct 9, 1971</td>\n",
       "      <td>Sep 25, 2001</td>\n",
       "      <td>None</td>\n",
       "      <td>None</td>\n",
       "      <td>104 minutes</td>\n",
       "      <td>None</td>\n",
       "      <td>Action and Adventure</td>\n",
       "      <td>Classics</td>\n",
       "      <td>Drama</td>\n",
       "      <td>None</td>\n",
       "      <td>None</td>\n",
       "      <td>None</td>\n",
       "      <td>None</td>\n",
       "    </tr>\n",
       "  </tbody>\n",
       "</table>\n",
       "</div>"
      ],
      "text/plain": [
       "   id                                           synopsis rating  \\\n",
       "0   1  This gritty, fast-paced, and innovative police...      R   \n",
       "\n",
       "                                 genre          director          writer  \\\n",
       "0  Action and Adventure|Classics|Drama  William Friedkin  Ernest Tidyman   \n",
       "\n",
       "  theater_date      dvd_date currency box_office      runtime studio  \\\n",
       "0  Oct 9, 1971  Sep 25, 2001     None       None  104 minutes   None   \n",
       "\n",
       "                     g1        g2     g3    g4    g5    g6    g7  \n",
       "0  Action and Adventure  Classics  Drama  None  None  None  None  "
      ]
     },
     "metadata": {},
     "output_type": "display_data"
    }
   ],
   "source": [
    "# join the two datframes to add genre columns to each row\n",
    "# these dataframes share the same indices\n",
    "rt_genres = pd.merge(rt_df_clean, df1, left_index=True, right_index=True)\n",
    "display(rt_genres.head(1))"
   ]
  },
  {
   "cell_type": "markdown",
   "metadata": {},
   "source": [
    "#### The list may be more useful than the dataframe, where genre is concerned."
   ]
  },
  {
   "cell_type": "markdown",
   "metadata": {},
   "source": [
    "### The next is table from imdb. Let's see how useful it is for investigating genre."
   ]
  },
  {
   "cell_type": "code",
   "execution_count": 41,
   "metadata": {},
   "outputs": [],
   "source": [
    "# make a clean df for `...basics`\n",
    "cur.execute('''SELECT *\n",
    "                    FROM imdb_title_basics\n",
    "                    ;\n",
    "                    ''')\n",
    "\n",
    "imdb_basics_df_clean = pd.DataFrame(cur.fetchall())\n",
    "imdb_basics_df_clean.columns = [x[0] for x in cur.description]"
   ]
  },
  {
   "cell_type": "code",
   "execution_count": 42,
   "metadata": {},
   "outputs": [
    {
     "data": {
      "text/html": [
       "<div>\n",
       "<style scoped>\n",
       "    .dataframe tbody tr th:only-of-type {\n",
       "        vertical-align: middle;\n",
       "    }\n",
       "\n",
       "    .dataframe tbody tr th {\n",
       "        vertical-align: top;\n",
       "    }\n",
       "\n",
       "    .dataframe thead th {\n",
       "        text-align: right;\n",
       "    }\n",
       "</style>\n",
       "<table border=\"1\" class=\"dataframe\">\n",
       "  <thead>\n",
       "    <tr style=\"text-align: right;\">\n",
       "      <th></th>\n",
       "      <th>tconst</th>\n",
       "      <th>primary_title</th>\n",
       "      <th>original_title</th>\n",
       "      <th>start_year</th>\n",
       "      <th>runtime_minutes</th>\n",
       "      <th>genres</th>\n",
       "    </tr>\n",
       "  </thead>\n",
       "  <tbody>\n",
       "    <tr>\n",
       "      <td>0</td>\n",
       "      <td>tt0063540</td>\n",
       "      <td>Sunghursh</td>\n",
       "      <td>Sunghursh</td>\n",
       "      <td>2013</td>\n",
       "      <td>175.0</td>\n",
       "      <td>Action,Crime,Drama</td>\n",
       "    </tr>\n",
       "    <tr>\n",
       "      <td>1</td>\n",
       "      <td>tt0066787</td>\n",
       "      <td>One Day Before the Rainy Season</td>\n",
       "      <td>Ashad Ka Ek Din</td>\n",
       "      <td>2019</td>\n",
       "      <td>114.0</td>\n",
       "      <td>Biography,Drama</td>\n",
       "    </tr>\n",
       "    <tr>\n",
       "      <td>2</td>\n",
       "      <td>tt0069049</td>\n",
       "      <td>The Other Side of the Wind</td>\n",
       "      <td>The Other Side of the Wind</td>\n",
       "      <td>2018</td>\n",
       "      <td>122.0</td>\n",
       "      <td>Drama</td>\n",
       "    </tr>\n",
       "  </tbody>\n",
       "</table>\n",
       "</div>"
      ],
      "text/plain": [
       "      tconst                    primary_title              original_title  \\\n",
       "0  tt0063540                        Sunghursh                   Sunghursh   \n",
       "1  tt0066787  One Day Before the Rainy Season             Ashad Ka Ek Din   \n",
       "2  tt0069049       The Other Side of the Wind  The Other Side of the Wind   \n",
       "\n",
       "   start_year  runtime_minutes              genres  \n",
       "0        2013            175.0  Action,Crime,Drama  \n",
       "1        2019            114.0     Biography,Drama  \n",
       "2        2018            122.0               Drama  "
      ]
     },
     "execution_count": 42,
     "metadata": {},
     "output_type": "execute_result"
    }
   ],
   "source": [
    "imdb_basics_df_clean.head(3)"
   ]
  },
  {
   "cell_type": "markdown",
   "metadata": {},
   "source": [
    "### Is the genre list the same as the previous dataframe."
   ]
  },
  {
   "cell_type": "code",
   "execution_count": 43,
   "metadata": {},
   "outputs": [
    {
     "name": "stdout",
     "output_type": "stream",
     "text": [
      "['Action,Crime,Drama', 'Biography,Drama', 'Drama', 'Comedy,Drama', 'Comedy,Drama,Fantasy']\n"
     ]
    }
   ],
   "source": [
    "# create an empty list for this dataframe's genres\n",
    "imdb_genres = []\n",
    "\n",
    "a = imdb_basics_df_clean.genres.unique() # returns a numpy array\n",
    "b = [str(i) for i in a] # returns a list\n",
    "\n",
    "b = list(filter(None, b)) # remove None values\n",
    "\n",
    "print(b[0:5])"
   ]
  },
  {
   "cell_type": "markdown",
   "metadata": {},
   "source": [
    "#### Here we have words, with un-spaced commas inseparable from permanent compound-word arrays."
   ]
  },
  {
   "cell_type": "code",
   "execution_count": 52,
   "metadata": {},
   "outputs": [
    {
     "name": "stdout",
     "output_type": "stream",
     "text": [
      "the first element is Action,Crime,Drama\n",
      "...after processing, the first element is now Action,Crime,Drama\n"
     ]
    }
   ],
   "source": [
    "# let's create a function to test this\n",
    "def split_list_of_strings(list, separator):\n",
    "    print(\"the first element is\", list[0]) # show the first item\n",
    "    for element in b:\n",
    "        # show the first item after `split`\n",
    "        element.split(\",\", 5) # long enough to check for all commas\n",
    "    print(\"...after processing, the first element is now\", list[0])\n",
    "\n",
    "split_list_of_strings(b, \",\")"
   ]
  },
  {
   "cell_type": "code",
   "execution_count": 66,
   "metadata": {},
   "outputs": [
    {
     "name": "stdout",
     "output_type": "stream",
     "text": [
      "166 unique elements contain 'Action', out of 1086\n",
      "{'Action,Animation,Thriller', 'Romance,Western', 'Comedy,Fantasy,Music', 'Action,Adventure', 'Drama,Fantasy,Music', 'Comedy,History,Thriller', 'Action,Documentary,Thriller', 'Crime,Drama,Horror', 'Action,Mystery,Western', 'Documentary,Horror,Romance', 'Adventure,Animation,Fantasy', 'Documentary,Fantasy', 'Animation,Crime', 'Adventure,Comedy,Western', 'Action,Horror,Thriller', 'Family,Musical,Sport', 'Horror,Mystery', 'Comedy,Drama', 'Biography,Drama,Fantasy', 'Biography,Romance,War', 'Animation,Romance', 'Action,Comedy,Sport', 'Fantasy,Horror,Mystery', 'Biography,History,Romance', 'Romance,War', 'Biography,Comedy,Crime', 'Documentary,History,Musical', 'Animation,Mystery', 'Horror,Thriller,Western', 'Drama,News,Sci-Fi', 'Drama,Music,Musical', 'Family,Music', 'Crime,Fantasy,Horror', 'Documentary,History,Romance', 'Action,Comedy,Mystery', 'Adventure,Comedy,Thriller', 'Animation,Family,Music', 'Animation,Biography', 'Documentary,Mystery', 'Drama,Mystery,Sci-Fi', 'Animation,History', 'Action,Animation,Crime', 'Drama,Fantasy,Musical', 'Action,Comedy,Music', 'Adventure,Crime,Horror', 'Comedy,Drama,News', 'Documentary,History,Music', 'Drama,Music,Romance', 'Drama,Romance', 'Documentary,Fantasy,Romance', 'Crime,Family,Thriller', 'Drama,Music,News', 'Documentary,Music,War', 'Adventure,Fantasy,History', 'Action,Biography,Comedy', 'Action,Family,Fantasy', 'Family,Music,Romance', 'Adult,Horror', 'Animation,Comedy,Musical', 'Adventure,Drama,Musical', 'Comedy,Mystery', 'Crime,Horror,Sci-Fi', 'Adventure,Music,Thriller', 'Adventure,Fantasy,Horror', 'Animation,Short', 'Animation,Drama,Horror', 'Adventure,Documentary,History', 'Documentary,Drama,Sport', 'Adventure,Drama,Mystery', 'Adventure,Drama,History', 'Action,Animation,Sci-Fi', 'Comedy,Musical,Sci-Fi', 'Crime,Documentary,Music', 'Musical,Romance,Thriller', 'Crime,Western', 'Crime,Family,Horror', 'Action,Romance,Sci-Fi', 'Action,Biography,Crime', 'Comedy,Crime,Musical', 'Action,Biography,Thriller', 'Adventure,Fantasy,Thriller', 'Comedy,Mystery,Sci-Fi', 'Adventure,Comedy,Drama', 'Adventure,Biography,Documentary', 'Comedy,Horror,Thriller', 'Adventure,Family,Fantasy', 'Adventure,Documentary,Sci-Fi', 'Animation,Biography,Fantasy', 'History,Western', 'Animation,Drama,Sport', 'History,Mystery,Romance', 'Family,Horror,Romance', 'Action,Crime,Western', 'Biography,Comedy,Documentary', 'Action,Drama,Fantasy', 'Biography,Comedy,Fantasy', 'History,Thriller', 'Drama,Fantasy,Mystery', 'Comedy,History,Sport', 'Action,Fantasy,Thriller', 'Adventure,Comedy,Family', 'Documentary,History,Thriller', 'Adventure,Documentary,News', 'Biography,Comedy,Romance', 'Adventure,Western', 'Adventure,Family,Western', 'Comedy,Fantasy,Mystery', 'Comedy,Drama,Thriller', 'Comedy,Sci-Fi,Thriller', 'Documentary,Drama,News', 'Biography,Documentary,Drama', 'Adventure,Comedy,Documentary', 'Adventure,Horror,Mystery', 'Family,Mystery,Sport', 'Adventure,Animation', 'Mystery,Reality-TV,Thriller', 'Comedy,Family,Sport', 'Animation,Drama,Romance', 'Family,History,Mystery', 'Adventure,Crime,Drama', 'Romance', 'Biography,Fantasy,Horror', 'Adventure,Animation,Mystery', 'History,Horror,Mystery', 'Action,Comedy', 'Adventure,Comedy,Sci-Fi', 'Action,Music', 'Drama,Sci-Fi', 'Adventure,Documentary,Mystery', 'Action,Crime,History', 'Crime,Music,Mystery', 'Sport,Thriller', 'Adult,Comedy', 'Drama,History,Mystery', 'Crime,Drama,History', 'Crime,Family,Fantasy', 'Adventure,Comedy,Music', 'Comedy,Family,Music', 'Biography,Drama,News', 'Adventure,Biography,Comedy', 'Drama,Fantasy,Western', 'Short,Thriller', 'Action,Animation,Mystery', 'Animation,Documentary,Fantasy', 'Adventure,Animation,Drama', 'Comedy,Crime,Western', 'Adventure,History,Romance', 'Biography,Drama,Family', 'Crime,Horror,Thriller', 'Adventure,Biography,Drama', 'Horror,Sci-Fi,War', 'Biography,Comedy,Musical', 'Comedy,Crime,Romance', 'Adventure,Mystery,Thriller', 'Horror,Music,Mystery', 'Adventure,Crime,Mystery', 'Comedy,Romance', 'Drama,Sport,Thriller', 'Music,Musical,Reality-TV', 'Animation,Documentary,Musical', 'Fantasy,Music', 'Action,History,Horror', 'Mystery,Thriller', 'Romance,Thriller', 'Action,Animation,Biography', 'Animation,Music,Romance', 'Drama,Mystery,War', 'Animation,Horror', 'Drama,Family,Thriller', 'Documentary,Music,Romance', 'Family,Fantasy,Music', 'Action,Musical,Sci-Fi', 'Documentary,Family', 'Documentary,History,Sci-Fi', 'Documentary,News,Sport', 'Music,War', 'Action,Animation,War', 'Action,Sci-Fi', 'Comedy,Documentary,Romance', 'Comedy,Family,Musical', 'Animation,Horror,Sci-Fi', 'Family,Horror', 'Drama,Horror,Music', 'Animation,Comedy,Romance', 'Adventure,Fantasy,Romance', 'Adventure,Crime,Sci-Fi', 'Animation,Family,Sport', 'Adventure,Comedy,History', 'Animation,Fantasy,Thriller', 'Animation,History,Musical', 'Drama,Horror,Mystery', 'Fantasy,History,Sci-Fi', 'Drama,Family,Short', 'Crime,Drama,Romance', 'Crime,Drama,Western', 'Action,Sci-Fi,War', 'Action,Thriller', 'Documentary,Family,Sport', 'Action,Comedy,History', 'Adventure,Documentary,Romance', 'Biography,Comedy,Horror', 'Biography,History', 'Crime,Documentary', 'Comedy,Horror', 'Action,Sci-Fi,Western', 'Comedy,News', 'Action,Horror,Sport', 'Comedy,Romance,Thriller', 'Action,Adventure,Western', 'Drama,Fantasy,Sport', 'Animation,Fantasy,Romance', 'Action,Crime', 'Action,Drama,News', 'Documentary,Drama,Fantasy', 'Documentary,Musical,News', 'Action,Comedy,Family', 'Comedy,Drama,Musical', 'Drama,Horror,Short', 'Music,Mystery,Thriller', 'Animation,Documentary,Family', 'Comedy,Reality-TV', 'Biography,Documentary,Family', 'Fantasy,Horror,Western', 'Action,Biography', 'Mystery,Sci-Fi', 'Animation,History,Music', 'Fantasy,Music,Thriller', 'Documentary,Fantasy,History', 'Fantasy,Music,Musical', 'History,Romance,War', 'Drama,Family,Sport', 'Drama,History,Musical', 'Drama,Mystery,Romance', 'Action,Thriller,Western', 'Crime,Documentary,Romance', 'Action,Western', 'Drama,Musical', 'Musical,Mystery,Thriller', 'Biography,Family', 'Drama,Thriller', 'Action,Comedy,War', 'Adventure,Romance,Sport', 'Animation,Biography,Family', 'Action,Family,Mystery', 'Documentary,Sport,Thriller', 'Animation,Musical', 'Documentary,Drama,Music', 'Documentary,Drama,Horror', 'Animation,Crime,Thriller', 'Biography,Comedy', 'Comedy,Thriller', 'Documentary,Fantasy,Sci-Fi', 'Adventure,Biography,Thriller', 'Adventure,Animation,Comedy', 'Comedy,Romance,Short', 'Family,Romance', 'Biography,Drama,Musical', 'Action,Documentary,War', 'Horror,Sci-Fi,Thriller', 'Animation,Crime,Documentary', 'Action,Adventure,Sport', 'Drama,Fantasy,Sci-Fi', 'Animation,Comedy,Documentary', 'Comedy,Crime', 'Adventure,Drama', 'Comedy,Horror,War', 'Crime,Mystery', 'Music,Romance', 'Fantasy,Mystery,Romance', 'Drama,News,Thriller', 'Fantasy,Horror,Musical', 'Biography,Family,Fantasy', 'Documentary,News,Sci-Fi', 'Drama,Family,News', 'Action', 'Comedy,Fantasy', 'Action,Fantasy,Sci-Fi', 'Action,Drama,Music', 'Crime,Thriller,Western', 'Action,Drama', 'Horror,Romance', 'Comedy,Drama,Romance', 'Drama,Musical,War', 'Action,Horror,Mystery', 'Romance,Sci-Fi,Thriller', 'Comedy,Mystery,Thriller', 'Documentary,History,Mystery', 'Documentary,Horror,News', 'Music', 'Drama,Romance,Sci-Fi', 'Musical', 'Drama,Music,Mystery', 'Biography,Documentary,History', 'Comedy,Drama,Horror', 'Adventure,Documentary,Sport', 'Drama,Musical,Thriller', 'Fantasy,Mystery,Thriller', 'Fantasy,Music,Mystery', 'Adventure,Sci-Fi,Thriller', 'Fantasy,History,Horror', 'Comedy,Drama,Family', 'Drama,History,Horror', 'Thriller,War', 'Documentary,News,Romance', 'Comedy,Sci-Fi,Sport', 'Sci-Fi,Thriller', 'Animation,Documentary,Thriller', 'Adventure,Drama,Romance', 'Action,Drama,Sport', 'Action,Comedy,Documentary', 'Music,Musical,Romance', 'Adventure,Drama,Music', 'Adventure,Drama,Family', 'Documentary,News,Western', 'Action,Biography,Documentary', 'Animation,Drama,Musical', 'Family,Romance,Sport', 'Music,Sci-Fi,Thriller', 'Action,Drama,Musical', 'Comedy,Horror,Romance', 'Romance,Sci-Fi', 'Music,Sci-Fi', 'Fantasy,Mystery,Sci-Fi', 'Action,Music,Sci-Fi', 'Biography,Fantasy', 'Action,Adventure,Comedy', 'Animation,Documentary,Drama', 'Action,Fantasy,War', 'Comedy,Western', 'Crime,Documentary,News', 'Documentary,Sci-Fi', 'Music,Musical,Mystery', 'Comedy,Musical,Western', 'Animation,Fantasy', 'Family,Fantasy,Horror', 'Animation,Fantasy,Sci-Fi', 'Documentary,Talk-Show', 'Animation,Horror,Mystery', 'Adventure,Fantasy,Musical', 'Crime,Documentary,Horror', 'Action,Comedy,Musical', 'Comedy,Drama,Music', 'Drama,Horror,Western', 'Adventure,Romance,Thriller', 'Crime,Mystery,Thriller', 'Comedy,Musical', 'Animation,Music,Thriller', 'Family,Mystery,Thriller', 'Mystery,Romance', 'Mystery,News,Thriller', 'Fantasy,Western', 'Fantasy,Mystery', 'Comedy,Documentary,Reality-TV', 'Biography,Documentary,War', 'Family,Musical', 'Adventure', 'Adventure,Drama,Horror', 'Mystery,Sci-Fi,Thriller', 'Documentary,Music,Western', 'Fantasy,Music,Romance', 'Action,Adventure,Crime', 'Biography,Documentary,Mystery', 'Comedy,Music,War', 'Drama,Fantasy,Horror', 'Horror,Thriller,War', 'Action,Crime,Drama', 'Biography,Drama,War', 'Drama,Sci-Fi,Sport', 'Action,Adventure,Musical', 'Animation,Documentary,Sci-Fi', 'Biography,Drama', 'Action,Adventure,Family', 'Documentary,Thriller', 'Action,Crime,Mystery', 'Crime,Horror,Musical', 'Biography,Reality-TV', 'Action,Comedy,Horror', 'Adventure,Crime,Music', 'Animation,Sci-Fi', 'Drama,Family', 'Animation,Crime,Drama', 'Horror,Musical,Thriller', 'Family,History', 'Adventure,Comedy,Musical', 'Comedy,Documentary,Western', 'Western', 'Drama,History,News', 'Documentary,History,Horror', 'Comedy,Romance,Sci-Fi', 'Action,Family,Western', 'History,Mystery,Thriller', 'Action,Documentary,Mystery', 'Action,Adventure,Fantasy', 'Biography,Family,News', 'Drama,Romance,Western', 'Fantasy,History,War', 'Biography,Music,Romance', 'Horror', 'Animation,Fantasy,History', 'Mystery,Romance,Sci-Fi', 'Sci-Fi,War', 'Biography', 'Adventure,Biography,Crime', 'Animation,Drama,Family', 'History,Horror', 'Action,Documentary,Western', 'Adventure,Comedy,Crime', 'Adventure,Family,Musical', 'Adventure,Documentary,Family', 'Action,History,War', 'Drama,Family,Musical', 'Drama,Family,Music', 'Action,Adventure,Drama', 'Documentary,Family,News', 'Thriller', 'Comedy,Romance,Sport', 'Fantasy,Music,Sci-Fi', 'Adult,Romance', 'Action,Horror,Western', 'Adventure,History,Music', 'History,News,War', 'Animation,Drama,War', 'Animation,Sci-Fi,Sport', 'Family,Fantasy,Mystery', 'Crime,Musical,Thriller', 'Documentary,Fantasy,Music', 'Documentary,Music,Sport', 'Documentary,Drama,Musical', 'Action,Comedy,Sci-Fi', 'Documentary,Drama,Thriller', 'Horror,Music,Thriller', 'Action,War', 'Biography,Family,Mystery', 'Action,Documentary,News', 'Horror,Talk-Show', 'Action,Romance,Western', 'Biography,Drama,Thriller', 'Comedy,Romance,Western', 'Documentary,News,Reality-TV', 'Comedy,Crime,Drama', 'Action,Comedy,Drama', 'Action,Documentary,Romance', 'Biography,Documentary,Musical', 'Documentary,Music,Reality-TV', 'Romance,Sport', 'Action,Animation,Comedy', 'Drama,Western', 'Adventure,Biography,Mystery', 'Comedy,Drama,Sci-Fi', 'Documentary,Horror', 'Biography,Comedy,Drama', 'Drama,History,Romance', 'Comedy,Horror,Musical', 'Adventure,Comedy,Horror', 'Biography,Music,Musical', 'Animation,History,Horror', 'Animation,Music,Mystery', 'Crime,Drama,War', 'Fantasy,History,Music', 'Adult,Drama,Mystery', 'Music,Sport', 'Drama,History,Music', 'Crime,Family', 'Fantasy,Thriller', 'Adventure,Animation,Sci-Fi', 'Adventure,Animation,Crime', 'Adventure,History,News', 'Drama,Music,Thriller', 'Comedy,History,Mystery', 'Documentary,Musical,Sci-Fi', 'Crime,Mystery,Romance', 'Comedy,Sport,Thriller', 'Drama,Short', 'Animation,Western', 'Horror,Sport,Thriller', 'Adventure,Fantasy,War', 'Crime,Romance,Thriller', 'Crime,Documentary,Fantasy', 'Horror,Reality-TV,Thriller', 'Action,Drama,Western', 'Comedy,Crime,Documentary', 'Adventure,Crime,Romance', 'Animation,Biography,Comedy', 'Sci-Fi,Western', 'Adventure,History,Mystery', 'History,Music,Sci-Fi', 'Animation,Comedy,Family', 'Animation', 'Biography,Music', 'Adventure,Documentary,Fantasy', 'Action,Documentary,Horror', 'Animation,Family,Fantasy', 'Biography,Drama,Romance', 'Biography,History,Mystery', 'Crime', 'Crime,Fantasy,War', 'Adventure,Crime,Documentary', 'Comedy,Crime,Sport', 'Animation,Comedy', 'Adventure,Horror', 'Fantasy,Romance,Thriller', 'Biography,Comedy,Family', 'Comedy,Drama,Mystery', 'Drama,War,Western', 'Family,Fantasy,Sci-Fi', 'Comedy,Documentary,Music', 'Comedy,Music', 'History,Sci-Fi', 'Animation,Documentary,War', 'Horror,Mystery,Romance', 'Drama,Horror,Musical', 'Horror,Sci-Fi', 'Family,Fantasy,Western', 'Adventure,Biography', 'Comedy,Family,Western', 'Drama,Sci-Fi,Western', 'Comedy,Drama,War', 'History,Romance', 'Musical,Thriller', 'Comedy,Horror,Music', 'Documentary,History,Reality-TV', 'Drama,Family,War', 'History,Romance,Thriller', 'Animation,Fantasy,Musical', 'Comedy,History,Music', 'Comedy,Documentary,Family', 'Comedy,Family,Horror', 'Action,Documentary,Fantasy', 'Documentary,Mystery,Romance', 'Drama,Horror,War', 'Action,Drama,Romance', 'Crime,Drama,Fantasy', 'Animation,Fantasy,Mystery', 'Mystery,Romance,Thriller', 'Animation,Horror,Romance', 'Comedy,History,War', 'Adventure,Crime', 'Documentary', 'Crime,Romance,Western', 'Documentary,Drama,Sci-Fi', 'Documentary,Drama,History', 'Drama,Mystery,News', 'Action,Animation,Music', 'Animation,Documentary', 'Crime,Drama,News', 'Animation,Horror,Thriller', 'Crime,Musical', 'Animation,Mystery,Thriller', 'Fantasy,Horror,Music', 'Adventure,History', 'Adventure,Drama,Thriller', 'Comedy,History', 'Action,Comedy,Western', 'Adventure,Musical,Romance', 'Adventure,Documentary', 'Action,Adventure,Music', 'Comedy,Documentary,Sci-Fi', 'Action,Crime,Musical', 'Action,Family,Sci-Fi', 'Family,Fantasy,History', 'Drama,Family,Sci-Fi', 'Documentary,Western', 'Comedy,Horror,Mystery', 'Crime,Horror,Romance', 'Documentary,Drama,Mystery', 'Biography,Drama,Music', 'Animation,Comedy,Mystery', 'Crime,Fantasy,Thriller', 'Action,Biography,Fantasy', 'Musical,Reality-TV', 'Biography,Mystery,Sci-Fi', 'Crime,Documentary,Thriller', 'Adventure,News', 'Drama,Sci-Fi,Thriller', 'Action,Family', 'Horror,Mystery,Sci-Fi', 'Drama,History,War', 'Adventure,Crime,Family', 'Adventure,Fantasy,Music', 'War,Western', 'Biography,Documentary,Western', 'Biography,Documentary,Sport', 'Drama,Thriller,War', 'Crime,History', 'Comedy,Fantasy,Horror', 'Adventure,Music,Mystery', 'Crime,Thriller', 'Comedy', 'Biography,War', 'Biography,Drama,History', 'Action,Romance,Sport', 'Adventure,Animation,History', 'Drama,Musical,Western', 'Biography,Documentary,Horror', 'Action,Drama,Family', 'Adventure,Fantasy', 'Drama,Fantasy,War', 'Crime,Music', 'History,Mystery', 'Action,Drama,War', 'Comedy,Crime,History', 'Comedy,Drama,Sport', 'Fantasy,History,Romance', 'Adventure,Horror,Western', 'Biography,Horror', 'Comedy,Crime,Horror', 'Documentary,Family,Romance', 'Action,Fantasy,Western', 'Drama,History,Thriller', 'Drama,Musical,Sci-Fi', 'Family,Western', 'Action,Musical,Thriller', 'Comedy,History,Musical', 'Thriller,Western', 'Drama,Mystery,Western', 'Adventure,Fantasy,Sci-Fi', 'Biography,History,War', 'Drama,Fantasy,History', 'Documentary,Fantasy,Mystery', 'Crime,Drama,Family', 'Documentary,Family,Mystery', 'Action,Animation', 'Adventure,Family,Sport', 'Adventure,History,War', 'Animation,Sci-Fi,Thriller', 'Documentary,Drama', 'Action,Sci-Fi,Thriller', 'Documentary,Musical,Mystery', 'Documentary,Reality-TV', 'Mystery,Thriller,War', 'Drama,History,Western', 'Adventure,Family,Mystery', 'Documentary,Family,War', 'Biography,Drama,Horror', 'Action,Adventure,Sci-Fi', 'Animation,Drama,History', 'Action,Documentary,History', 'Action,Documentary,Family', 'Drama,Romance,Thriller', 'Comedy,Drama,History', 'Documentary,Horror,Mystery', 'Comedy,Drama,Reality-TV', 'Documentary,History,Western', 'Adventure,Fantasy,Mystery', 'Adventure,Documentary,Drama', 'Biography,Thriller', 'Action,Mystery,Thriller', 'Documentary,News,War', 'Crime,Music,Thriller', 'Animation,Comedy,History', 'Fantasy,History,Mystery', 'Comedy,Drama,Fantasy', 'Biography,Comedy,Sci-Fi', 'History,War', 'Animation,Drama,Mystery', 'Adventure,Mystery,Romance', 'Documentary,Fantasy,Horror', 'Drama,Romance,War', 'Adventure,Family', 'Action,Fantasy,Sport', 'Musical,Mystery,Sci-Fi', 'Action,Adventure,Documentary', 'Music,Mystery,Romance', 'Mystery', 'Adventure,Thriller', 'Thriller,War,Western', 'Biography,Sport', 'Documentary,Sport,War', 'Comedy,Crime,Thriller', 'History,Romance,Western', 'Fantasy,Musical', 'Documentary,Family,History', 'Family,Music,Musical', 'Action,Animation,Family', 'Documentary,Musical', 'Action,Fantasy,History', 'Biography,Crime,Documentary', 'Adventure,Comedy,Fantasy', 'Comedy,Musical,Romance', 'Comedy,History,Horror', 'Comedy,War', 'Action,Crime,Thriller', 'Comedy,Short', 'History,Musical,Romance', 'Comedy,Documentary,Mystery', 'Fantasy,Romance', 'Action,Drama,Mystery', 'Adventure,Documentary,Western', 'Family,Fantasy,Musical', 'Documentary,Music,Sci-Fi', 'Action,Fantasy', 'Action,Adventure,Mystery', 'Sci-Fi', 'Biography,Documentary,Reality-TV', 'Action,History,Thriller', 'Fantasy,Musical,Sci-Fi', 'Crime,Drama', 'Animation,Sport', 'Fantasy,History', 'Drama,Mystery', 'Animation,Drama,Music', 'Action,Adventure,Romance', 'Drama,Fantasy,Romance', 'Drama,War', 'Documentary,Drama,Romance', 'Animation,Crime,Music', 'Comedy,Drama,Western', 'Comedy,Musical,War', 'Reality-TV', 'Action,Crime,Fantasy', 'Comedy,Family,Romance', 'Horror,Musical', 'Action,Fantasy,Romance', 'Comedy,Music,Thriller', 'Crime,Mystery,Western', 'Crime,Documentary,Mystery', 'Family,History,Romance', 'Comedy,Fantasy,Romance', 'Action,Adventure,Animation', 'Crime,Documentary,History', 'Action,Crime,Romance', 'Action,Romance', 'Family,Fantasy,Romance', 'Adventure,Biography,History', 'Action,Crime,Sport', 'Adventure,Family,Horror', 'Crime,Drama,Music', 'Drama,Horror,Sci-Fi', 'Action,Adventure,Horror', 'Fantasy,War', 'Documentary,News,Thriller', 'Action,Crime,Documentary', 'Action,Adventure,Thriller', 'Family', 'Crime,History,Mystery', 'Music,Reality-TV', 'Adventure,Biography,Western', 'Action,Drama,Horror', 'Animation,Biography,History', 'Fantasy,Romance,Sci-Fi', 'Documentary,Mystery,Thriller', 'Documentary,Family,Musical', 'Drama,Fantasy', 'Drama,History,Sport', 'Fantasy,Horror', 'Action,Drama,History', 'Comedy,Musical,Mystery', 'Family,Sci-Fi', 'History,Sport', 'Action,Family,Romance', 'Documentary,War', 'Drama,Family,Fantasy', 'Comedy,Crime,Fantasy', 'Comedy,History,Romance', 'History,Horror,Thriller', 'Documentary,Horror,Reality-TV', 'Biography,History,Thriller', 'Action,Biography,History', 'Crime,Documentary,Sport', 'Horror,Mystery,Thriller', 'Crime,Horror', 'Drama,News,War', 'Action,Animation,Horror', 'Comedy,Music,Romance', 'Horror,Thriller', 'Drama,Family,History', 'Adventure,Music,Romance', 'Horror,Music,Sci-Fi', 'Animation,Thriller', 'Action,Comedy,Crime', 'Animation,Documentary,News', 'Horror,War', 'Adult,Drama', 'Adventure,Comedy,Romance', 'Animation,Drama,Sci-Fi', 'Comedy,Documentary,Fantasy', 'Family,Thriller', 'Documentary,Music,News', 'Documentary,History,War', 'Crime,History,Horror', 'Documentary,Reality-TV,Sport', 'Comedy,Musical,Thriller', 'Crime,Drama,Sport', 'Action,Mystery,Sci-Fi', 'Biography,Comedy,History', 'Biography,Family,History', 'Adventure,Horror,Sci-Fi', 'Action,Documentary', 'Comedy,Drama,Short', 'History,Thriller,War', 'Action,Musical,Romance', 'Action,Drama,Sci-Fi', 'Family,News', 'Comedy,Documentary,History', 'Action,Animation,Drama', 'Action,Adult,Comedy', 'Drama,Music', 'Biography,Documentary,Thriller', 'Action,Animation,Sport', 'Drama,History', 'Biography,History,Music', 'Adult,Drama,Romance', 'Animation,Biography,Crime', 'Comedy,Fantasy,History', 'Comedy,Music,Musical', 'Biography,Crime,History', 'Horror,Musical,Romance', 'Comedy,Documentary,Horror', 'Comedy,History,News', 'Action,Sport', 'Comedy,Fantasy,Sci-Fi', 'Comedy,Musical,Sport', 'Animation,Documentary,Mystery', 'Adventure,Comedy,Mystery', 'Adventure,Music', 'Biography,Documentary,News', 'Action,Crime,Sci-Fi', 'Adventure,History,Sci-Fi', 'Fantasy,Horror,Thriller', 'Crime,Sci-Fi,Thriller', 'Fantasy,Musical,Mystery', 'Drama,Horror,Thriller', 'History,Musical', 'Game-Show', 'Biography,Drama,Mystery', 'Family,History,War', 'Adventure,Musical,Sci-Fi', 'Family,Mystery', 'Action,Family,Thriller', 'Comedy,Crime,Music', 'Comedy,Family,Fantasy', 'Drama,Romance,Sport', 'Animation,Family,Sci-Fi', 'Adventure,Animation,Musical', 'Action,Animation,Fantasy', 'Horror,Music', 'Fantasy,Horror,Romance', 'Drama,Fantasy,Thriller', 'Drama,Horror,Sport', 'Action,Fantasy,Mystery', 'Documentary,Sport,Western', 'Fantasy', 'Comedy,Music,Mystery', 'Action,Documentary,Drama', 'Drama,News', 'Crime,War', 'Adventure,Comedy,Reality-TV', 'Comedy,Thriller,Western', 'Action,Adventure,War', 'Animation,Horror,Music', 'Music,Musical', 'Crime,Fantasy,Mystery', 'Animation,Comedy,Crime', 'Fantasy,Sci-Fi', 'Comedy,Horror,Western', 'Comedy,Crime,Mystery', 'Action,Thriller,War', 'Action,Romance,War', 'Drama,Short,Western', 'Documentary,Family,Fantasy', 'Adventure,Comedy', 'Drama,Family,Romance', 'Adventure,Animation,Biography', 'Animation,Comedy,Horror', 'Crime,Sport,Thriller', 'Biography,Documentary,Romance', 'Animation,Drama,Fantasy', 'Fantasy,History,Musical', 'Reality-TV,Talk-Show', 'Crime,History,Thriller', 'Adventure,Horror,Romance', 'Documentary,Mystery,News', 'Comedy,Sci-Fi,Western', 'Adventure,Biography,Family', 'Animation,Biography,Drama', 'Comedy,Family,History', 'Adventure,Drama,Sci-Fi', 'Family,Horror,Thriller', 'History,Sci-Fi,Thriller', 'Adventure,Animation,Horror', 'Animation,Sci-Fi,War', 'Documentary,Horror,Music', 'Comedy,Horror,Sci-Fi', 'Documentary,Drama,War', 'Comedy,Crime,Sci-Fi', 'Animation,Music', 'Crime,Documentary,Family', 'Fantasy,Musical,Romance', 'Action,History', 'Fantasy,Horror,Sci-Fi', 'Documentary,Drama,Reality-TV', 'Music,Mystery', 'Adventure,Family,Sci-Fi', 'Documentary,Horror,Thriller', 'Animation,Mystery,Sci-Fi', 'Crime,Sci-Fi', 'Family,Sci-Fi,Thriller', 'Drama,Sci-Fi,War', 'Documentary,Drama,Family', 'History,Music', 'Drama,Game-Show,Thriller', 'None', 'Horror,Romance,Sci-Fi', 'Documentary,History', 'Adventure,Documentary,Music', 'Action,Horror,Romance', 'Animation,Documentary,Music', 'Adventure,Music,Sci-Fi', 'Crime,Horror,Mystery', 'Biography,Documentary,Fantasy', 'Adventure,Documentary,Reality-TV', 'Drama,Music,Sci-Fi', 'Adventure,Musical', 'Documentary,Family,Western', 'Biography,Musical', 'Action,Comedy,Thriller', 'Biography,Crime,Romance', 'Animation,Family,Mystery', 'Adventure,Animation,Family', 'Comedy,Sci-Fi', 'Horror,Romance,Thriller', 'Comedy,Sport,Western', 'Comedy,Fantasy,Sport', 'Musical,Romance,Western', 'Romance,Thriller,War', 'Biography,Crime,Drama', 'Comedy,Talk-Show', 'Horror,Western', 'Talk-Show', 'Crime,Documentary,Drama', 'Animation,Biography,Documentary', 'Drama,Horror', 'Comedy,Documentary,Musical', 'Action,Crime,Music', 'Animation,Music,Musical', 'Documentary,Sport', 'Biography,History,News', 'Adventure,Romance,Sci-Fi', 'Animation,Comedy,Sci-Fi', 'Documentary,Mystery,War', 'Documentary,Musical,Sport', 'Music,Musical,Thriller', 'Musical,Mystery', 'Action,Crime,Horror', 'Comedy,Sport', 'Biography,Documentary,Sci-Fi', 'Musical,Sci-Fi', 'Documentary,Horror,Sci-Fi', 'Crime,Drama,Mystery', 'Adventure,Mystery,Sci-Fi', 'Comedy,Documentary,Drama', 'Sport', 'Adventure,Documentary,Musical', 'Documentary,Family,Music', 'Adventure,Drama,Fantasy', 'Biography,Comedy,Reality-TV', 'Action,Mystery', 'Animation,Musical,Sport', 'Animation,Family,History', 'Mystery,War', 'Action,Drama,Thriller', 'Adventure,Crime,Thriller', 'Adventure,Family,Music', 'Documentary,History,Sport', 'Family,Musical,Romance', 'Crime,Drama,Thriller', 'Adventure,Horror,Thriller', 'Action,Biography,Drama', 'Animation,Documentary,History', 'Comedy,Fantasy,Musical', 'Documentary,Family,Sci-Fi', 'Animation,Music,Sci-Fi', 'Animation,Documentary,Horror', 'Action,History,Romance', 'Comedy,Family,Mystery', 'Biography,Fantasy,History', 'Documentary,Music,Musical', 'Action,Comedy,Romance', 'Drama,Family,Western', 'Comedy,Music,Sci-Fi', 'Drama,Mystery,Sport', 'Comedy,Horror,Reality-TV', 'Documentary,Drama,Western', 'History', 'Adventure,Sport', 'Drama,Family,Mystery', 'War', 'Action,Musical', 'Comedy,Documentary,News', 'Biography,Romance', 'Biography,Documentary', 'Adventure,Sci-Fi', 'Crime,Drama,Sci-Fi', 'Action,Animation,History', 'Drama', 'Family,Sport', 'Documentary,News', 'Crime,Romance', 'Action,Comedy,Fantasy', 'Adventure,Romance', 'Animation,Comedy,Drama', 'Biography,Documentary,Music', 'Action,Fantasy,Horror', 'Drama,History,Sci-Fi', 'Documentary,Musical,War', 'Comedy,Documentary,War', 'Action,Sport,War', 'Reality-TV,Sport', 'Adventure,Family,Romance', 'Mystery,Thriller,Western', 'Action,Documentary,Sport', 'Comedy,Documentary,Thriller', 'Adventure,Crime,Western', 'Documentary,Mystery,Sci-Fi', 'Fantasy,Sci-Fi,Thriller', 'Biography,Crime,Thriller', 'Animation,Family,Musical', 'News', 'Animation,Comedy,Music', 'Adventure,Documentary,War', 'Biography,History,Musical', 'Drama,Family,Horror', 'Action,Horror', 'Animation,War', 'Musical,Romance', 'Action,Documentary,Musical', 'Action,Sport,Thriller', 'Drama,Thriller,Western', 'Biography,Drama,Western', 'Adventure,Mystery', 'Adventure,Drama,Sport', 'Biography,Thriller,Western', 'Drama,Horror,Romance', 'Comedy,Documentary', 'Sport,Talk-Show', 'Drama,Mystery,Thriller', 'Action,Horror,Music', 'Adventure,Drama,Western', 'Documentary,History,News', 'Animation,Drama', 'Comedy,Family,Sci-Fi', 'Biography,Crime', 'Comedy,Mystery,Romance', 'Animation,Fantasy,Horror', 'Adventure,Comedy,War', 'Comedy,Crime,Family', 'Adventure,Animation,Documentary', 'Action,Adventure,Biography', 'News,Talk-Show', 'Family,Fantasy', 'Adventure,History,Western', 'Documentary,Music,Mystery', 'Biography,Family,Sport', 'Action,Romance,Thriller', 'Adventure,Drama,War', 'Crime,Mystery,Sci-Fi', 'Crime,Documentary,War', 'Family,War', 'Animation,Drama,Thriller', 'History,Reality-TV,War', 'Crime,Drama,Musical', 'Animation,Fantasy,Music', 'Animation,Crime,Mystery', 'Animation,Family', 'Comedy,Family', 'Action,Adventure,History', 'Biography,Drama,Sport', 'Documentary,Music', 'Comedy,Documentary,Sport', 'Action,Documentary,Music', 'Musical,Romance,Sport', 'Comedy,Horror,Sport', 'Action,Horror,Sci-Fi', 'Drama,Music,War', 'Action,Mystery,Romance', 'Animation,Comedy,Fantasy', 'Biography,Comedy,Music', 'Comedy,Fantasy,Thriller', 'Comedy,Family,Thriller', 'Documentary,Romance,Sport', 'Adventure,Documentary,Horror', 'Animation,Romance,Sci-Fi', 'Drama,Sport', 'Drama,Musical,Romance', 'Action,Animation,Documentary', 'Documentary,Romance'}\n"
     ]
    }
   ],
   "source": [
    "element_count = 0\n",
    "set_b = set(b)\n",
    "\n",
    "for element in set_b:\n",
    "    if \"Action\" in element:\n",
    "        element_count += 1\n",
    "\n",
    "print(element_count, \"unique elements contain 'Action', out of\", len(set_b))\n",
    "print(set_b)\n",
    "# b[0:][:10]"
   ]
  },
  {
   "cell_type": "markdown",
   "metadata": {},
   "source": [
    "#### Let's move on."
   ]
  },
  {
   "cell_type": "markdown",
   "metadata": {},
   "source": [
    "***"
   ]
  },
  {
   "cell_type": "markdown",
   "metadata": {},
   "source": [
    "<h2 align='center'><font color='chocolate'>Top Net</font></h2>"
   ]
  },
  {
   "cell_type": "markdown",
   "metadata": {},
   "source": [
    "<h3>Question(s)</h3>\n",
    "\n",
    "* First"
   ]
  },
  {
   "cell_type": "markdown",
   "metadata": {},
   "source": [
    "<h3 align='center'><font color='coral'>by title</font></h3>"
   ]
  },
  {
   "cell_type": "markdown",
   "metadata": {},
   "source": [
    "<h3 align='center'><font color='coral'>by studio</font></h3>"
   ]
  },
  {
   "cell_type": "markdown",
   "metadata": {},
   "source": [
    "<h3 align='center'><font color='coral'>by genre</font></h3>"
   ]
  },
  {
   "cell_type": "markdown",
   "metadata": {},
   "source": [
    "***"
   ]
  },
  {
   "cell_type": "code",
   "execution_count": null,
   "metadata": {},
   "outputs": [],
   "source": []
  },
  {
   "cell_type": "markdown",
   "metadata": {},
   "source": [
    "***"
   ]
  },
  {
   "cell_type": "markdown",
   "metadata": {},
   "source": [
    "<h2 align='center'><font color='chocolate'>Correlation</font></h2>"
   ]
  },
  {
   "cell_type": "markdown",
   "metadata": {},
   "source": [
    "<h3>Question(s)</h3>\n",
    "\n",
    "* First"
   ]
  },
  {
   "cell_type": "markdown",
   "metadata": {},
   "source": [
    "<h3 align='center'><font color='coral'>gross, net</font></h3>"
   ]
  },
  {
   "cell_type": "markdown",
   "metadata": {},
   "source": [
    "<h3 align='center'><font color='coral'>genre, gross</font></h3>"
   ]
  },
  {
   "cell_type": "markdown",
   "metadata": {},
   "source": [
    "<h3 align='center'><font color='coral'>genre, net [only if gross, net not correlated</font></h3>"
   ]
  },
  {
   "cell_type": "markdown",
   "metadata": {},
   "source": [
    "***"
   ]
  },
  {
   "cell_type": "markdown",
   "metadata": {},
   "source": [
    "<h2 align='center'><font color='chocolate'>Top Studios</font></h2>"
   ]
  },
  {
   "cell_type": "markdown",
   "metadata": {},
   "source": [
    "<h3>Question(s)</h3>\n",
    "\n",
    "* First"
   ]
  },
  {
   "cell_type": "markdown",
   "metadata": {},
   "source": [
    "<h3 align='center'><font color='coral'>gross genre mix</font></h3>"
   ]
  },
  {
   "cell_type": "markdown",
   "metadata": {},
   "source": [
    "<h3 align='center'><font color='coral'>net genre mix</font></h3>"
   ]
  },
  {
   "cell_type": "markdown",
   "metadata": {},
   "source": [
    "***"
   ]
  },
  {
   "cell_type": "markdown",
   "metadata": {},
   "source": [
    "<h2 align='center'><font color='chocolate'>Final Recommendations</font></h2>"
   ]
  },
  {
   "cell_type": "code",
   "execution_count": 46,
   "metadata": {},
   "outputs": [],
   "source": [
    "# looking at ...\n",
    "# plt.figure(figsize=(8, 5))\n",
    "# sns.violinplot(x='year', y='Total_gross', data=bom_2016_18_df)"
   ]
  }
 ],
 "metadata": {
  "kernelspec": {
   "display_name": "Python [conda env:learn-env] *",
   "language": "python",
   "name": "conda-env-learn-env-py"
  },
  "language_info": {
   "codemirror_mode": {
    "name": "ipython",
    "version": 3
   },
   "file_extension": ".py",
   "mimetype": "text/x-python",
   "name": "python",
   "nbconvert_exporter": "python",
   "pygments_lexer": "ipython3",
   "version": "3.6.9"
  }
 },
 "nbformat": 4,
 "nbformat_minor": 2
}
