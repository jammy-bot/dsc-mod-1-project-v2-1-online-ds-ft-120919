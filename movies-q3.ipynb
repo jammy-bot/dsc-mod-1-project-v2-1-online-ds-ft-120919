{
 "cells": [
  {
   "cell_type": "markdown",
   "metadata": {},
   "source": [
    "##### movies-q3 notebook\n",
    "***"
   ]
  },
  {
   "cell_type": "markdown",
   "metadata": {},
   "source": [
    "<h1>Question 3 - What genres have been the most lucrative?</h1>"
   ]
  },
  {
   "cell_type": "markdown",
   "metadata": {},
   "source": [
    "    1. What genres appear most frequently?\n",
    "    2. Which earned the most in 2018? ...2016-18?\n",
    "    3. What mix of genres do top studios use?"
   ]
  },
  {
   "cell_type": "markdown",
   "metadata": {},
   "source": [
    "### importing required libraries"
   ]
  },
  {
   "cell_type": "code",
   "execution_count": 1,
   "metadata": {},
   "outputs": [],
   "source": [
    "import os # for setting the current directory\n",
    "\n",
    "import numpy as np\n",
    "import pandas as pd\n",
    "\n",
    "import sqlite3\n",
    "import pandasql\n",
    "\n",
    "import matplotlib.pyplot as plt\n",
    "%matplotlib inline\n"
   ]
  },
  {
   "cell_type": "code",
   "execution_count": 2,
   "metadata": {},
   "outputs": [
    {
     "name": "stdout",
     "output_type": "stream",
     "text": [
      "c:\\users\\jd\\flatiron\\project01\\dsc-mod-1-project-v2-1-online-ds-ft-120919\n"
     ]
    }
   ],
   "source": [
    "# setting the current working directory\n",
    "os.chdir(\"c:/users/jd/flatiron/project01/dsc-mod-1-project-v2-1-online-ds-ft-120919/\")\n",
    "\n",
    "# printing the current working directory\n",
    "print(os.getcwd())"
   ]
  },
  {
   "cell_type": "markdown",
   "metadata": {},
   "source": [
    "### Connecting to sqlite database"
   ]
  },
  {
   "cell_type": "code",
   "execution_count": 3,
   "metadata": {},
   "outputs": [],
   "source": [
    "# connecting to sql movies_db data source and instantiate a cursor\n",
    "conn = sqlite3.connect(\"movies_db.sqlite\")\n",
    "cur = conn.cursor()"
   ]
  },
  {
   "cell_type": "markdown",
   "metadata": {},
   "source": [
    "### listing the sqlite table names"
   ]
  },
  {
   "cell_type": "code",
   "execution_count": 4,
   "metadata": {
    "scrolled": true
   },
   "outputs": [
    {
     "data": {
      "text/plain": [
       "['clean_bom_tbl', 'clean_tn_tbl', 'studio_titles_tbl', 'clean_imdb_title_tbl']"
      ]
     },
     "execution_count": 4,
     "metadata": {},
     "output_type": "execute_result"
    }
   ],
   "source": [
    "# getting names of all tables in the sql database\n",
    "sql_tables = conn.execute(\"select name from sqlite_master where type='table';\")\n",
    "\n",
    "# assigning table names to a variable as a list for future iteration\n",
    "table_list = list(map(lambda x: x[0], sql_tables.fetchall()))\n",
    "table_list"
   ]
  },
  {
   "cell_type": "markdown",
   "metadata": {},
   "source": [
    "***"
   ]
  },
  {
   "cell_type": "markdown",
   "metadata": {},
   "source": [
    "<h2 align='center'><font color='chocolate'>Genres</font></h2>"
   ]
  },
  {
   "cell_type": "markdown",
   "metadata": {},
   "source": [
    "We can find titles with their genres in the `clean_imdb_title_tbl`.\n",
    "\n",
    "### Querying sqlite3 to view `clean_imdb_title_tbl`"
   ]
  },
  {
   "cell_type": "code",
   "execution_count": 5,
   "metadata": {},
   "outputs": [
    {
     "name": "stdout",
     "output_type": "stream",
     "text": [
      "(49462, 34)\n"
     ]
    },
    {
     "data": {
      "text/html": [
       "<div>\n",
       "<style scoped>\n",
       "    .dataframe tbody tr th:only-of-type {\n",
       "        vertical-align: middle;\n",
       "    }\n",
       "\n",
       "    .dataframe tbody tr th {\n",
       "        vertical-align: top;\n",
       "    }\n",
       "\n",
       "    .dataframe thead th {\n",
       "        text-align: right;\n",
       "    }\n",
       "</style>\n",
       "<table border=\"1\" class=\"dataframe\">\n",
       "  <thead>\n",
       "    <tr style=\"text-align: right;\">\n",
       "      <th></th>\n",
       "      <th>tconst</th>\n",
       "      <th>index</th>\n",
       "      <th>primary_title</th>\n",
       "      <th>original_title</th>\n",
       "      <th>start_year</th>\n",
       "      <th>runtime_minutes</th>\n",
       "      <th>genres</th>\n",
       "      <th>sport</th>\n",
       "      <th>adventure</th>\n",
       "      <th>history</th>\n",
       "      <th>...</th>\n",
       "      <th>war</th>\n",
       "      <th>biography</th>\n",
       "      <th>action</th>\n",
       "      <th>crime</th>\n",
       "      <th>game-show</th>\n",
       "      <th>music</th>\n",
       "      <th>family</th>\n",
       "      <th>news</th>\n",
       "      <th>sci-fi</th>\n",
       "      <th>mystery</th>\n",
       "    </tr>\n",
       "  </thead>\n",
       "  <tbody>\n",
       "    <tr>\n",
       "      <td>0</td>\n",
       "      <td>tt0069049</td>\n",
       "      <td>2</td>\n",
       "      <td>The Other Side of the Wind</td>\n",
       "      <td>The Other Side of the Wind</td>\n",
       "      <td>2018</td>\n",
       "      <td>122.0</td>\n",
       "      <td>Drama</td>\n",
       "      <td>0</td>\n",
       "      <td>0</td>\n",
       "      <td>0</td>\n",
       "      <td>...</td>\n",
       "      <td>0</td>\n",
       "      <td>0</td>\n",
       "      <td>0</td>\n",
       "      <td>0</td>\n",
       "      <td>0</td>\n",
       "      <td>0</td>\n",
       "      <td>0</td>\n",
       "      <td>0</td>\n",
       "      <td>0</td>\n",
       "      <td>0</td>\n",
       "    </tr>\n",
       "    <tr>\n",
       "      <td>1</td>\n",
       "      <td>tt0069204</td>\n",
       "      <td>3</td>\n",
       "      <td>Sabse Bada Sukh</td>\n",
       "      <td>Sabse Bada Sukh</td>\n",
       "      <td>2018</td>\n",
       "      <td>NaN</td>\n",
       "      <td>Comedy,Drama</td>\n",
       "      <td>0</td>\n",
       "      <td>0</td>\n",
       "      <td>0</td>\n",
       "      <td>...</td>\n",
       "      <td>0</td>\n",
       "      <td>0</td>\n",
       "      <td>0</td>\n",
       "      <td>0</td>\n",
       "      <td>0</td>\n",
       "      <td>0</td>\n",
       "      <td>0</td>\n",
       "      <td>0</td>\n",
       "      <td>0</td>\n",
       "      <td>0</td>\n",
       "    </tr>\n",
       "    <tr>\n",
       "      <td>2</td>\n",
       "      <td>tt0100275</td>\n",
       "      <td>4</td>\n",
       "      <td>The Wandering Soap Opera</td>\n",
       "      <td>La Telenovela Errante</td>\n",
       "      <td>2017</td>\n",
       "      <td>80.0</td>\n",
       "      <td>Comedy,Drama,Fantasy</td>\n",
       "      <td>0</td>\n",
       "      <td>0</td>\n",
       "      <td>0</td>\n",
       "      <td>...</td>\n",
       "      <td>0</td>\n",
       "      <td>0</td>\n",
       "      <td>0</td>\n",
       "      <td>0</td>\n",
       "      <td>0</td>\n",
       "      <td>0</td>\n",
       "      <td>0</td>\n",
       "      <td>0</td>\n",
       "      <td>0</td>\n",
       "      <td>0</td>\n",
       "    </tr>\n",
       "  </tbody>\n",
       "</table>\n",
       "<p>3 rows × 34 columns</p>\n",
       "</div>"
      ],
      "text/plain": [
       "      tconst  index               primary_title              original_title  \\\n",
       "0  tt0069049      2  The Other Side of the Wind  The Other Side of the Wind   \n",
       "1  tt0069204      3             Sabse Bada Sukh             Sabse Bada Sukh   \n",
       "2  tt0100275      4    The Wandering Soap Opera       La Telenovela Errante   \n",
       "\n",
       "   start_year  runtime_minutes                genres  sport  adventure  \\\n",
       "0        2018            122.0                 Drama      0          0   \n",
       "1        2018              NaN          Comedy,Drama      0          0   \n",
       "2        2017             80.0  Comedy,Drama,Fantasy      0          0   \n",
       "\n",
       "   history  ...  war  biography  action  crime  game-show  music  family  \\\n",
       "0        0  ...    0          0       0      0          0      0       0   \n",
       "1        0  ...    0          0       0      0          0      0       0   \n",
       "2        0  ...    0          0       0      0          0      0       0   \n",
       "\n",
       "   news  sci-fi  mystery  \n",
       "0     0       0        0  \n",
       "1     0       0        0  \n",
       "2     0       0        0  \n",
       "\n",
       "[3 rows x 34 columns]"
      ]
     },
     "execution_count": 5,
     "metadata": {},
     "output_type": "execute_result"
    }
   ],
   "source": [
    "# connecting to the required table as a temporary table\n",
    "# using temporary table to inspect data\n",
    "cur.execute('''SELECT *\n",
    "                    FROM clean_imdb_title_tbl\n",
    "                    WHERE start_year BETWEEN 2016 AND 2018\n",
    "                    ;''')\n",
    "\n",
    "data_df = pd.DataFrame(cur.fetchall())\n",
    "data_df.columns = [x[0] for x in cur.description]\n",
    "\n",
    "print(data_df.shape)\n",
    "data_df.head(3)"
   ]
  },
  {
   "cell_type": "markdown",
   "metadata": {},
   "source": [
    "### Dropping columns and rows"
   ]
  },
  {
   "cell_type": "code",
   "execution_count": 6,
   "metadata": {},
   "outputs": [
    {
     "name": "stdout",
     "output_type": "stream",
     "text": [
      "Starting count of empty 'genres': 0\n",
      "Ending count of empty 'genres': 0\n"
     ]
    }
   ],
   "source": [
    "# deleting all rows where column `genres` has value 'None' \n",
    "print(\"Starting count of empty 'genres':\", data_df.genres.isnull().sum())\n",
    "data_df = data_df[data_df['genres'].notnull()]\n",
    "print(\"Ending count of empty 'genres':\", data_df.genres.isnull().sum())"
   ]
  },
  {
   "cell_type": "code",
   "execution_count": 7,
   "metadata": {},
   "outputs": [],
   "source": [
    "# removing unnecessary columns\n",
    "data_df.drop(columns = ['index', 'original_title', 'runtime_minutes'])\n",
    "\n",
    "# setting the index\n",
    "data_df.set_index(\"tconst\", inplace=True)"
   ]
  },
  {
   "cell_type": "code",
   "execution_count": 8,
   "metadata": {},
   "outputs": [
    {
     "name": "stdout",
     "output_type": "stream",
     "text": [
      "(49462, 33)\n"
     ]
    },
    {
     "data": {
      "text/html": [
       "<div>\n",
       "<style scoped>\n",
       "    .dataframe tbody tr th:only-of-type {\n",
       "        vertical-align: middle;\n",
       "    }\n",
       "\n",
       "    .dataframe tbody tr th {\n",
       "        vertical-align: top;\n",
       "    }\n",
       "\n",
       "    .dataframe thead th {\n",
       "        text-align: right;\n",
       "    }\n",
       "</style>\n",
       "<table border=\"1\" class=\"dataframe\">\n",
       "  <thead>\n",
       "    <tr style=\"text-align: right;\">\n",
       "      <th></th>\n",
       "      <th>index</th>\n",
       "      <th>primary_title</th>\n",
       "      <th>original_title</th>\n",
       "      <th>start_year</th>\n",
       "      <th>runtime_minutes</th>\n",
       "      <th>genres</th>\n",
       "      <th>sport</th>\n",
       "      <th>adventure</th>\n",
       "      <th>history</th>\n",
       "      <th>romance</th>\n",
       "      <th>...</th>\n",
       "      <th>war</th>\n",
       "      <th>biography</th>\n",
       "      <th>action</th>\n",
       "      <th>crime</th>\n",
       "      <th>game-show</th>\n",
       "      <th>music</th>\n",
       "      <th>family</th>\n",
       "      <th>news</th>\n",
       "      <th>sci-fi</th>\n",
       "      <th>mystery</th>\n",
       "    </tr>\n",
       "    <tr>\n",
       "      <th>tconst</th>\n",
       "      <th></th>\n",
       "      <th></th>\n",
       "      <th></th>\n",
       "      <th></th>\n",
       "      <th></th>\n",
       "      <th></th>\n",
       "      <th></th>\n",
       "      <th></th>\n",
       "      <th></th>\n",
       "      <th></th>\n",
       "      <th></th>\n",
       "      <th></th>\n",
       "      <th></th>\n",
       "      <th></th>\n",
       "      <th></th>\n",
       "      <th></th>\n",
       "      <th></th>\n",
       "      <th></th>\n",
       "      <th></th>\n",
       "      <th></th>\n",
       "      <th></th>\n",
       "    </tr>\n",
       "  </thead>\n",
       "  <tbody>\n",
       "  </tbody>\n",
       "</table>\n",
       "<p>0 rows × 33 columns</p>\n",
       "</div>"
      ],
      "text/plain": [
       "Empty DataFrame\n",
       "Columns: [index, primary_title, original_title, start_year, runtime_minutes, genres, sport, adventure, history, romance, talk-show, fantasy, drama, documentary, musical, horror, short, animation, thriller, comedy, adult, western, reality-tv, war, biography, action, crime, game-show, music, family, news, sci-fi, mystery]\n",
       "Index: []\n",
       "\n",
       "[0 rows x 33 columns]"
      ]
     },
     "execution_count": 8,
     "metadata": {},
     "output_type": "execute_result"
    }
   ],
   "source": [
    "# copying to our separate, working dataframe\n",
    "clean_imdb_title_df = data_df.copy(deep=True)\n",
    "\n",
    "print(clean_imdb_title_df.shape)\n",
    "\n",
    "# verifying removal of rows with no genres\n",
    "clean_imdb_title_df[clean_imdb_title_df['genres'].isnull() == True]"
   ]
  },
  {
   "cell_type": "markdown",
   "metadata": {},
   "source": [
    "No rows without genres remain."
   ]
  },
  {
   "cell_type": "code",
   "execution_count": 9,
   "metadata": {},
   "outputs": [],
   "source": [
    "# updated df changes to the sqlite database table\n",
    "clean_imdb_title_df.to_sql('clean_imdb_title_tbl', conn, if_exists='replace')"
   ]
  },
  {
   "cell_type": "markdown",
   "metadata": {},
   "source": [
    "<h2 align='center'><font color='coral'>Counting Genres</font></h2>"
   ]
  },
  {
   "cell_type": "markdown",
   "metadata": {},
   "source": [
    "### Counting the occurrences of any individual genre"
   ]
  },
  {
   "cell_type": "code",
   "execution_count": 10,
   "metadata": {},
   "outputs": [],
   "source": [
    "# shortening the dataframe name\n",
    "df0 = clean_imdb_title_df"
   ]
  },
  {
   "cell_type": "code",
   "execution_count": 11,
   "metadata": {},
   "outputs": [
    {
     "data": {
      "text/plain": [
       "16834"
      ]
     },
     "execution_count": 11,
     "metadata": {},
     "output_type": "execute_result"
    }
   ],
   "source": [
    "# counting the number of True boolean markers (1s) indicated in the `drama` column/ series\n",
    "len(df0[df0['drama'] == 1])"
   ]
  },
  {
   "cell_type": "code",
   "execution_count": 12,
   "metadata": {},
   "outputs": [
    {
     "data": {
      "text/plain": [
       "0    32628\n",
       "1    16834\n",
       "Name: drama, dtype: int64"
      ]
     },
     "execution_count": 12,
     "metadata": {},
     "output_type": "execute_result"
    }
   ],
   "source": [
    "# verify our count of the value 1s in the `drama` column\n",
    "df0['drama'].value_counts()"
   ]
  },
  {
   "cell_type": "code",
   "execution_count": 13,
   "metadata": {},
   "outputs": [
    {
     "data": {
      "text/plain": [
       "[('sport', 709),\n",
       " ('adventure', 1995),\n",
       " ('history', 1523),\n",
       " ('romance', 3032),\n",
       " ('talk-show', 17),\n",
       " ('fantasy', 1278),\n",
       " ('drama', 16834),\n",
       " ('documentary', 17501),\n",
       " ('musical', 492),\n",
       " ('horror', 3964),\n",
       " ('short', 9),\n",
       " ('animation', 975),\n",
       " ('thriller', 4252),\n",
       " ('comedy', 8478),\n",
       " ('adult', 18),\n",
       " ('western', 153),\n",
       " ('reality-tv', 45),\n",
       " ('war', 468),\n",
       " ('biography', 2154),\n",
       " ('action', 3592),\n",
       " ('crime', 2366),\n",
       " ('game-show', 2),\n",
       " ('music', 1620),\n",
       " ('family', 1738),\n",
       " ('news', 125),\n",
       " ('sci-fi', 1192),\n",
       " ('mystery', 1665)]"
      ]
     },
     "execution_count": 13,
     "metadata": {},
     "output_type": "execute_result"
    }
   ],
   "source": [
    "# making a list of all genre column names\n",
    "genre_names = [col for col in df0.columns[6:]]\n",
    "\n",
    "# an equal - length list of all genre counts for value 1\n",
    "genre_counts = [len(df0[df0[g] == 1]) for g in genre_names]\n",
    "\n",
    "# bringing the two lists together as tuples\n",
    "genre_tuples_list = list(zip(genre_names, genre_counts))\n",
    "\n",
    "# viewing the list of tuples\n",
    "genre_tuples_list"
   ]
  },
  {
   "cell_type": "markdown",
   "metadata": {},
   "source": [
    "#### Converting the list to a dataframe and visualizing"
   ]
  },
  {
   "cell_type": "code",
   "execution_count": 14,
   "metadata": {},
   "outputs": [
    {
     "data": {
      "image/png": "[encoded data removed]",
      "text/plain": [
       "<Figure size 936x576 with 1 Axes>"
      ]
     },
     "metadata": {
      "needs_background": "light"
     },
     "output_type": "display_data"
    }
   ],
   "source": [
    "\n",
    "genre_counts_df = pd.DataFrame(genre_tuples_list, columns = ['genre_names' , 'genre_counts'])\n",
    "gcdf = genre_counts_df\n",
    "\n",
    "# defining axes\n",
    "x = gcdf.genre_names\n",
    "y = gcdf.genre_counts\n",
    "\n",
    "# creating the figure\n",
    "plt.figure(figsize=(13, 8))\n",
    "width = 0.55       # the width of the bars\n",
    "plt.grid(b=True, which='minor', color='#888888', linestyle='-.')\n",
    "plt.barh(x, y, -width, color='goldenrod', align='center', alpha=.65,  label = '2016-18')\n",
    "plt.ylim(plt.ylim()[::-1])\n",
    "\n",
    "# defining labels\n",
    "plt.ylabel('Genres', fontsize=15)\n",
    "plt.yticks(fontsize=13, rotation=9)\n",
    "plt.xlabel('Count of Genres', fontsize=15)\n",
    "plt.title(f'Genre Count for All Titles, 2016-18', fontsize=15)\n",
    "\n",
    "plt.legend()\n",
    "plt.show()\n"
   ]
  },
  {
   "cell_type": "markdown",
   "metadata": {},
   "source": [
    "From this vizualization, it looks like a runaway for documentaries. Of course, we want to look at earnings for these genres.\n",
    "\n",
    "We already have a table for title, studio, and total gross, for movies released between 2016-18."
   ]
  },
  {
   "cell_type": "markdown",
   "metadata": {},
   "source": [
    "### Import and Join"
   ]
  },
  {
   "cell_type": "code",
   "execution_count": 15,
   "metadata": {},
   "outputs": [
    {
     "data": {
      "text/plain": [
       "(806, 38)"
      ]
     },
     "metadata": {},
     "output_type": "display_data"
    },
    {
     "data": {
      "text/html": [
       "<div>\n",
       "<style scoped>\n",
       "    .dataframe tbody tr th:only-of-type {\n",
       "        vertical-align: middle;\n",
       "    }\n",
       "\n",
       "    .dataframe tbody tr th {\n",
       "        vertical-align: top;\n",
       "    }\n",
       "\n",
       "    .dataframe thead th {\n",
       "        text-align: right;\n",
       "    }\n",
       "</style>\n",
       "<table border=\"1\" class=\"dataframe\">\n",
       "  <thead>\n",
       "    <tr style=\"text-align: right;\">\n",
       "      <th></th>\n",
       "      <th>index</th>\n",
       "      <th>studio</th>\n",
       "      <th>title</th>\n",
       "      <th>Total_gross</th>\n",
       "      <th>tconst</th>\n",
       "      <th>index</th>\n",
       "      <th>primary_title</th>\n",
       "      <th>original_title</th>\n",
       "      <th>start_year</th>\n",
       "      <th>runtime_minutes</th>\n",
       "      <th>...</th>\n",
       "      <th>war</th>\n",
       "      <th>biography</th>\n",
       "      <th>action</th>\n",
       "      <th>crime</th>\n",
       "      <th>game-show</th>\n",
       "      <th>music</th>\n",
       "      <th>family</th>\n",
       "      <th>news</th>\n",
       "      <th>sci-fi</th>\n",
       "      <th>mystery</th>\n",
       "    </tr>\n",
       "  </thead>\n",
       "  <tbody>\n",
       "    <tr>\n",
       "      <td>0</td>\n",
       "      <td>0</td>\n",
       "      <td>bv</td>\n",
       "      <td>Black Panther</td>\n",
       "      <td>1.347000e+09</td>\n",
       "      <td>tt1825683</td>\n",
       "      <td>19050</td>\n",
       "      <td>Black Panther</td>\n",
       "      <td>Black Panther</td>\n",
       "      <td>2018</td>\n",
       "      <td>134.0</td>\n",
       "      <td>...</td>\n",
       "      <td>0</td>\n",
       "      <td>0</td>\n",
       "      <td>1</td>\n",
       "      <td>0</td>\n",
       "      <td>0</td>\n",
       "      <td>0</td>\n",
       "      <td>0</td>\n",
       "      <td>0</td>\n",
       "      <td>1</td>\n",
       "      <td>0</td>\n",
       "    </tr>\n",
       "    <tr>\n",
       "      <td>1</td>\n",
       "      <td>1</td>\n",
       "      <td>bv</td>\n",
       "      <td>Star Wars: The Last Jedi</td>\n",
       "      <td>1.332600e+09</td>\n",
       "      <td>tt2527336</td>\n",
       "      <td>42223</td>\n",
       "      <td>Star Wars: The Last Jedi</td>\n",
       "      <td>Star Wars: Episode VIII - The Last Jedi</td>\n",
       "      <td>2017</td>\n",
       "      <td>152.0</td>\n",
       "      <td>...</td>\n",
       "      <td>0</td>\n",
       "      <td>0</td>\n",
       "      <td>1</td>\n",
       "      <td>0</td>\n",
       "      <td>0</td>\n",
       "      <td>0</td>\n",
       "      <td>0</td>\n",
       "      <td>0</td>\n",
       "      <td>0</td>\n",
       "      <td>0</td>\n",
       "    </tr>\n",
       "    <tr>\n",
       "      <td>2</td>\n",
       "      <td>2</td>\n",
       "      <td>uni</td>\n",
       "      <td>Jurassic World: Fallen Kingdom</td>\n",
       "      <td>1.309500e+09</td>\n",
       "      <td>tt4881806</td>\n",
       "      <td>84414</td>\n",
       "      <td>Jurassic World: Fallen Kingdom</td>\n",
       "      <td>Jurassic World: Fallen Kingdom</td>\n",
       "      <td>2018</td>\n",
       "      <td>128.0</td>\n",
       "      <td>...</td>\n",
       "      <td>0</td>\n",
       "      <td>0</td>\n",
       "      <td>1</td>\n",
       "      <td>0</td>\n",
       "      <td>0</td>\n",
       "      <td>0</td>\n",
       "      <td>0</td>\n",
       "      <td>0</td>\n",
       "      <td>1</td>\n",
       "      <td>0</td>\n",
       "    </tr>\n",
       "    <tr>\n",
       "      <td>3</td>\n",
       "      <td>4</td>\n",
       "      <td>bv</td>\n",
       "      <td>Incredibles 2</td>\n",
       "      <td>1.242800e+09</td>\n",
       "      <td>tt3606756</td>\n",
       "      <td>62741</td>\n",
       "      <td>Incredibles 2</td>\n",
       "      <td>Incredibles 2</td>\n",
       "      <td>2018</td>\n",
       "      <td>118.0</td>\n",
       "      <td>...</td>\n",
       "      <td>0</td>\n",
       "      <td>0</td>\n",
       "      <td>1</td>\n",
       "      <td>0</td>\n",
       "      <td>0</td>\n",
       "      <td>0</td>\n",
       "      <td>0</td>\n",
       "      <td>0</td>\n",
       "      <td>0</td>\n",
       "      <td>0</td>\n",
       "    </tr>\n",
       "    <tr>\n",
       "      <td>4</td>\n",
       "      <td>5</td>\n",
       "      <td>bv</td>\n",
       "      <td>Captain America: Civil War</td>\n",
       "      <td>1.153300e+09</td>\n",
       "      <td>tt3498820</td>\n",
       "      <td>60379</td>\n",
       "      <td>Captain America: Civil War</td>\n",
       "      <td>Captain America: Civil War</td>\n",
       "      <td>2016</td>\n",
       "      <td>147.0</td>\n",
       "      <td>...</td>\n",
       "      <td>0</td>\n",
       "      <td>0</td>\n",
       "      <td>1</td>\n",
       "      <td>0</td>\n",
       "      <td>0</td>\n",
       "      <td>0</td>\n",
       "      <td>0</td>\n",
       "      <td>0</td>\n",
       "      <td>1</td>\n",
       "      <td>0</td>\n",
       "    </tr>\n",
       "  </tbody>\n",
       "</table>\n",
       "<p>5 rows × 38 columns</p>\n",
       "</div>"
      ],
      "text/plain": [
       "   index studio                           title   Total_gross     tconst  \\\n",
       "0      0     bv                   Black Panther  1.347000e+09  tt1825683   \n",
       "1      1     bv        Star Wars: The Last Jedi  1.332600e+09  tt2527336   \n",
       "2      2    uni  Jurassic World: Fallen Kingdom  1.309500e+09  tt4881806   \n",
       "3      4     bv                   Incredibles 2  1.242800e+09  tt3606756   \n",
       "4      5     bv      Captain America: Civil War  1.153300e+09  tt3498820   \n",
       "\n",
       "   index                   primary_title  \\\n",
       "0  19050                   Black Panther   \n",
       "1  42223        Star Wars: The Last Jedi   \n",
       "2  84414  Jurassic World: Fallen Kingdom   \n",
       "3  62741                   Incredibles 2   \n",
       "4  60379      Captain America: Civil War   \n",
       "\n",
       "                            original_title  start_year  runtime_minutes  ...  \\\n",
       "0                            Black Panther        2018            134.0  ...   \n",
       "1  Star Wars: Episode VIII - The Last Jedi        2017            152.0  ...   \n",
       "2           Jurassic World: Fallen Kingdom        2018            128.0  ...   \n",
       "3                            Incredibles 2        2018            118.0  ...   \n",
       "4               Captain America: Civil War        2016            147.0  ...   \n",
       "\n",
       "  war  biography  action  crime  game-show  music  family  news  sci-fi  \\\n",
       "0   0          0       1      0          0      0       0     0       1   \n",
       "1   0          0       1      0          0      0       0     0       0   \n",
       "2   0          0       1      0          0      0       0     0       1   \n",
       "3   0          0       1      0          0      0       0     0       0   \n",
       "4   0          0       1      0          0      0       0     0       1   \n",
       "\n",
       "   mystery  \n",
       "0        0  \n",
       "1        0  \n",
       "2        0  \n",
       "3        0  \n",
       "4        0  \n",
       "\n",
       "[5 rows x 38 columns]"
      ]
     },
     "execution_count": 15,
     "metadata": {},
     "output_type": "execute_result"
    }
   ],
   "source": [
    "# connecting to the required table\n",
    "cur.execute('''SELECT *\n",
    "                    FROM studio_titles_tbl s\n",
    "                    JOIN clean_imdb_title_tbl c\n",
    "                    ON s.title = c.primary_title\n",
    "                    ;''')\n",
    "\n",
    "joined_studio_genres_df = pd.DataFrame(cur.fetchall())\n",
    "joined_studio_genres_df.columns = [x[0] for x in cur.description]\n",
    "display(joined_studio_genres_df.shape)\n",
    "joined_studio_genres_df.head()"
   ]
  },
  {
   "cell_type": "markdown",
   "metadata": {},
   "source": [
    "Limiting films by those with stated genres took 258 rows off of the `studio_titles` table. Limiting titles to those from our 6 top studios removed almost 32000 rows."
   ]
  },
  {
   "cell_type": "code",
   "execution_count": 16,
   "metadata": {},
   "outputs": [
    {
     "data": {
      "text/plain": [
       "(806, 32)"
      ]
     },
     "metadata": {},
     "output_type": "display_data"
    },
    {
     "data": {
      "text/html": [
       "<div>\n",
       "<style scoped>\n",
       "    .dataframe tbody tr th:only-of-type {\n",
       "        vertical-align: middle;\n",
       "    }\n",
       "\n",
       "    .dataframe tbody tr th {\n",
       "        vertical-align: top;\n",
       "    }\n",
       "\n",
       "    .dataframe thead th {\n",
       "        text-align: right;\n",
       "    }\n",
       "</style>\n",
       "<table border=\"1\" class=\"dataframe\">\n",
       "  <thead>\n",
       "    <tr style=\"text-align: right;\">\n",
       "      <th></th>\n",
       "      <th>studio</th>\n",
       "      <th>Total_gross</th>\n",
       "      <th>primary_title</th>\n",
       "      <th>start_year</th>\n",
       "      <th>genres</th>\n",
       "      <th>sport</th>\n",
       "      <th>adventure</th>\n",
       "      <th>history</th>\n",
       "      <th>romance</th>\n",
       "      <th>talk-show</th>\n",
       "      <th>fantasy</th>\n",
       "      <th>drama</th>\n",
       "      <th>documentary</th>\n",
       "      <th>musical</th>\n",
       "      <th>horror</th>\n",
       "      <th>short</th>\n",
       "      <th>animation</th>\n",
       "      <th>thriller</th>\n",
       "      <th>comedy</th>\n",
       "      <th>adult</th>\n",
       "      <th>western</th>\n",
       "      <th>reality-tv</th>\n",
       "      <th>war</th>\n",
       "      <th>biography</th>\n",
       "      <th>action</th>\n",
       "      <th>crime</th>\n",
       "      <th>game-show</th>\n",
       "      <th>music</th>\n",
       "      <th>family</th>\n",
       "      <th>news</th>\n",
       "      <th>sci-fi</th>\n",
       "      <th>mystery</th>\n",
       "    </tr>\n",
       "    <tr>\n",
       "      <th>title</th>\n",
       "      <th></th>\n",
       "      <th></th>\n",
       "      <th></th>\n",
       "      <th></th>\n",
       "      <th></th>\n",
       "      <th></th>\n",
       "      <th></th>\n",
       "      <th></th>\n",
       "      <th></th>\n",
       "      <th></th>\n",
       "      <th></th>\n",
       "      <th></th>\n",
       "      <th></th>\n",
       "      <th></th>\n",
       "      <th></th>\n",
       "      <th></th>\n",
       "      <th></th>\n",
       "      <th></th>\n",
       "      <th></th>\n",
       "      <th></th>\n",
       "      <th></th>\n",
       "      <th></th>\n",
       "      <th></th>\n",
       "      <th></th>\n",
       "      <th></th>\n",
       "      <th></th>\n",
       "      <th></th>\n",
       "      <th></th>\n",
       "      <th></th>\n",
       "      <th></th>\n",
       "      <th></th>\n",
       "      <th></th>\n",
       "    </tr>\n",
       "  </thead>\n",
       "  <tbody>\n",
       "    <tr>\n",
       "      <td>Black Panther</td>\n",
       "      <td>bv</td>\n",
       "      <td>1.347000e+09</td>\n",
       "      <td>Black Panther</td>\n",
       "      <td>2018</td>\n",
       "      <td>Action,Adventure,Sci-Fi</td>\n",
       "      <td>0</td>\n",
       "      <td>1</td>\n",
       "      <td>0</td>\n",
       "      <td>0</td>\n",
       "      <td>0</td>\n",
       "      <td>0</td>\n",
       "      <td>0</td>\n",
       "      <td>0</td>\n",
       "      <td>0</td>\n",
       "      <td>0</td>\n",
       "      <td>0</td>\n",
       "      <td>0</td>\n",
       "      <td>0</td>\n",
       "      <td>0</td>\n",
       "      <td>0</td>\n",
       "      <td>0</td>\n",
       "      <td>0</td>\n",
       "      <td>0</td>\n",
       "      <td>0</td>\n",
       "      <td>1</td>\n",
       "      <td>0</td>\n",
       "      <td>0</td>\n",
       "      <td>0</td>\n",
       "      <td>0</td>\n",
       "      <td>0</td>\n",
       "      <td>1</td>\n",
       "      <td>0</td>\n",
       "    </tr>\n",
       "    <tr>\n",
       "      <td>Star Wars: The Last Jedi</td>\n",
       "      <td>bv</td>\n",
       "      <td>1.332600e+09</td>\n",
       "      <td>Star Wars: The Last Jedi</td>\n",
       "      <td>2017</td>\n",
       "      <td>Action,Adventure,Fantasy</td>\n",
       "      <td>0</td>\n",
       "      <td>1</td>\n",
       "      <td>0</td>\n",
       "      <td>0</td>\n",
       "      <td>0</td>\n",
       "      <td>1</td>\n",
       "      <td>0</td>\n",
       "      <td>0</td>\n",
       "      <td>0</td>\n",
       "      <td>0</td>\n",
       "      <td>0</td>\n",
       "      <td>0</td>\n",
       "      <td>0</td>\n",
       "      <td>0</td>\n",
       "      <td>0</td>\n",
       "      <td>0</td>\n",
       "      <td>0</td>\n",
       "      <td>0</td>\n",
       "      <td>0</td>\n",
       "      <td>1</td>\n",
       "      <td>0</td>\n",
       "      <td>0</td>\n",
       "      <td>0</td>\n",
       "      <td>0</td>\n",
       "      <td>0</td>\n",
       "      <td>0</td>\n",
       "      <td>0</td>\n",
       "    </tr>\n",
       "    <tr>\n",
       "      <td>Jurassic World: Fallen Kingdom</td>\n",
       "      <td>uni</td>\n",
       "      <td>1.309500e+09</td>\n",
       "      <td>Jurassic World: Fallen Kingdom</td>\n",
       "      <td>2018</td>\n",
       "      <td>Action,Adventure,Sci-Fi</td>\n",
       "      <td>0</td>\n",
       "      <td>1</td>\n",
       "      <td>0</td>\n",
       "      <td>0</td>\n",
       "      <td>0</td>\n",
       "      <td>0</td>\n",
       "      <td>0</td>\n",
       "      <td>0</td>\n",
       "      <td>0</td>\n",
       "      <td>0</td>\n",
       "      <td>0</td>\n",
       "      <td>0</td>\n",
       "      <td>0</td>\n",
       "      <td>0</td>\n",
       "      <td>0</td>\n",
       "      <td>0</td>\n",
       "      <td>0</td>\n",
       "      <td>0</td>\n",
       "      <td>0</td>\n",
       "      <td>1</td>\n",
       "      <td>0</td>\n",
       "      <td>0</td>\n",
       "      <td>0</td>\n",
       "      <td>0</td>\n",
       "      <td>0</td>\n",
       "      <td>1</td>\n",
       "      <td>0</td>\n",
       "    </tr>\n",
       "    <tr>\n",
       "      <td>Incredibles 2</td>\n",
       "      <td>bv</td>\n",
       "      <td>1.242800e+09</td>\n",
       "      <td>Incredibles 2</td>\n",
       "      <td>2018</td>\n",
       "      <td>Action,Adventure,Animation</td>\n",
       "      <td>0</td>\n",
       "      <td>1</td>\n",
       "      <td>0</td>\n",
       "      <td>0</td>\n",
       "      <td>0</td>\n",
       "      <td>0</td>\n",
       "      <td>0</td>\n",
       "      <td>0</td>\n",
       "      <td>0</td>\n",
       "      <td>0</td>\n",
       "      <td>0</td>\n",
       "      <td>1</td>\n",
       "      <td>0</td>\n",
       "      <td>0</td>\n",
       "      <td>0</td>\n",
       "      <td>0</td>\n",
       "      <td>0</td>\n",
       "      <td>0</td>\n",
       "      <td>0</td>\n",
       "      <td>1</td>\n",
       "      <td>0</td>\n",
       "      <td>0</td>\n",
       "      <td>0</td>\n",
       "      <td>0</td>\n",
       "      <td>0</td>\n",
       "      <td>0</td>\n",
       "      <td>0</td>\n",
       "    </tr>\n",
       "    <tr>\n",
       "      <td>Captain America: Civil War</td>\n",
       "      <td>bv</td>\n",
       "      <td>1.153300e+09</td>\n",
       "      <td>Captain America: Civil War</td>\n",
       "      <td>2016</td>\n",
       "      <td>Action,Adventure,Sci-Fi</td>\n",
       "      <td>0</td>\n",
       "      <td>1</td>\n",
       "      <td>0</td>\n",
       "      <td>0</td>\n",
       "      <td>0</td>\n",
       "      <td>0</td>\n",
       "      <td>0</td>\n",
       "      <td>0</td>\n",
       "      <td>0</td>\n",
       "      <td>0</td>\n",
       "      <td>0</td>\n",
       "      <td>0</td>\n",
       "      <td>0</td>\n",
       "      <td>0</td>\n",
       "      <td>0</td>\n",
       "      <td>0</td>\n",
       "      <td>0</td>\n",
       "      <td>0</td>\n",
       "      <td>0</td>\n",
       "      <td>1</td>\n",
       "      <td>0</td>\n",
       "      <td>0</td>\n",
       "      <td>0</td>\n",
       "      <td>0</td>\n",
       "      <td>0</td>\n",
       "      <td>1</td>\n",
       "      <td>0</td>\n",
       "    </tr>\n",
       "  </tbody>\n",
       "</table>\n",
       "</div>"
      ],
      "text/plain": [
       "                               studio   Total_gross  \\\n",
       "title                                                 \n",
       "Black Panther                      bv  1.347000e+09   \n",
       "Star Wars: The Last Jedi           bv  1.332600e+09   \n",
       "Jurassic World: Fallen Kingdom    uni  1.309500e+09   \n",
       "Incredibles 2                      bv  1.242800e+09   \n",
       "Captain America: Civil War         bv  1.153300e+09   \n",
       "\n",
       "                                                 primary_title  start_year  \\\n",
       "title                                                                        \n",
       "Black Panther                                    Black Panther        2018   \n",
       "Star Wars: The Last Jedi              Star Wars: The Last Jedi        2017   \n",
       "Jurassic World: Fallen Kingdom  Jurassic World: Fallen Kingdom        2018   \n",
       "Incredibles 2                                    Incredibles 2        2018   \n",
       "Captain America: Civil War          Captain America: Civil War        2016   \n",
       "\n",
       "                                                    genres  sport  adventure  \\\n",
       "title                                                                          \n",
       "Black Panther                      Action,Adventure,Sci-Fi      0          1   \n",
       "Star Wars: The Last Jedi          Action,Adventure,Fantasy      0          1   \n",
       "Jurassic World: Fallen Kingdom     Action,Adventure,Sci-Fi      0          1   \n",
       "Incredibles 2                   Action,Adventure,Animation      0          1   \n",
       "Captain America: Civil War         Action,Adventure,Sci-Fi      0          1   \n",
       "\n",
       "                                history  romance  talk-show  fantasy  drama  \\\n",
       "title                                                                         \n",
       "Black Panther                         0        0          0        0      0   \n",
       "Star Wars: The Last Jedi              0        0          0        1      0   \n",
       "Jurassic World: Fallen Kingdom        0        0          0        0      0   \n",
       "Incredibles 2                         0        0          0        0      0   \n",
       "Captain America: Civil War            0        0          0        0      0   \n",
       "\n",
       "                                documentary  musical  horror  short  \\\n",
       "title                                                                 \n",
       "Black Panther                             0        0       0      0   \n",
       "Star Wars: The Last Jedi                  0        0       0      0   \n",
       "Jurassic World: Fallen Kingdom            0        0       0      0   \n",
       "Incredibles 2                             0        0       0      0   \n",
       "Captain America: Civil War                0        0       0      0   \n",
       "\n",
       "                                animation  thriller  comedy  adult  western  \\\n",
       "title                                                                         \n",
       "Black Panther                           0         0       0      0        0   \n",
       "Star Wars: The Last Jedi                0         0       0      0        0   \n",
       "Jurassic World: Fallen Kingdom          0         0       0      0        0   \n",
       "Incredibles 2                           1         0       0      0        0   \n",
       "Captain America: Civil War              0         0       0      0        0   \n",
       "\n",
       "                                reality-tv  war  biography  action  crime  \\\n",
       "title                                                                       \n",
       "Black Panther                            0    0          0       1      0   \n",
       "Star Wars: The Last Jedi                 0    0          0       1      0   \n",
       "Jurassic World: Fallen Kingdom           0    0          0       1      0   \n",
       "Incredibles 2                            0    0          0       1      0   \n",
       "Captain America: Civil War               0    0          0       1      0   \n",
       "\n",
       "                                game-show  music  family  news  sci-fi  \\\n",
       "title                                                                    \n",
       "Black Panther                           0      0       0     0       1   \n",
       "Star Wars: The Last Jedi                0      0       0     0       0   \n",
       "Jurassic World: Fallen Kingdom          0      0       0     0       1   \n",
       "Incredibles 2                           0      0       0     0       0   \n",
       "Captain America: Civil War              0      0       0     0       1   \n",
       "\n",
       "                                mystery  \n",
       "title                                    \n",
       "Black Panther                         0  \n",
       "Star Wars: The Last Jedi              0  \n",
       "Jurassic World: Fallen Kingdom        0  \n",
       "Incredibles 2                         0  \n",
       "Captain America: Civil War            0  "
      ]
     },
     "execution_count": 16,
     "metadata": {},
     "output_type": "execute_result"
    }
   ],
   "source": [
    "# dropping unneeded columns\n",
    "jsg = joined_studio_genres_df.drop(columns = ['index', 'tconst', 'original_title', 'runtime_minutes'])\n",
    "\n",
    "# setting the index\n",
    "jsg.set_index(\"title\", inplace=True)\n",
    "display(jsg.shape)\n",
    "\n",
    "pd.set_option('display.max_columns', None) # expand to inspect all columns\n",
    "jsg.head()"
   ]
  },
  {
   "cell_type": "markdown",
   "metadata": {},
   "source": [
    "***"
   ]
  },
  {
   "cell_type": "markdown",
   "metadata": {},
   "source": [
    "<h2 align='center'><font color='coral'>Earnings by Genre</font></h2>"
   ]
  },
  {
   "cell_type": "markdown",
   "metadata": {},
   "source": [
    "### How much money does each genre make for top studios?"
   ]
  },
  {
   "cell_type": "code",
   "execution_count": 17,
   "metadata": {},
   "outputs": [
    {
     "data": {
      "text/plain": [
       "20506547200.0"
      ]
     },
     "execution_count": 17,
     "metadata": {},
     "output_type": "execute_result"
    }
   ],
   "source": [
    "# getting the sum of `Total_gross` where `drama` is equal to 1 \n",
    "jsg[jsg['drama'] == 1]['Total_gross'].sum()"
   ]
  },
  {
   "cell_type": "code",
   "execution_count": 18,
   "metadata": {},
   "outputs": [
    {
     "data": {
      "text/plain": [
       "5125591500.0"
      ]
     },
     "execution_count": 18,
     "metadata": {},
     "output_type": "execute_result"
    }
   ],
   "source": [
    "# repeating for 2018, only\n",
    "jsg[(jsg['drama'] == 1) & (jsg['start_year'] == 2018)]['Total_gross'].sum()"
   ]
  },
  {
   "cell_type": "markdown",
   "metadata": {},
   "source": [
    "### Building the tuple list for 2016-2018"
   ]
  },
  {
   "cell_type": "code",
   "execution_count": 19,
   "metadata": {},
   "outputs": [],
   "source": [
    "# using our list of all genre column names 'genre_names'\n",
    "# genre_names = [col for col in jsg.columns[6:]]\n",
    "\n",
    "# an equal - length list of all genre `Total_gross` sums value 1\n",
    "genre_gross = [jsg[jsg[g] == 1]['Total_gross'].sum() for g in genre_names]\n",
    "genre_gross_18 = [jsg[(jsg[g] == 1) & (jsg['start_year'] == 2018)]['Total_gross'\n",
    "                                                       ].sum() for g in genre_names]\n",
    "\n",
    "# bringing the two lists together as tuples\n",
    "genre_gross_tuples = list(zip(genre_names, genre_gross))\n",
    "genre_gross_tuples_18 = list(zip(genre_names, genre_gross_18))"
   ]
  },
  {
   "cell_type": "markdown",
   "metadata": {},
   "source": [
    "#### Converting the list to a dataframe and visualizing"
   ]
  },
  {
   "cell_type": "code",
   "execution_count": 20,
   "metadata": {},
   "outputs": [
    {
     "data": {
      "image/png": "[encoded data removed]",
      "text/plain": [
       "<Figure size 1512x936 with 1 Axes>"
      ]
     },
     "metadata": {
      "needs_background": "light"
     },
     "output_type": "display_data"
    }
   ],
   "source": [
    "# converting list of tuples to dataframe\n",
    "ggt = pd.DataFrame(genre_gross_tuples, columns = ['genre_names' , 'genre_gross'])\n",
    "ggt18 = pd.DataFrame(genre_gross_tuples_18, columns = ['genre_names' , 'genre_gross_18'])\n",
    "\n",
    "# defining axes\n",
    "x1 = ggt.genre_names\n",
    "x2 = ggt18.genre_names\n",
    "y1 = ggt.genre_gross\n",
    "y2 = ggt18.genre_gross_18\n",
    "\n",
    "# creating the figure\n",
    "plt.figure(figsize=(21, 13))\n",
    "width = 0.5       # the width of the bars\n",
    "plt.grid(b=True, which='major', color='#888888', linestyle='-.')\n",
    "plt.minorticks_on()\n",
    "plt.barh(x1, y1, width, color='orange', align='center', alpha=.65,  label = '2016-18')\n",
    "plt.barh(x2, y2, -width, color='teal', align='edge', alpha=.65,  label = '2018')\n",
    "\n",
    "plt.ylim(plt.ylim()[::-1])\n",
    "\n",
    "# defining labels\n",
    "plt.ylabel('Genres', fontsize=15)\n",
    "plt.yticks(fontsize=15, rotation=9)\n",
    "plt.xlabel('Total Gross', fontsize=15)\n",
    "plt.title(f'Gross Earnings by Genre\\n(in 10s-of-Billions)', fontsize=15)\n",
    "\n",
    "plt.legend()\n",
    "plt.show()\n"
   ]
  },
  {
   "cell_type": "markdown",
   "metadata": {},
   "source": [
    "Adventure, action, and comedy take on significance, when the focus is placed on earnings. How do studios balance that."
   ]
  },
  {
   "cell_type": "markdown",
   "metadata": {},
   "source": [
    "### What genres of movies are most often used in top - studio productions?"
   ]
  },
  {
   "cell_type": "code",
   "execution_count": 21,
   "metadata": {},
   "outputs": [],
   "source": [
    "# using our list of all genre column names 'genre_names'\n",
    "# genre_names = [col for col in jsg.columns[6:]]\n",
    "\n",
    "# an equal - length list of all genre counts for value 1\n",
    "freq_counts = [len(jsg[jsg[g] == 1]) for g in genre_names]\n",
    "freq_counts_18 = [len((jsg[(jsg[g] == 1\n",
    "                           ) & (jsg['start_year'] == 2018\n",
    "                               )]\n",
    "                      )\n",
    "                     ) for g in genre_names]\n",
    "\n",
    "# bringing the lists together as tuples\n",
    "studio_top_gen_freq = list(zip(genre_names, freq_counts))\n",
    "studio_top_gen_freq_18 = list(zip(genre_names, freq_counts_18))\n"
   ]
  },
  {
   "cell_type": "markdown",
   "metadata": {},
   "source": [
    "#### Converting the list to a dataframe and visualizing"
   ]
  },
  {
   "cell_type": "code",
   "execution_count": 22,
   "metadata": {},
   "outputs": [
    {
     "data": {
      "image/png": "[encoded data removed]",
      "text/plain": [
       "<Figure size 576x576 with 1 Axes>"
      ]
     },
     "metadata": {
      "needs_background": "light"
     },
     "output_type": "display_data"
    }
   ],
   "source": [
    "# limiting output to the top - ten for each analysis period\n",
    "stgf = pd.DataFrame(studio_top_gen_freq, columns = ['genre_names' , 'freq_counts']\n",
    "                   ).sort_values(by='freq_counts', ascending=False).head(10)\n",
    "stgf_18 = pd.DataFrame(studio_top_gen_freq_18, columns = ['genre_names' , 'freq_counts_18']\n",
    "                      ).sort_values(by='freq_counts_18', ascending=False).head(10)\n",
    "\n",
    "# defining axes\n",
    "x1 = stgf.genre_names\n",
    "x2 = stgf_18.genre_names\n",
    "y1 = stgf.freq_counts\n",
    "y2 = stgf_18.freq_counts_18\n",
    "\n",
    "# creating the figure\n",
    "plt.figure(figsize=(8, 8))\n",
    "width = 0.45       # the width of the bars\n",
    "plt.grid(b=True, which='major', color='#888888', linestyle='-.')\n",
    "plt.minorticks_on()\n",
    "plt.barh(x1, y1, width, color='teal', align='edge', alpha=.65,  label = '2016-18')\n",
    "plt.barh(x2, y2, -width, color='orange', align='center', alpha=.65,  label = '2018')\n",
    "plt.ylim(plt.ylim()[::-1])\n",
    "\n",
    "# defining labels\n",
    "plt.ylabel('Genres', fontsize=10)\n",
    "plt.yticks(fontsize=13, rotation=9)\n",
    "plt.xlabel('Title Count', fontsize=15)\n",
    "plt.title(f'Number of Movies by Genre', fontsize=15)\n",
    "\n",
    "plt.legend()\n",
    "plt.show()\n"
   ]
  },
  {
   "cell_type": "markdown",
   "metadata": {},
   "source": [
    "Documentaries are not nearly as prevalent a genre among top studios.\n",
    "\n",
    "### Looking for changes at the top"
   ]
  },
  {
   "cell_type": "markdown",
   "metadata": {},
   "source": [
    "***"
   ]
  },
  {
   "cell_type": "markdown",
   "metadata": {},
   "source": [
    "<h2 align='center'><font color='Coral'>Recommendations</font></h2>"
   ]
  },
  {
   "cell_type": "markdown",
   "metadata": {},
   "source": [
    "***"
   ]
  },
  {
   "cell_type": "markdown",
   "metadata": {},
   "source": [
    "There seems to be a formula at work, in the movie business. The ratio of genres produced by top studios seems to have remained fairly constant. We can verify that by analyzing more closely central tendencies of top studios, including budget - spend and peak release cycles by genre.\n",
    "\n",
    "Of course, there were a number of tables we did not yet explore. A more comprehensive reviews database could be valuable. Current resources do not indicate which reviews were provided prior to home release, or when income was generated, facts which make them less useful to predictive investigation.\n",
    "\n",
    "We do see a strong and rewarded showing by sequels, series, and fantasy (whether live - action, animated, or computer - generated. This is good news, for an industry that is currently increasing its footprint accross platforms, from theaters and festivals to streaming services.\n",
    "\n",
    "Adventure, action, comedy, and drama seem to be the ways to go. ROI consideration could be informative. It takes a lot of budget to make a blockbuster, but there do seem to be sweet sposts where a relatively modest investment is more likely than not to result in a comfortable return.\n",
    "\n",
    "For big swings, we need to determine how to deal with outliers. Many of the movies that made the most cost the most."
   ]
  },
  {
   "cell_type": "code",
   "execution_count": 23,
   "metadata": {},
   "outputs": [],
   "source": [
    "cur.close()\n",
    "conn.close()"
   ]
  },
  {
   "cell_type": "code",
   "execution_count": null,
   "metadata": {},
   "outputs": [],
   "source": []
  }
 ],
 "metadata": {
  "kernelspec": {
   "display_name": "Python [conda env:learn-env] *",
   "language": "python",
   "name": "conda-env-learn-env-py"
  },
  "language_info": {
   "codemirror_mode": {
    "name": "ipython",
    "version": 3
   },
   "file_extension": ".py",
   "mimetype": "text/x-python",
   "name": "python",
   "nbconvert_exporter": "python",
   "pygments_lexer": "ipython3",
   "version": "3.6.9"
  }
 },
 "nbformat": 4,
 "nbformat_minor": 2
}
