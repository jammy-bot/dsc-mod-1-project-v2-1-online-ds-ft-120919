{
 "cells": [
  {
   "cell_type": "markdown",
   "metadata": {},
   "source": [
    "##### data conditioning notebook\n",
    "\n",
    "* Student name: Jamel Dargan\n",
    "* Student pace: online full-time\n",
    "* Scheduled project review date/time: \n",
    "* Instructor name: Rafael Carrasco\n",
    "* Blog post URL: DRAFT https://medium.com/@jameld.pro/data-baby-e6b493f3fa5a\n"
   ]
  },
  {
   "cell_type": "markdown",
   "metadata": {},
   "source": [
    "# Data Conditioning"
   ]
  },
  {
   "cell_type": "markdown",
   "metadata": {},
   "source": [
    "## Import necessary libraries"
   ]
  },
  {
   "cell_type": "code",
   "execution_count": 1,
   "metadata": {},
   "outputs": [],
   "source": [
    "import os\n",
    "\n",
    "import numpy as np\n",
    "import pandas as pd\n",
    "\n",
    "from glob import glob"
   ]
  },
  {
   "cell_type": "code",
   "execution_count": 2,
   "metadata": {},
   "outputs": [
    {
     "name": "stdout",
     "output_type": "stream",
     "text": [
      "c:\\users\\jd\\flatiron\\project01\\dsc-mod-1-project-v2-1-online-ds-ft-120919 \n",
      "\n"
     ]
    }
   ],
   "source": [
    "# set the current working directory\n",
    "os.chdir(\"c:/users/jd/flatiron/project01/dsc-mod-1-project-v2-1-online-ds-ft-120919/\")\n",
    "\n",
    "# print the current working directory\n",
    "print(os.getcwd(), '\\n')\n"
   ]
  },
  {
   "cell_type": "markdown",
   "metadata": {},
   "source": [
    "## Inspect the file list"
   ]
  },
  {
   "cell_type": "code",
   "execution_count": 3,
   "metadata": {},
   "outputs": [
    {
     "data": {
      "text/plain": [
       "['zippedData\\\\bom.movie_gross.csv.gz',\n",
       " 'zippedData\\\\imdb.name.basics.csv.gz',\n",
       " 'zippedData\\\\imdb.title.akas.csv.gz',\n",
       " 'zippedData\\\\imdb.title.basics.csv.gz',\n",
       " 'zippedData\\\\imdb.title.crew.csv.gz',\n",
       " 'zippedData\\\\imdb.title.principals.csv.gz',\n",
       " 'zippedData\\\\imdb.title.ratings.csv.gz',\n",
       " 'zippedData\\\\rt.movie_info.tsv.gz',\n",
       " 'zippedData\\\\rt.reviews.tsv.gz',\n",
       " 'zippedData\\\\tmdb.movies.csv.gz',\n",
       " 'zippedData\\\\tn.movie_budgets.csv.gz']"
      ]
     },
     "execution_count": 3,
     "metadata": {},
     "output_type": "execute_result"
    }
   ],
   "source": [
    "# get the list of files using glob\n",
    "csv_files = glob(\"zippedData/*gz\")\n",
    "\n",
    "csv_files"
   ]
  },
  {
   "cell_type": "markdown",
   "metadata": {},
   "source": [
    "<h3 align='center'><font color='coral'>LOAD FILES AS DATAFRAMES</font></h3>"
   ]
  },
  {
   "cell_type": "code",
   "execution_count": 4,
   "metadata": {},
   "outputs": [
    {
     "data": {
      "text/plain": [
       "dict_keys(['bom_movie_gross', 'imdb_name_basics', 'imdb_title_akas', 'imdb_title_basics', 'imdb_title_crew', 'imdb_title_principals', 'imdb_title_ratings', 'rt_movie_info', 'rt_reviews', 'tmdb_movies', 'tn_movie_budgets'])"
      ]
     },
     "metadata": {},
     "output_type": "display_data"
    }
   ],
   "source": [
    "# create a dictionary with keys as csv/ tsv filename (cleaned)\n",
    "# values as their respective dataframe names\n",
    "csv_files_dict = {}\n",
    "\n",
    "# populate the dictionary using a for loop\n",
    "for filename in csv_files:\n",
    "    # clean the file names\n",
    "    filename_cleaned = os.path.basename(filename.replace(\n",
    "    \".csv\", \"\").replace(\".tsv\", \"\").replace(\".gz\", \"\").replace(\"-\", \"_\").replace(\".\", \"_\"))\n",
    "    if \".csv\" in str(filename):\n",
    "        filename_df = pd.read_csv(filename, compression='gzip', header=0, index_col=0)\n",
    "    if \".tsv\" in str(filename): # eg., `rt.movie_info.tsv`\n",
    "        try:\n",
    "            filename_df = pd.read_csv(\n",
    "                filename, compression='gzip', sep=\"\\t\", index_col=0)\n",
    "        except: # i.e., `rt.reviews.tsv`\n",
    "            filename_df = pd.read_csv(\n",
    "                filename, compression='gzip', sep=\"\\t\", encoding=\"latin-1\", index_col=0)\n",
    "    csv_files_dict[filename_cleaned] = filename_df #use cleaned file names\n",
    "    # end loop\n",
    "\n",
    "# view the created dictionaries keys (cleaned file names)\n",
    "display(csv_files_dict.keys())"
   ]
  },
  {
   "cell_type": "code",
   "execution_count": 5,
   "metadata": {},
   "outputs": [
    {
     "data": {
      "text/html": [
       "<div>\n",
       "<style scoped>\n",
       "    .dataframe tbody tr th:only-of-type {\n",
       "        vertical-align: middle;\n",
       "    }\n",
       "\n",
       "    .dataframe tbody tr th {\n",
       "        vertical-align: top;\n",
       "    }\n",
       "\n",
       "    .dataframe thead th {\n",
       "        text-align: right;\n",
       "    }\n",
       "</style>\n",
       "<table border=\"1\" class=\"dataframe\">\n",
       "  <thead>\n",
       "    <tr style=\"text-align: right;\">\n",
       "      <th></th>\n",
       "      <th>primary_title</th>\n",
       "      <th>original_title</th>\n",
       "      <th>start_year</th>\n",
       "      <th>runtime_minutes</th>\n",
       "      <th>genres</th>\n",
       "    </tr>\n",
       "    <tr>\n",
       "      <th>tconst</th>\n",
       "      <th></th>\n",
       "      <th></th>\n",
       "      <th></th>\n",
       "      <th></th>\n",
       "      <th></th>\n",
       "    </tr>\n",
       "  </thead>\n",
       "  <tbody>\n",
       "  </tbody>\n",
       "</table>\n",
       "</div>"
      ],
      "text/plain": [
       "Empty DataFrame\n",
       "Columns: [primary_title, original_title, start_year, runtime_minutes, genres]\n",
       "Index: []"
      ]
     },
     "metadata": {},
     "output_type": "display_data"
    }
   ],
   "source": [
    "# test a dataframe from csv_files_dict\n",
    "# assign it the variable `current_df`\n",
    "# in the format: current_df = csv_files_dict[`df`]\n",
    "current_df = csv_files_dict['imdb_title_basics']\n",
    "\n",
    "# view only the current dataframe column names\n",
    "display(current_df.iloc[:0,])\n"
   ]
  },
  {
   "cell_type": "markdown",
   "metadata": {},
   "source": [
    "<h3 align='center'><font color='coral'>LOAD DATAFRAMES TO SQLITE DATABASE</font></h3>"
   ]
  },
  {
   "cell_type": "markdown",
   "metadata": {},
   "source": [
    "## Load files into a sqlite database."
   ]
  },
  {
   "cell_type": "code",
   "execution_count": 6,
   "metadata": {},
   "outputs": [],
   "source": [
    "import sqlite3"
   ]
  },
  {
   "cell_type": "code",
   "execution_count": 7,
   "metadata": {},
   "outputs": [],
   "source": [
    "# create a sqlite file in the current directory\n",
    "conn = sqlite3.connect(\"movies_db.sqlite\")"
   ]
  },
  {
   "cell_type": "markdown",
   "metadata": {},
   "source": [
    "#### One-off example, to condition a nested dataframe into a sqlite table"
   ]
  },
  {
   "cell_type": "code",
   "execution_count": 8,
   "metadata": {},
   "outputs": [],
   "source": [
    "# this converts a dataframe to a sqlite table, with the name 'tmdb_movies'\n",
    "# enabling sql to create the schema\n",
    "\n",
    "#csv_files_dict['tmdb_movies'].to_sql(\"tmdb_movies\", conn)"
   ]
  },
  {
   "cell_type": "markdown",
   "metadata": {},
   "source": [
    "### Create a function to automate this conversion"
   ]
  },
  {
   "cell_type": "code",
   "execution_count": 9,
   "metadata": {},
   "outputs": [],
   "source": [
    "# Write a function that converts a nested dataframe to a sqlite table\n",
    "def create_sql_table_from_df(df, name, conn):\n",
    "    # Use try except\n",
    "    # it will try to make a table\n",
    "    # if a table exists the function will execute the except part\n",
    "    try:\n",
    "        df.to_sql(name, conn, if_exists='replace')\n",
    "        print(f\"Created table {name}\")\n",
    "    \n",
    "    # if the table exists it will tell you, and won't cause an error\n",
    "    except Exception as e:\n",
    "        print(f\"could not make table {name}\")\n",
    "        print(e)"
   ]
  },
  {
   "cell_type": "code",
   "execution_count": 10,
   "metadata": {},
   "outputs": [
    {
     "name": "stdout",
     "output_type": "stream",
     "text": [
      "Created table bom_movie_gross\n",
      "Created table imdb_name_basics\n",
      "Created table imdb_title_akas\n",
      "Created table imdb_title_basics\n",
      "Created table imdb_title_crew\n",
      "Created table imdb_title_principals\n",
      "Created table imdb_title_ratings\n",
      "Created table rt_movie_info\n",
      "Created table rt_reviews\n",
      "Created table tmdb_movies\n",
      "Created table tn_movie_budgets\n"
     ]
    }
   ],
   "source": [
    "# Looping through the dictionary of keys and dataframes\n",
    "# We can create the sql tables programmatically\n",
    "\n",
    "for name, table in csv_files_dict.items():\n",
    "    create_sql_table_from_df(table, name, conn)"
   ]
  },
  {
   "cell_type": "code",
   "execution_count": 11,
   "metadata": {},
   "outputs": [
    {
     "data": {
      "text/plain": [
       "[('clean_bom_tbl',),\n",
       " ('bom_movie_gross',),\n",
       " ('imdb_name_basics',),\n",
       " ('imdb_title_akas',),\n",
       " ('imdb_title_basics',),\n",
       " ('imdb_title_crew',),\n",
       " ('imdb_title_principals',),\n",
       " ('imdb_title_ratings',),\n",
       " ('rt_movie_info',),\n",
       " ('rt_reviews',),\n",
       " ('tmdb_movies',),\n",
       " ('tn_movie_budgets',)]"
      ]
     },
     "execution_count": 11,
     "metadata": {},
     "output_type": "execute_result"
    }
   ],
   "source": [
    "# view names of all tables in the sql database\n",
    "conn.execute(\"select name from sqlite_master where type='table';\").fetchall()"
   ]
  },
  {
   "cell_type": "code",
   "execution_count": 12,
   "metadata": {},
   "outputs": [
    {
     "name": "stdout",
     "output_type": "stream",
     "text": [
      "[(1, 'Dec 18, 2009', 'Avatar', '$425,000,000', '$760,507,625', '$2,776,345,279'), (2, 'May 20, 2011', 'Pirates of the Caribbean: On Stranger Tides', '$410,600,000', '$241,063,875', '$1,045,663,875')]\n"
     ]
    }
   ],
   "source": [
    "# test query of a sql table\n",
    "cur = conn.cursor()\n",
    "print(cur.execute('''SELECT * FROM tn_movie_budgets LIMIT 2;''').fetchall())"
   ]
  },
  {
   "cell_type": "code",
   "execution_count": 13,
   "metadata": {},
   "outputs": [
    {
     "data": {
      "text/html": [
       "<div>\n",
       "<style scoped>\n",
       "    .dataframe tbody tr th:only-of-type {\n",
       "        vertical-align: middle;\n",
       "    }\n",
       "\n",
       "    .dataframe tbody tr th {\n",
       "        vertical-align: top;\n",
       "    }\n",
       "\n",
       "    .dataframe thead th {\n",
       "        text-align: right;\n",
       "    }\n",
       "</style>\n",
       "<table border=\"1\" class=\"dataframe\">\n",
       "  <thead>\n",
       "    <tr style=\"text-align: right;\">\n",
       "      <th></th>\n",
       "      <th>id</th>\n",
       "      <th>synopsis</th>\n",
       "      <th>rating</th>\n",
       "      <th>genre</th>\n",
       "      <th>director</th>\n",
       "      <th>writer</th>\n",
       "      <th>theater_date</th>\n",
       "      <th>dvd_date</th>\n",
       "      <th>currency</th>\n",
       "      <th>box_office</th>\n",
       "      <th>runtime</th>\n",
       "      <th>studio</th>\n",
       "    </tr>\n",
       "  </thead>\n",
       "  <tbody>\n",
       "    <tr>\n",
       "      <td>0</td>\n",
       "      <td>1</td>\n",
       "      <td>This gritty, fast-paced, and innovative police...</td>\n",
       "      <td>R</td>\n",
       "      <td>Action and Adventure|Classics|Drama</td>\n",
       "      <td>William Friedkin</td>\n",
       "      <td>Ernest Tidyman</td>\n",
       "      <td>Oct 9, 1971</td>\n",
       "      <td>Sep 25, 2001</td>\n",
       "      <td>None</td>\n",
       "      <td>None</td>\n",
       "      <td>104 minutes</td>\n",
       "      <td>None</td>\n",
       "    </tr>\n",
       "    <tr>\n",
       "      <td>1</td>\n",
       "      <td>3</td>\n",
       "      <td>New York City, not-too-distant-future: Eric Pa...</td>\n",
       "      <td>R</td>\n",
       "      <td>Drama|Science Fiction and Fantasy</td>\n",
       "      <td>David Cronenberg</td>\n",
       "      <td>David Cronenberg|Don DeLillo</td>\n",
       "      <td>Aug 17, 2012</td>\n",
       "      <td>Jan 1, 2013</td>\n",
       "      <td>$</td>\n",
       "      <td>600,000</td>\n",
       "      <td>108 minutes</td>\n",
       "      <td>Entertainment One</td>\n",
       "    </tr>\n",
       "  </tbody>\n",
       "</table>\n",
       "</div>"
      ],
      "text/plain": [
       "   id                                           synopsis rating  \\\n",
       "0   1  This gritty, fast-paced, and innovative police...      R   \n",
       "1   3  New York City, not-too-distant-future: Eric Pa...      R   \n",
       "\n",
       "                                 genre          director  \\\n",
       "0  Action and Adventure|Classics|Drama  William Friedkin   \n",
       "1    Drama|Science Fiction and Fantasy  David Cronenberg   \n",
       "\n",
       "                         writer  theater_date      dvd_date currency  \\\n",
       "0                Ernest Tidyman   Oct 9, 1971  Sep 25, 2001     None   \n",
       "1  David Cronenberg|Don DeLillo  Aug 17, 2012   Jan 1, 2013        $   \n",
       "\n",
       "  box_office      runtime             studio  \n",
       "0       None  104 minutes               None  \n",
       "1    600,000  108 minutes  Entertainment One  "
      ]
     },
     "execution_count": 13,
     "metadata": {},
     "output_type": "execute_result"
    }
   ],
   "source": [
    "# test query a sql table and wrap the results as a pandas dataframe\n",
    "cur.execute('''SELECT * FROM rt_movie_info LIMIT 2;''')\n",
    "df = pd.DataFrame(cur.fetchall())\n",
    "df.columns = [x[0] for x in cur.description]\n",
    "df.head()"
   ]
  },
  {
   "cell_type": "markdown",
   "metadata": {},
   "source": [
    "## Add sqlite DB to a .gitignore file (file is too large to push to github)"
   ]
  },
  {
   "cell_type": "code",
   "execution_count": 14,
   "metadata": {},
   "outputs": [],
   "source": [
    "# Now create a .gitignore file that will ignore unzipped and sqlite files\n",
    "# files larger than 100 MB cannot be pushed to github from your computer\n",
    "\n",
    "# create the file here in jupyter and open it from jupyter\n",
    "with open(\"./.gitignore\", \"w+\") as f:\n",
    "    f.write(\"*.sqlite\") # put files you want to ignore here\n",
    "    f.write(\"\\n\") # insert a new line after each file\n",
    "    f.write(\"zippedData/\")\n",
    "    f.write(\"\\n\")\n",
    "    f.write(\"zippedData/*.csv\")\n",
    "    f.write(\"\\n\")\n",
    "    f.write(\"zippedData/*.gz\")"
   ]
  },
  {
   "cell_type": "code",
   "execution_count": 15,
   "metadata": {},
   "outputs": [],
   "source": [
    "# closing the cursor and the connection\n",
    "cur.close()\n",
    "conn.close()"
   ]
  },
  {
   "cell_type": "markdown",
   "metadata": {},
   "source": [
    "### All tables are now in the sqlite datbase `movies_db.sqlite` and accessible via pandas as dataframes.\n",
    "\n",
    "### Continue to the Clean and Transform notebook"
   ]
  },
  {
   "cell_type": "code",
   "execution_count": null,
   "metadata": {},
   "outputs": [],
   "source": []
  }
 ],
 "metadata": {
  "kernelspec": {
   "display_name": "Python [conda env:learn-env] *",
   "language": "python",
   "name": "conda-env-learn-env-py"
  },
  "language_info": {
   "codemirror_mode": {
    "name": "ipython",
    "version": 3
   },
   "file_extension": ".py",
   "mimetype": "text/x-python",
   "name": "python",
   "nbconvert_exporter": "python",
   "pygments_lexer": "ipython3",
   "version": "3.6.9"
  }
 },
 "nbformat": 4,
 "nbformat_minor": 2
}
